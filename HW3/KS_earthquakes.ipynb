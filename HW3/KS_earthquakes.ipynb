{
 "cells": [
  {
   "cell_type": "code",
   "execution_count": 1,
   "metadata": {
    "ExecuteTime": {
     "end_time": "2019-09-09T01:40:01.895798Z",
     "start_time": "2019-09-09T01:40:01.890474Z"
    },
    "colab": {
     "base_uri": "https://localhost:8080/",
     "height": 34
    },
    "id": "LS78mdVthXrz",
    "outputId": "92c6507b-0221-4383-87ae-ebff8c8cbde0"
   },
   "outputs": [],
   "source": [
    "import numpy as np\n",
    "import pandas as pd\n",
    "import scipy as sp\n",
    "import astropy as ap\n",
    "import matplotlib.pyplot as plt\n",
    "import scipy.stats\n",
    "import astropy.time\n",
    "import astropy.units as u\n",
    "import astropy.constants as c\n",
    "\n",
    "style = \"https://raw.githubusercontent.com/fedhere/DSPS/master/fbb.mplstyle\"\n",
    "plt.style.use(style)"
   ]
  },
  {
   "cell_type": "markdown",
   "metadata": {
    "id": "SvIJHRyuhXr2"
   },
   "source": [
    "This homework asks you to reproduce the work in [Corral 2018](https://arxiv.org/pdf/0910.0055.pdf) which is well described, but not \"reproducible\". \n",
    "Corral 2018 uses a K-S test to show that at different magnitude scales the time gaps between earthquakes follows the same distribution. If true, this indicates that there is a consistent scaling law. \n",
    "\n",
    "The argument is a little convoluted, but it is a somewhat innovative use of the test. Corall compares the time gap between earthquakes  greater than a certain magnitude threshold with the time gaps between earthquakes above a different threshold, and finds no differences.\n",
    "\n",
    "Remind yourself exactly what the K-S test is about :\n",
    "\n",
    "    1 What is the test's Null Hypothsis that the K-S test tests?\n",
    "    \n",
    "    \n"
   ]
  },
  {
   "cell_type": "markdown",
   "metadata": {
    "id": "y8DJjYrthXr3"
   },
   "source": [
    "For the two-sample KS-test, the null hypothesis is that the two samples are from the same distribution."
   ]
  },
  {
   "cell_type": "markdown",
   "metadata": {
    "id": "V8T9XH7nhXr3"
   },
   "source": [
    "    2 What is the \"statistic\" or \"pivotal quantity\" that the test uses?\n",
    "    \n"
   ]
  },
  {
   "cell_type": "markdown",
   "metadata": {
    "ExecuteTime": {
     "end_time": "2019-09-08T21:14:09.757045Z",
     "start_time": "2019-09-08T21:14:09.753882Z"
    },
    "id": "jSSktfhAhXr4"
   },
   "source": [
    "The pivotal quantity is $d_{12} = {\\rm max}_x|C_1(x) - C_2(x)|$, where $C_1$ and $C_2$ are the cumulative distriubtions of of each sample."
   ]
  },
  {
   "cell_type": "markdown",
   "metadata": {
    "ExecuteTime": {
     "end_time": "2019-09-08T21:14:43.709157Z",
     "start_time": "2019-09-08T21:14:43.704734Z"
    },
    "id": "IYoQgG1BhXr4"
   },
   "source": [
    "    3 What does the probability distribution of this statistic depend on? \n",
    "    \n",
    "   \n"
   ]
  },
  {
   "cell_type": "markdown",
   "metadata": {
    "id": "ak74uTIrhXr5"
   },
   "source": [
    "The probability that the KS-statistic is greater than D depends on the sizes of the two samples and D."
   ]
  },
  {
   "cell_type": "code",
   "execution_count": 2,
   "metadata": {
    "ExecuteTime": {
     "end_time": "2019-09-09T01:40:02.638703Z",
     "start_time": "2019-09-09T01:40:02.454643Z"
    },
    "id": "hOEZafxahXr9"
   },
   "outputs": [
    {
     "data": {
      "text/html": [
       "<div>\n",
       "<style scoped>\n",
       "    .dataframe tbody tr th:only-of-type {\n",
       "        vertical-align: middle;\n",
       "    }\n",
       "\n",
       "    .dataframe tbody tr th {\n",
       "        vertical-align: top;\n",
       "    }\n",
       "\n",
       "    .dataframe thead th {\n",
       "        text-align: right;\n",
       "    }\n",
       "</style>\n",
       "<table border=\"1\" class=\"dataframe\">\n",
       "  <thead>\n",
       "    <tr style=\"text-align: right;\">\n",
       "      <th></th>\n",
       "      <th>#YYY/MM/DD</th>\n",
       "      <th>HH:mm:SS.ss</th>\n",
       "      <th>ET</th>\n",
       "      <th>GT</th>\n",
       "      <th>MAG</th>\n",
       "      <th>Unnamed: 5</th>\n",
       "      <th>M</th>\n",
       "      <th>Unnamed: 7</th>\n",
       "      <th>Unnamed: 8</th>\n",
       "      <th>Unnamed: 9</th>\n",
       "      <th>...</th>\n",
       "      <th>Q</th>\n",
       "      <th>Unnamed: 25</th>\n",
       "      <th>EVID</th>\n",
       "      <th>Unnamed: 27</th>\n",
       "      <th>Unnamed: 28</th>\n",
       "      <th>Unnamed: 29</th>\n",
       "      <th>Unnamed: 30</th>\n",
       "      <th>Unnamed: 31</th>\n",
       "      <th>NPH</th>\n",
       "      <th>NGRM</th>\n",
       "    </tr>\n",
       "  </thead>\n",
       "  <tbody>\n",
       "    <tr>\n",
       "      <th>0</th>\n",
       "      <td>1984/01/01</td>\n",
       "      <td>01:30:57.52</td>\n",
       "      <td>eq</td>\n",
       "      <td>NaN</td>\n",
       "      <td>l</td>\n",
       "      <td>2.02</td>\n",
       "      <td>c</td>\n",
       "      <td>NaN</td>\n",
       "      <td>NaN</td>\n",
       "      <td>33.246</td>\n",
       "      <td>...</td>\n",
       "      <td>17.0</td>\n",
       "      <td>NaN</td>\n",
       "      <td>NaN</td>\n",
       "      <td>NaN</td>\n",
       "      <td>NaN</td>\n",
       "      <td>NaN</td>\n",
       "      <td>NaN</td>\n",
       "      <td>NaN</td>\n",
       "      <td>NaN</td>\n",
       "      <td>NaN</td>\n",
       "    </tr>\n",
       "    <tr>\n",
       "      <th>1</th>\n",
       "      <td>1984/01/01</td>\n",
       "      <td>05:31:34.16</td>\n",
       "      <td>eq</td>\n",
       "      <td>NaN</td>\n",
       "      <td>l</td>\n",
       "      <td>2.12</td>\n",
       "      <td>c</td>\n",
       "      <td>NaN</td>\n",
       "      <td>NaN</td>\n",
       "      <td>32.945</td>\n",
       "      <td>...</td>\n",
       "      <td>42.0</td>\n",
       "      <td>NaN</td>\n",
       "      <td>NaN</td>\n",
       "      <td>NaN</td>\n",
       "      <td>NaN</td>\n",
       "      <td>NaN</td>\n",
       "      <td>NaN</td>\n",
       "      <td>NaN</td>\n",
       "      <td>NaN</td>\n",
       "      <td>NaN</td>\n",
       "    </tr>\n",
       "    <tr>\n",
       "      <th>2</th>\n",
       "      <td>1984/01/01</td>\n",
       "      <td>06:59:05.14</td>\n",
       "      <td>eq</td>\n",
       "      <td>NaN</td>\n",
       "      <td>l</td>\n",
       "      <td>2.43</td>\n",
       "      <td>c</td>\n",
       "      <td>NaN</td>\n",
       "      <td>NaN</td>\n",
       "      <td>33.343</td>\n",
       "      <td>...</td>\n",
       "      <td>30.0</td>\n",
       "      <td>NaN</td>\n",
       "      <td>NaN</td>\n",
       "      <td>NaN</td>\n",
       "      <td>NaN</td>\n",
       "      <td>NaN</td>\n",
       "      <td>NaN</td>\n",
       "      <td>NaN</td>\n",
       "      <td>NaN</td>\n",
       "      <td>NaN</td>\n",
       "    </tr>\n",
       "    <tr>\n",
       "      <th>3</th>\n",
       "      <td>1984/01/01</td>\n",
       "      <td>11:10:25.29</td>\n",
       "      <td>eq</td>\n",
       "      <td>NaN</td>\n",
       "      <td>l</td>\n",
       "      <td>2.07</td>\n",
       "      <td>c</td>\n",
       "      <td>NaN</td>\n",
       "      <td>NaN</td>\n",
       "      <td>33.668</td>\n",
       "      <td>...</td>\n",
       "      <td>NaN</td>\n",
       "      <td>NaN</td>\n",
       "      <td>NaN</td>\n",
       "      <td>NaN</td>\n",
       "      <td>NaN</td>\n",
       "      <td>NaN</td>\n",
       "      <td>NaN</td>\n",
       "      <td>NaN</td>\n",
       "      <td>NaN</td>\n",
       "      <td>NaN</td>\n",
       "    </tr>\n",
       "    <tr>\n",
       "      <th>4</th>\n",
       "      <td>1984/01/01</td>\n",
       "      <td>19:38:19.79</td>\n",
       "      <td>eq</td>\n",
       "      <td>NaN</td>\n",
       "      <td>l</td>\n",
       "      <td>2.13</td>\n",
       "      <td>c</td>\n",
       "      <td>NaN</td>\n",
       "      <td>NaN</td>\n",
       "      <td>33.963</td>\n",
       "      <td>...</td>\n",
       "      <td>49.0</td>\n",
       "      <td>NaN</td>\n",
       "      <td>NaN</td>\n",
       "      <td>NaN</td>\n",
       "      <td>NaN</td>\n",
       "      <td>NaN</td>\n",
       "      <td>NaN</td>\n",
       "      <td>NaN</td>\n",
       "      <td>NaN</td>\n",
       "      <td>NaN</td>\n",
       "    </tr>\n",
       "  </tbody>\n",
       "</table>\n",
       "<p>5 rows × 34 columns</p>\n",
       "</div>"
      ],
      "text/plain": [
       "   #YYY/MM/DD  HH:mm:SS.ss  ET  GT MAG  Unnamed: 5  M  Unnamed: 7  Unnamed: 8  \\\n",
       "0  1984/01/01  01:30:57.52  eq NaN   l        2.02  c         NaN         NaN   \n",
       "1  1984/01/01  05:31:34.16  eq NaN   l        2.12  c         NaN         NaN   \n",
       "2  1984/01/01  06:59:05.14  eq NaN   l        2.43  c         NaN         NaN   \n",
       "3  1984/01/01  11:10:25.29  eq NaN   l        2.07  c         NaN         NaN   \n",
       "4  1984/01/01  19:38:19.79  eq NaN   l        2.13  c         NaN         NaN   \n",
       "\n",
       "   Unnamed: 9  ...     Q  Unnamed: 25  EVID Unnamed: 27 Unnamed: 28  \\\n",
       "0      33.246  ...  17.0          NaN   NaN         NaN         NaN   \n",
       "1      32.945  ...  42.0          NaN   NaN         NaN         NaN   \n",
       "2      33.343  ...  30.0          NaN   NaN         NaN         NaN   \n",
       "3      33.668  ...   NaN          NaN   NaN         NaN         NaN   \n",
       "4      33.963  ...  49.0          NaN   NaN         NaN         NaN   \n",
       "\n",
       "   Unnamed: 29  Unnamed: 30  Unnamed: 31  NPH  NGRM  \n",
       "0          NaN          NaN          NaN  NaN   NaN  \n",
       "1          NaN          NaN          NaN  NaN   NaN  \n",
       "2          NaN          NaN          NaN  NaN   NaN  \n",
       "3          NaN          NaN          NaN  NaN   NaN  \n",
       "4          NaN          NaN          NaN  NaN   NaN  \n",
       "\n",
       "[5 rows x 34 columns]"
      ]
     },
     "execution_count": 2,
     "metadata": {},
     "output_type": "execute_result"
    }
   ],
   "source": [
    "# Read the earthquake csv file and take a look\n",
    "earthquakes_csv = \"https://raw.githubusercontent.com/fedhere/DSPS_FBianco/master/HW3/earthquakes.csv\"\n",
    "eqdata = pd.read_csv(earthquakes_csv, sep=\" \")\n",
    "eqdata.head()"
   ]
  },
  {
   "cell_type": "code",
   "execution_count": 3,
   "metadata": {
    "ExecuteTime": {
     "end_time": "2019-09-09T01:40:02.643428Z",
     "start_time": "2019-09-09T01:40:02.640847Z"
    },
    "colab": {
     "base_uri": "https://localhost:8080/",
     "height": 34
    },
    "id": "uphAqv5ZhXsA",
    "outputId": "a9f6d035-4a52-49f3-cedb-635e2527c43c"
   },
   "outputs": [
    {
     "data": {
      "text/html": [
       "<div>\n",
       "<style scoped>\n",
       "    .dataframe tbody tr th:only-of-type {\n",
       "        vertical-align: middle;\n",
       "    }\n",
       "\n",
       "    .dataframe tbody tr th {\n",
       "        vertical-align: top;\n",
       "    }\n",
       "\n",
       "    .dataframe thead th {\n",
       "        text-align: right;\n",
       "    }\n",
       "</style>\n",
       "<table border=\"1\" class=\"dataframe\">\n",
       "  <thead>\n",
       "    <tr style=\"text-align: right;\">\n",
       "      <th></th>\n",
       "      <th>date</th>\n",
       "      <th>time</th>\n",
       "      <th>mag</th>\n",
       "    </tr>\n",
       "  </thead>\n",
       "  <tbody>\n",
       "    <tr>\n",
       "      <th>0</th>\n",
       "      <td>1984/01/01</td>\n",
       "      <td>01:30:57.52</td>\n",
       "      <td>2.02</td>\n",
       "    </tr>\n",
       "    <tr>\n",
       "      <th>1</th>\n",
       "      <td>1984/01/01</td>\n",
       "      <td>05:31:34.16</td>\n",
       "      <td>2.12</td>\n",
       "    </tr>\n",
       "    <tr>\n",
       "      <th>2</th>\n",
       "      <td>1984/01/01</td>\n",
       "      <td>06:59:05.14</td>\n",
       "      <td>2.43</td>\n",
       "    </tr>\n",
       "    <tr>\n",
       "      <th>3</th>\n",
       "      <td>1984/01/01</td>\n",
       "      <td>11:10:25.29</td>\n",
       "      <td>2.07</td>\n",
       "    </tr>\n",
       "    <tr>\n",
       "      <th>4</th>\n",
       "      <td>1984/01/01</td>\n",
       "      <td>19:38:19.79</td>\n",
       "      <td>2.13</td>\n",
       "    </tr>\n",
       "  </tbody>\n",
       "</table>\n",
       "</div>"
      ],
      "text/plain": [
       "         date         time   mag\n",
       "0  1984/01/01  01:30:57.52  2.02\n",
       "1  1984/01/01  05:31:34.16  2.12\n",
       "2  1984/01/01  06:59:05.14  2.43\n",
       "3  1984/01/01  11:10:25.29  2.07\n",
       "4  1984/01/01  19:38:19.79  2.13"
      ]
     },
     "execution_count": 3,
     "metadata": {},
     "output_type": "execute_result"
    }
   ],
   "source": [
    "# We only care about date, time, and magnitude so let's grab only those\n",
    "# columns, and rename them to something sensible.\n",
    "colnames = [\"#YYY/MM/DD\", \"HH:mm:SS.ss\", \"Unnamed: 5\"]\n",
    "new_colnames = {\"#YYY/MM/DD\": \"date\",\n",
    "                \"HH:mm:SS.ss\": \"time\",\n",
    "                \"Unnamed: 5\":\"mag\"}\n",
    "eqdata = eqdata[colnames].rename(new_colnames, axis=1)\n",
    "eqdata.head()"
   ]
  },
  {
   "cell_type": "code",
   "execution_count": 4,
   "metadata": {
    "ExecuteTime": {
     "end_time": "2019-09-09T01:40:02.661139Z",
     "start_time": "2019-09-09T01:40:02.644720Z"
    },
    "colab": {
     "base_uri": "https://localhost:8080/",
     "height": 241
    },
    "id": "9CHqm426hXsC",
    "outputId": "fe2becaa-ef0a-49ee-8c8a-f1edadd424e7"
   },
   "outputs": [],
   "source": [
    "# To complete this analysis, we need the time difference between each\n",
    "# earthquake. Let's make one string object by concatenating the date and the\n",
    "# time, which pandas can then read and convert into a datetime object which\n",
    "# will allow us to find the time gaps.\n",
    "# First we create the column of datetime strings.\n",
    "\n",
    "# WWW There must be a vectorized way to do this...\n",
    "datetime = [eqdata.iloc[i].date + \" \" + eqdata.iloc[i].time for i \n",
    "            in range(eqdata.shape[0])]"
   ]
  },
  {
   "cell_type": "code",
   "execution_count": 5,
   "metadata": {
    "ExecuteTime": {
     "end_time": "2019-09-09T01:40:02.759957Z",
     "start_time": "2019-09-09T01:40:02.662327Z"
    },
    "colab": {
     "base_uri": "https://localhost:8080/",
     "height": 334
    },
    "id": "405C-Y8_hXsD",
    "outputId": "96cd6bf2-aec4-4c8f-94ad-d3e7d68dd409"
   },
   "outputs": [
    {
     "name": "stderr",
     "output_type": "stream",
     "text": [
      "<ipython-input-5-93b958c1bc2b>:7: FutureWarning: The default value of regex will change from True to False in a future version.\n",
      "  eqdata.datetime = eqdata.datetime.str.replace(\"60.00\", \"59.99\")\n"
     ]
    }
   ],
   "source": [
    "# This csv file seems to have some times measured at 60 seconds and 00 decimal\n",
    "# seconds, whereas pandas expects the minute to end at 59.99 seconds. So we\n",
    "# will simply replace the \"60.00\" part of the time strings with \"59.99\"\n",
    "# Now we can convert this string datetime column to a column of proper\n",
    "# datetime object.\n",
    "eqdata[\"datetime\"] = datetime\n",
    "eqdata.datetime = eqdata.datetime.str.replace(\"60.00\", \"59.99\")\n",
    "eqdata.datetime = pd.to_datetime(eqdata.datetime)"
   ]
  },
  {
   "cell_type": "code",
   "execution_count": 6,
   "metadata": {
    "ExecuteTime": {
     "end_time": "2019-09-09T01:40:29.230993Z",
     "start_time": "2019-09-09T01:40:29.219163Z"
    },
    "id": "tQRj4CAEhXsZ"
   },
   "outputs": [],
   "source": [
    "# The stationary periods that the paper looks at. The null hypothesis says\n",
    "# that there is a power law only within these stationary seismic periods. This for loop goes through these intervals.\n",
    "stationary_periods = [(1984   , 1986.5),\n",
    "                      (1990.3 , 1992.1),\n",
    "                      (1994.6 , 1995.6),\n",
    "                      (1996.1 , 1996.5),\n",
    "                      (1997   , 1997.6),\n",
    "                      (1997.75, 1998.15),\n",
    "                      (1998.25, 1999.35),\n",
    "                      (2000.55, 2000.8),\n",
    "                      (2000.9 , 2001.25),\n",
    "                      (2001.6 , 2002),\n",
    "                      (2002.5 , 2003)]\n",
    "\n",
    "# Use the astropy.time package to read in the decimal years properly. Then\n",
    "# we convert these to a datetime object which pandas can then read.\n",
    "ss = []\n",
    "for t in stationary_periods:\n",
    "    t0 = pd.to_datetime(ap.time.Time(t[0], format=\"decimalyear\").datetime)\n",
    "    t1 = pd.to_datetime(ap.time.Time(t[1], format=\"decimalyear\").datetime)\n",
    "    ss.append((t0, t1))\n",
    "\n",
    "# Use a for loop and the |= operator to boolean add (OR operator) all of these\n",
    "# boolean statements together. This reduces the number of lines from about 10\n",
    "# to 3.\n",
    "# Need to start with a boolean pandas area of the same length, so we generate\n",
    "# an array of all False values by comparing the list to the year 1800. There\n",
    "# are probably faster ways to initialize an array of False, but oh well.\n",
    "dates = eqdata.datetime < pd.to_datetime(\"1800\")\n",
    "for i in range(len(ss)):\n",
    "    dates |= (eqdata.datetime >= ss[i][0]) & (eqdata.datetime <= ss[i][1])"
   ]
  },
  {
   "cell_type": "code",
   "execution_count": 7,
   "metadata": {
    "ExecuteTime": {
     "end_time": "2019-09-09T01:40:29.270985Z",
     "start_time": "2019-09-09T01:40:29.267738Z"
    },
    "colab": {
     "base_uri": "https://localhost:8080/",
     "height": 34
    },
    "id": "WHyQm6CqhXsl",
    "outputId": "226d868c-0564-40b6-b541-99173763d8b0"
   },
   "outputs": [
    {
     "name": "stdout",
     "output_type": "stream",
     "text": [
      "There are 18854 earthquakes falling in the selected stationary periods\n"
     ]
    }
   ],
   "source": [
    "print (\"There are {} earthquakes falling in the selected stationary periods\".\n",
    "       format(dates.sum()))"
   ]
  },
  {
   "cell_type": "code",
   "execution_count": 8,
   "metadata": {},
   "outputs": [
    {
     "data": {
      "text/html": [
       "<div>\n",
       "<style scoped>\n",
       "    .dataframe tbody tr th:only-of-type {\n",
       "        vertical-align: middle;\n",
       "    }\n",
       "\n",
       "    .dataframe tbody tr th {\n",
       "        vertical-align: top;\n",
       "    }\n",
       "\n",
       "    .dataframe thead th {\n",
       "        text-align: right;\n",
       "    }\n",
       "</style>\n",
       "<table border=\"1\" class=\"dataframe\">\n",
       "  <thead>\n",
       "    <tr style=\"text-align: right;\">\n",
       "      <th></th>\n",
       "      <th>mag</th>\n",
       "      <th>dt</th>\n",
       "    </tr>\n",
       "  </thead>\n",
       "  <tbody>\n",
       "    <tr>\n",
       "      <th>count</th>\n",
       "      <td>18853.000000</td>\n",
       "      <td>18853</td>\n",
       "    </tr>\n",
       "    <tr>\n",
       "      <th>mean</th>\n",
       "      <td>2.399415</td>\n",
       "      <td>0 days 08:49:59.865924256</td>\n",
       "    </tr>\n",
       "    <tr>\n",
       "      <th>std</th>\n",
       "      <td>0.392425</td>\n",
       "      <td>12 days 18:37:22.805880915</td>\n",
       "    </tr>\n",
       "    <tr>\n",
       "      <th>min</th>\n",
       "      <td>2.000000</td>\n",
       "      <td>0 days 00:00:00.170000</td>\n",
       "    </tr>\n",
       "    <tr>\n",
       "      <th>25%</th>\n",
       "      <td>2.110000</td>\n",
       "      <td>0 days 00:45:36.680000</td>\n",
       "    </tr>\n",
       "    <tr>\n",
       "      <th>50%</th>\n",
       "      <td>2.290000</td>\n",
       "      <td>0 days 02:29:03.470000</td>\n",
       "    </tr>\n",
       "    <tr>\n",
       "      <th>75%</th>\n",
       "      <td>2.560000</td>\n",
       "      <td>0 days 05:55:12.240000</td>\n",
       "    </tr>\n",
       "    <tr>\n",
       "      <th>max</th>\n",
       "      <td>5.800000</td>\n",
       "      <td>1388 days 02:18:21.770000</td>\n",
       "    </tr>\n",
       "  </tbody>\n",
       "</table>\n",
       "</div>"
      ],
      "text/plain": [
       "                mag                          dt\n",
       "count  18853.000000                       18853\n",
       "mean       2.399415   0 days 08:49:59.865924256\n",
       "std        0.392425  12 days 18:37:22.805880915\n",
       "min        2.000000      0 days 00:00:00.170000\n",
       "25%        2.110000      0 days 00:45:36.680000\n",
       "50%        2.290000      0 days 02:29:03.470000\n",
       "75%        2.560000      0 days 05:55:12.240000\n",
       "max        5.800000   1388 days 02:18:21.770000"
      ]
     },
     "execution_count": 8,
     "metadata": {},
     "output_type": "execute_result"
    }
   ],
   "source": [
    "eqGoodData = eqdata[dates]\n",
    "\n",
    "# Make sure the rows are sorted chronologically\n",
    "eqGoodData = eqGoodData.sort_values(\"datetime\")\n",
    "\n",
    "# Finally we can calculate the time difference between consecutive rows.\n",
    "eqGoodData[\"dt\"] = eqGoodData.datetime.diff()\n",
    "\n",
    "# The first row has a NaT for the dt beacuse there is no time difference for\n",
    "# the very first time. We can remove it.\n",
    "eqGoodData = eqGoodData.iloc[1:]\n",
    "\n",
    "# Using the describe method we can confirm that the smallest magnitude we have\n",
    "# in our dataset is 2. We also see we have a maximum timegap of 1388 days,\n",
    "# which we need to address.\n",
    "eqGoodData.describe()"
   ]
  },
  {
   "cell_type": "code",
   "execution_count": 9,
   "metadata": {
    "colab": {
     "base_uri": "https://localhost:8080/",
     "height": 285
    },
    "id": "iDiscxU4XDwg",
    "outputId": "fa5c9392-a6ab-4efe-db17-6ca7b20d35a6"
   },
   "outputs": [
    {
     "name": "stderr",
     "output_type": "stream",
     "text": [
      "findfont: Font family ['[\"sans-serif\"]'] not found. Falling back to DejaVu Sans.\n",
      "findfont: Font family ['[\"sans-serif\"]'] not found. Falling back to DejaVu Sans.\n"
     ]
    },
    {
     "data": {
      "image/png": "[encoded data removed]",
      "text/plain": [
       "<Figure size 864x432 with 1 Axes>"
      ]
     },
     "metadata": {},
     "output_type": "display_data"
    }
   ],
   "source": [
    "dt = eqGoodData[\"dt\"].values.astype(float)\n",
    "dt *= u.ns\n",
    "dt = dt.to(u.day).value\n",
    "\n",
    "fig, ax = plt.subplots(figsize=(12, 6))\n",
    "plt.hist(dt, log=True, bins=50)\n",
    "\n",
    "plt.title(\"Time Gaps in Earthquakes\")\n",
    "plt.ylabel(\"Number of Earthquakes\")\n",
    "plt.xlabel(\"Time Gap [day]\")\n",
    "\n",
    "plt.show()"
   ]
  },
  {
   "cell_type": "markdown",
   "metadata": {},
   "source": [
    "Figure 1: The distribution of time gaps between earthquakes that occured in the stationary periods is shown. Note the timegaps larger than about a month. These are the time gaps between the stationary periods, and they should be removed."
   ]
  },
  {
   "cell_type": "code",
   "execution_count": 10,
   "metadata": {},
   "outputs": [
    {
     "data": {
      "text/plain": [
       "(18843, 5)"
      ]
     },
     "execution_count": 10,
     "metadata": {},
     "output_type": "execute_result"
    }
   ],
   "source": [
    "day_in_ns = (30 * u.day).to(u.ns).value\n",
    "eqGoodData = eqGoodData[eqGoodData[\"dt\"].values.astype(float) < day_in_ns]\n",
    "eqGoodData.shape\n",
    "# We have removed 11 time gaps larger than 30 days."
   ]
  },
  {
   "cell_type": "code",
   "execution_count": 11,
   "metadata": {},
   "outputs": [
    {
     "data": {
      "image/png": "[encoded data removed]",
      "text/plain": [
       "<Figure size 864x432 with 1 Axes>"
      ]
     },
     "metadata": {},
     "output_type": "display_data"
    }
   ],
   "source": [
    "dt = eqGoodData[\"dt\"].values.astype(float)\n",
    "dt *= u.ns\n",
    "dt = dt.to(u.day).value\n",
    "\n",
    "fig, ax = plt.subplots(figsize=(12, 6))\n",
    "plt.hist(dt, log=True, bins=50)\n",
    "\n",
    "plt.title(\"Time Gaps in Earthquakes\")\n",
    "plt.ylabel(\"Number of Earthquakes\")\n",
    "plt.xlabel(\"Time Gap [day]\")\n",
    "\n",
    "plt.show()"
   ]
  },
  {
   "cell_type": "markdown",
   "metadata": {},
   "source": [
    "Figure 2: The distribution of time gaps between earthquakes that occured in the stationary periods is shown where time gaps larger than 30 days have been removed."
   ]
  },
  {
   "cell_type": "code",
   "execution_count": 12,
   "metadata": {},
   "outputs": [],
   "source": [
    "def rescale(x_M, m):\n",
    "    \"\"\"\n",
    "    Rescales time gap datasets according to Corral 2018.\n",
    "    \n",
    "    Arguments\n",
    "    ---------\n",
    "    x_M : pandas dataframe\n",
    "        Dataframe consisting of just the timegaps series between earthquakes\n",
    "        as datetime objects.\n",
    "    m : float\n",
    "        Normalized timegap threhold.\n",
    "        \n",
    "    Returns\n",
    "    -------\n",
    "    x_M : np.array\n",
    "        Normalized array of timegaps.\n",
    "    \"\"\"\n",
    "    x_M = x_M.values.astype(float)\n",
    "    x_M = x_M * u.ns\n",
    "\n",
    "    for i in range(2):\n",
    "        R = 1 / x_M.mean()\n",
    "        x_M = R * x_M\n",
    "        x_M = x_M[x_M > m]\n",
    "\n",
    "    return x_M"
   ]
  },
  {
   "cell_type": "code",
   "execution_count": 13,
   "metadata": {
    "ExecuteTime": {
     "end_time": "2019-09-09T01:51:40.043756Z",
     "start_time": "2019-09-09T01:51:39.866325Z"
    },
    "colab": {
     "base_uri": "https://localhost:8080/",
     "height": 286
    },
    "id": "BNtqqaXphXs2",
    "outputId": "d7a838f4-9f01-4ebf-ff39-a480a3146e07"
   },
   "outputs": [],
   "source": [
    "alpha = 0.003  # 3 sigma p-value\n",
    "\n",
    "m_vals = [0.01, 0.001]\n",
    "M_vals = [2, 2.5, 3, 3.5, 4]\n",
    "\n",
    "results = {m: {} for m in m_vals}\n",
    "cdfs = {m: {M: 0 for M in M_vals} for m in m_vals}\n",
    "\n",
    "for m in m_vals:\n",
    "    for Mk in M_vals:\n",
    "        x_Mk = eqGoodData[eqGoodData[\"mag\"] > Mk][\"dt\"]\n",
    "        x_Mk = rescale(x_Mk, m)\n",
    "\n",
    "        pdf, bins = np.histogram(x_Mk, bins=2000)\n",
    "        cdf = np.cumsum(pdf)\n",
    "        cdfs[m][Mk] = (cdf / cdf.max(), bins[:-1])\n",
    "        \n",
    "    \n",
    "        for Ml in [M for M in M_vals if M > Mk]:\n",
    "            x_Ml = eqGoodData[eqGoodData[\"mag\"] > Ml][\"dt\"]\n",
    "            x_Ml = rescale(x_Ml, m)\n",
    "            \n",
    "            results[m][(Mk, Ml)] = (sp.stats.ks_2samp(x_Mk, x_Ml), (x_Mk.size, x_Ml.size))"
   ]
  },
  {
   "cell_type": "code",
   "execution_count": 14,
   "metadata": {},
   "outputs": [],
   "source": [
    "# results"
   ]
  },
  {
   "cell_type": "markdown",
   "metadata": {
    "id": "O0A6oyp9jSos"
   },
   "source": [
    "| m = 0.01 | N | M >= 2.0 | M >= 2.5 | M >= 3.0 | M >= 3.5 | M >= 4.0 |\n",
    "| --- | --- | --- | --- | --- | --- | --- |\n",
    "|M >= 2.0 | 17176 | - | 31.7% | 56.1% | 8.7% | 18.1% |\n",
    "|M >= 2.5 | 5194 | 0.015 | - | 89.7% | 20.0% | 19.7% |\n",
    "|M >= 3.0 | 1311 | 0.22 | 0.17 | - | 30.8% | 17.3% |\n",
    "|M >= 3.5 | 385 | 0.063 | 0.56 | 0.55 | - | 84.8% |\n",
    "|M >= 4.0 | 107 | 0.104 | 0.103 | 0.109 | 0.64 | - |"
   ]
  },
  {
   "cell_type": "markdown",
   "metadata": {},
   "source": [
    "| m = 0.001 | N | M >= 2.0 | M >= 2.5 | M >= 3.0 | M >= 3.5 | M >= 4.0 |\n",
    "| --- | --- | --- | --- | --- | --- | --- |\n",
    "|M >= 2.0 | 17895 | - | 6.4% | 9.0% | 4.6% | 14.5% |\n",
    "|M >= 2.5 | 5462 | 0.020 | - | 56.5% | 16.0% | 17.5% |\n",
    "|M >= 3.0 | 1401 | 0.034 | 0.023 | - | 35.1% | 20.8% |\n",
    "|M >= 3.5 | 415 | 0.067 | 0.056 | 0.051 | - | 80.8% |\n",
    "|M >= 4.0 | 113 | 0.106 | 0.103 | 0.102 | 0.065 | - |"
   ]
  },
  {
   "cell_type": "markdown",
   "metadata": {},
   "source": [
    "Table 1: The KS-Statistic (below the diagonal) and the corresponding p-value (above the diagonal) for the rescaled earthquake data. The KS-Test was performed on samples of earthquakes with magnitude greater than 2, 2.5, 3, 3.5, and 4. Our chosen threshold to reject the null hypothesis that the two samples of timegaps between earthquakes come from the same distribution was 3-sigma, or a p-value of 0.3%. The smallest p-value observed in this analysis was 6.4% indicating that the null hypothesis cannot be rejected."
   ]
  },
  {
   "cell_type": "code",
   "execution_count": 15,
   "metadata": {},
   "outputs": [
    {
     "data": {
      "image/png": "[encoded data removed]",
      "text/plain": [
       "<Figure size 864x432 with 1 Axes>"
      ]
     },
     "metadata": {},
     "output_type": "display_data"
    }
   ],
   "source": [
    "markers = [\"+\", \"x\", \"*\", \"s\", \"D\"]\n",
    "\n",
    "fig, ax = plt.subplots(figsize=(12, 6))\n",
    "for i ,(M, cdf) in enumerate(cdfs[m_vals[0]].items()):\n",
    "    plt.plot(np.log10(cdf[1]), cdf[0], linestyle=\"None\", marker=markers[i], label=f\"M > {M}\")\n",
    "    \n",
    "plt.title(\"Cumulative Distribution of Time Gaps Between Earthquakes\")\n",
    "plt.ylabel(\"CDF(x)\")\n",
    "plt.xlabel(\"Earthquake Timegap (normalized)\")\n",
    "    \n",
    "plt.legend()\n",
    "plt.show()"
   ]
  },
  {
   "cell_type": "markdown",
   "metadata": {},
   "source": [
    "Figure 3: The cumulative distribution function (CDF) of time gaps between earthquakes is plotted for earthquakes of magnitudes larger than 2, 2.5, 3, 3.5, and 4, with a minimum normalized time gap of 0.01. The fact that the distributions all lie on roughly the same curve is indicative of a scaling law, indicating that, no matter the magnitude, the earthquakes are being generated from the same dsitribution. This is agrees with the KS-Test results in Table 1."
   ]
  },
  {
   "cell_type": "markdown",
   "metadata": {},
   "source": [
    "### Analysis\n",
    "\n",
    "No statistical significance was found between the distributions only because we decided beforehand that the p-value we required to reject the null hypothesis was 0.3%, and we did not observe this in the data. If we had set the p-value to 5% (2-sigma) then we could say that the distribution of time gaps between earthquakes with a magnitude greater than 2 and the distribution of time gaps between earthquakes with a magnitude greater than 3.5 would be different (see Table 1). However, in context of the rest of the analysis I would hesitate to say that the distributions were statistically different in actuality even if our alpha value was 2-sigma.\n",
    "\n",
    "My results are not identical to Correll 2018, and this is likely because we do not have the exact same population of earthquakes. Although our conclusions were the same, which is good, our exact results differed, therefore making this paper not 100% reproducible."
   ]
  },
  {
   "cell_type": "code",
   "execution_count": null,
   "metadata": {},
   "outputs": [],
   "source": []
  }
 ],
 "metadata": {
  "colab": {
   "collapsed_sections": [],
   "include_colab_link": true,
   "name": "KS_earthquakes.ipynb",
   "provenance": []
  },
  "kernelspec": {
   "display_name": "Python 3",
   "language": "python",
   "name": "python3"
  },
  "language_info": {
   "codemirror_mode": {
    "name": "ipython",
    "version": 3
   },
   "file_extension": ".py",
   "mimetype": "text/x-python",
   "name": "python",
   "nbconvert_exporter": "python",
   "pygments_lexer": "ipython3",
   "version": "3.9.2"
  },
  "latex_envs": {
   "LaTeX_envs_menu_present": true,
   "autoclose": false,
   "autocomplete": true,
   "bibliofile": "biblio.bib",
   "cite_by": "apalike",
   "current_citInitial": 1,
   "eqLabelWithNumbers": true,
   "eqNumInitial": 1,
   "hotkeys": {
    "equation": "Ctrl-E",
    "itemize": "Ctrl-I"
   },
   "labels_anchors": false,
   "latex_user_defs": false,
   "report_style_numbering": false,
   "user_envs_cfg": false
  },
  "nbTranslate": {
   "displayLangs": [
    "*"
   ],
   "hotkey": "alt-t",
   "langInMainMenu": true,
   "sourceLang": "en",
   "targetLang": "fr",
   "useGoogleTranslate": true
  },
  "toc": {
   "base_numbering": 1,
   "nav_menu": {},
   "number_sections": true,
   "sideBar": true,
   "skip_h1_title": false,
   "title_cell": "Table of Contents",
   "title_sidebar": "Contents",
   "toc_cell": false,
   "toc_position": {},
   "toc_section_display": true,
   "toc_window_display": false
  }
 },
 "nbformat": 4,
 "nbformat_minor": 4
}
