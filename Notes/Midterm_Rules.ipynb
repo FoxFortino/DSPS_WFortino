{
 "cells": [
  {
   "cell_type": "markdown",
   "id": "4df484c5-6d50-4c2b-b014-e51f19a79c45",
   "metadata": {},
   "source": [
    "# Midterm Rules\n",
    "\n",
    "Due: Sunday 4pm, Sharp\n",
    "\n",
    "Submit\n",
    "- Do not post it on GitHub\n",
    "- On Collab, share it with Fed\n",
    "- Or create a link and post it on Canvas too, but it must be shared with Fed\n",
    "\n",
    "Rules\n",
    "- The exam is open-everything. Stack overflow, notes, class work, homework solutions, class slides, etc. But maybe if you take some code from stack overflow, include that in the docs\n",
    "- Like a homework, don't panic if your output is a bit different than what is in the default notebook\n",
    "- Post questions in the Midterm slack channel\n",
    "- No points taken away for asking questions!! No judgement. Ask questions!"
   ]
  },
  {
   "cell_type": "code",
   "execution_count": null,
   "id": "76e0b187-c980-4631-b546-cadb0a2c3178",
   "metadata": {},
   "outputs": [],
   "source": []
  }
 ],
 "metadata": {
  "kernelspec": {
   "display_name": "Python 3",
   "language": "python",
   "name": "python3"
  },
  "language_info": {
   "codemirror_mode": {
    "name": "ipython",
    "version": 3
   },
   "file_extension": ".py",
   "mimetype": "text/x-python",
   "name": "python",
   "nbconvert_exporter": "python",
   "pygments_lexer": "ipython3",
   "version": "3.9.2"
  }
 },
 "nbformat": 4,
 "nbformat_minor": 5
}
