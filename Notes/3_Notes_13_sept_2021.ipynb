{
 "cells": [
  {
   "cell_type": "markdown",
   "id": "562ba65f-ff4a-45ff-93a4-4e0f97e0444e",
   "metadata": {},
   "source": [
    "# 13 Sept 2021\n",
    "\n",
    "Admin\n",
    "- Fed is <b>very</b> strict about homework deadlines.\n",
    "- Everyone has two 72 hour exception for the homework with no excuses. One before the midterm and one after the midterm.\n",
    "- Homework due Sunday night at 11:59pm.\n",
    "- Monday evening the final draft of the homeworks will be ready.\n",
    "- Be sure to use a numpy random seed: np.random.seed"
   ]
  }
 ],
 "metadata": {
  "kernelspec": {
   "display_name": "Python 3",
   "language": "python",
   "name": "python3"
  },
  "language_info": {
   "codemirror_mode": {
    "name": "ipython",
    "version": 3
   },
   "file_extension": ".py",
   "mimetype": "text/x-python",
   "name": "python",
   "nbconvert_exporter": "python",
   "pygments_lexer": "ipython3",
   "version": "3.9.2"
  }
 },
 "nbformat": 4,
 "nbformat_minor": 5
}
