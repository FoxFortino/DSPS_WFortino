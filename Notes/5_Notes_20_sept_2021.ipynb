{
 "cells": [
  {
   "cell_type": "markdown",
   "id": "56536eb3-b14f-4e71-8bd3-19eb8e50097b",
   "metadata": {},
   "source": [
    "Admin\n",
    "- We will have a lab today. Work on it together, upload it to a Labs folder in our GitHub repo.\n",
    "- Lab not graded on quality of the work, just participation (I am assuming).\n",
    "- During labs we are free to talk to those around us and chat and such.\n",
    "\n"
   ]
  },
  {
   "cell_type": "code",
   "execution_count": null,
   "id": "5835982b-eb75-4e73-b478-56e30ade79e1",
   "metadata": {},
   "outputs": [],
   "source": []
  }
 ],
 "metadata": {
  "kernelspec": {
   "display_name": "Python 3",
   "language": "python",
   "name": "python3"
  },
  "language_info": {
   "codemirror_mode": {
    "name": "ipython",
    "version": 3
   },
   "file_extension": ".py",
   "mimetype": "text/x-python",
   "name": "python",
   "nbconvert_exporter": "python",
   "pygments_lexer": "ipython3",
   "version": "3.9.2"
  }
 },
 "nbformat": 4,
 "nbformat_minor": 5
}
