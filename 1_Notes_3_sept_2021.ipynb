{
 "cells": [
  {
   "cell_type": "markdown",
   "id": "4edb2a82-2007-4343-9eaf-32ac2ef3c157",
   "metadata": {},
   "source": [
    "# 3 Sept 2021\n",
    "\n",
    "- Studying for this course should mainly be from Fed’s slides, and the notes we take in class\n",
    "- Should probably bring a notebook to take notes\n",
    "\n",
    "Admin\n",
    "- Wear a mask (over nose and mouth)\n",
    "- Do the daily health check every morning\n",
    "- Bring a device with a keyboard to class\n",
    "- Announcements will be on Canvas and on Slack\n",
    "- Revised homework (with corrections but no grade) will be uploaded to our GitHub repository\n",
    "- Grades will be posted on Canvas\n",
    "\n",
    "Homework for today\n",
    "- Google form that asks questions that will make certain we have read the code of conduct\n",
    "\n",
    "Grade\n",
    "- 5% pre-class questions\n",
    "    - Not really a quiz. It’s asking “have you followed along in class and have done the reading?”\n",
    "- 15% class participation\n",
    "    - Sometimes people will be asked to come up and code every once and a while\n",
    "    - Asking and answering questions, participating on Slack\n",
    "- 25% homework\n",
    "    - Every homework is a small data science project. Sometimes we are redoing an analysis from literature\n",
    "    - Delivered through Jupyter notebooks\n",
    "    - Turned in through GitHub\n",
    "    - Homework are assigned skeleton notebooks with missing code\n",
    "    - 80% of the homework grade: Not graded on the cell of code, we are graded on the result (the figure/result and caption/explanation)\n",
    "    - Assignments are designed to be done in groups (they would be a lot of work for one person). Groups of 2-3 people is ideal. Max 5. One common notebook is submitted for the group, but they must all be uploaded into their own GitHub repository.\n",
    "    - 20% of the homework grade: A ReadMe for each assignment which describes the assignment and answers some questions (see slides). ReadMe’s are independent for each group member but they should be consistent.\n",
    "- 15% Midterm\n",
    "    - In class coding midterm\n",
    "    - Lots of job interviews are exactly like this: timed coding problem\n",
    "- 30% Final\n",
    "    - Take home, multiple days\n",
    "    - Also a coding challenge\n",
    "- 10% A buffer\n",
    "    - If things change, if things go online, if things dramatically different, if someone does exceptionally well catching up after a bad start\n",
    "    - Some reflection of your effort and dedication in the class\n",
    "    - So if you are uninterested in the material and in the class, but you rock the rest of the course, you’ll still get a 90 which is an A\n",
    "\n",
    "What is Data Science?\n",
    "- Big Data | Machine Learning | Statistical Methods\n",
    "What is Science?\n",
    "- Reproducibility\n",
    "    - Often violated because of the legality and ethicality of sharing datasets (e.g., personal medical information, census data) or maybe the data is proprietary.\n",
    "    - Claerbout, J. 1990\n",
    "        - Essentially the manifesto of reproducibility\n",
    "\n",
    "See homework online\n"
   ]
  },
  {
   "cell_type": "code",
   "execution_count": null,
   "id": "9b82ed6d-f730-4308-8fa8-9c5ae348a085",
   "metadata": {},
   "outputs": [],
   "source": []
  }
 ],
 "metadata": {
  "kernelspec": {
   "display_name": "Python 3",
   "language": "python",
   "name": "python3"
  },
  "language_info": {
   "codemirror_mode": {
    "name": "ipython",
    "version": 3
   },
   "file_extension": ".py",
   "mimetype": "text/x-python",
   "name": "python",
   "nbconvert_exporter": "python",
   "pygments_lexer": "ipython3",
   "version": "3.9.2"
  }
 },
 "nbformat": 4,
 "nbformat_minor": 5
}
