{
 "cells": [
  {
   "cell_type": "code",
   "execution_count": 1,
   "id": "16f483c8-33a4-49bb-8ec6-295a04e9d1d1",
   "metadata": {},
   "outputs": [],
   "source": [
    "import numpy as np\n",
    "import pandas as pd\n",
    "import scipy as sp\n",
    "import astropy as ap\n",
    "import matplotlib.pyplot as plt\n",
    "import scipy.stats\n",
    "import astropy.time\n",
    "import astropy.units as u\n",
    "import astropy.constants as c\n",
    "\n",
    "# style = \"https://raw.githubusercontent.com/fedhere/DSPS/master/fbb.mplstyle\"\n",
    "# plt.style.use(style)"
   ]
  },
  {
   "cell_type": "code",
   "execution_count": 2,
   "id": "94934395-9f0c-450f-ac9a-90f9a8364596",
   "metadata": {},
   "outputs": [],
   "source": [
    "def mul_err(x, y, dx=0, dy=0):\n",
    "    \"\"\"\n",
    "    Multiply two numbers with errors and propagate them.\n",
    "    \"\"\"\n",
    "    z = x * y\n",
    "    dz = np.abs(z) * np.sqrt((dx/x)**2 + (dy/y)**2)\n",
    "    return z, dz\n",
    "\n",
    "\n",
    "def div_err(x, y, dx=0, dy=0):\n",
    "    \"\"\"\n",
    "    Divide two numbers with errors and propagate them.\n",
    "    \"\"\"\n",
    "    z = x / y\n",
    "    dz = np.abs(z) * np.sqrt((dx/x)**2 + (dy/y)**2)\n",
    "    return z, dz"
   ]
  },
  {
   "cell_type": "code",
   "execution_count": 3,
   "id": "22404a14-23be-4f55-800e-abf8d56489d7",
   "metadata": {},
   "outputs": [],
   "source": [
    "m31_csv = \\\n",
    "\"https://raw.githubusercontent.com/fedhere/DSPS_FBianco/master/HW4/m31.csv\"\n",
    "mw_csv = \\\n",
    "\"https://raw.githubusercontent.com/fedhere/DSPS_FBianco/master/HW4/mw.csv\""
   ]
  },
  {
   "cell_type": "code",
   "execution_count": 4,
   "id": "f388cd78-5de5-41c5-84c1-4602f5aea13e",
   "metadata": {},
   "outputs": [],
   "source": [
    "m31 = pd.read_csv(m31_csv, sep=\",\", skiprows=1)\n",
    "mw = pd.read_csv(mw_csv, sep=\",\", skiprows=1)"
   ]
  },
  {
   "cell_type": "code",
   "execution_count": 5,
   "id": "dcaa5601-f809-4894-9399-3b405d0bc21b",
   "metadata": {},
   "outputs": [],
   "source": [
    "new_colnames = [\"r\", \"v\", \"dv\", \"err\"]\n",
    "\n",
    "m31_colnames = list(m31.columns)\n",
    "m31_new_col_dict = {colname: new_colname for colname, new_colname \n",
    "                    in zip(m31_colnames, new_colnames)}\n",
    "\n",
    "mw_colnames = list(mw.columns)\n",
    "mw_new_col_dict = {colname: new_colname for colname, new_colname \n",
    "                   in zip(mw_colnames, new_colnames)}"
   ]
  },
  {
   "cell_type": "code",
   "execution_count": 6,
   "id": "c450256a-d83a-4053-b70e-be4d48234fcf",
   "metadata": {},
   "outputs": [],
   "source": [
    "m31 = m31.rename(m31_new_col_dict, axis=1)\n",
    "mw = mw.rename(mw_new_col_dict, axis=1)"
   ]
  },
  {
   "cell_type": "code",
   "execution_count": 7,
   "id": "d330c395-294d-4d8b-9f20-5d594a214dca",
   "metadata": {},
   "outputs": [],
   "source": [
    "def physical_size(d, theta):\n",
    "    \"\"\"\n",
    "    Return the physical size of an object from its angular size and distance.\n",
    "    \"\"\"\n",
    "    L = 2 * d * np.tan(theta / 2)\n",
    "    return L"
   ]
  },
  {
   "cell_type": "code",
   "execution_count": 8,
   "id": "fcd248c3-617c-482f-a29c-0455638e07f1",
   "metadata": {},
   "outputs": [],
   "source": [
    "m31_angular_size = (3.167 * u.deg).to(u.rad)\n",
    "m31_distance = (2.54 * 10**6 * u.lyr).to(u.kpc)\n",
    "m31_distance_err = (0.11 * 10**6 * u.lyr).to(u.kpc)\n",
    "m31_physical_size = physical_size(m31_distance, m31_angular_size)"
   ]
  },
  {
   "cell_type": "code",
   "execution_count": 9,
   "id": "297f7c5c-3878-4d12-b439-af293cad308f",
   "metadata": {},
   "outputs": [
    {
     "name": "stdout",
     "output_type": "stream",
     "text": [
      "Angular size of luminous Andromeda: 0.05527 rad\n",
      "Physical size of luminous Andromeda: 43.1 kpc\n"
     ]
    }
   ],
   "source": [
    "print(f\"Angular size of luminous Andromeda: {m31_angular_size:.5f}\")\n",
    "print(f\"Physical size of luminous Andromeda: {m31_physical_size:.1f}\")"
   ]
  },
  {
   "cell_type": "code",
   "execution_count": 10,
   "id": "c393db20-7111-4e85-86b0-9ec319fe8c59",
   "metadata": {},
   "outputs": [],
   "source": [
    "def velocity_at_nr(gal, gal_size, n):\n",
    "    \"\"\"\n",
    "    Finds the last row in the data table where r <= gal_size * n.\n",
    "    \"\"\"\n",
    "    data = m31[m31[\"r\"] <= gal_size * n].iloc[-1]\n",
    "    return data"
   ]
  },
  {
   "cell_type": "code",
   "execution_count": 11,
   "id": "2fbfe062-581f-47d3-ba46-62d809e7de59",
   "metadata": {},
   "outputs": [
    {
     "data": {
      "text/plain": [
       "r      1887.071\n",
       "v       414.942\n",
       "dv       69.579\n",
       "err      27.931\n",
       "Name: 54, dtype: float64"
      ]
     },
     "execution_count": 11,
     "metadata": {},
     "output_type": "execute_result"
    }
   ],
   "source": [
    "velocity_at_nr(m31, m31_physical_size.value, 100)"
   ]
  },
  {
   "cell_type": "code",
   "execution_count": 73,
   "id": "1410b6ef-bb50-4d3f-a0e3-3fe7fb25e6d0",
   "metadata": {
    "tags": []
   },
   "outputs": [],
   "source": [
    "def plot_GRC(ax, gal, gal_size=None, n=None, c=None, label=None, text=False):\n",
    "    \n",
    "    if n is not None:\n",
    "        data = velocity_at_nr(gal, gal_size, n)\n",
    "    else:\n",
    "        data = gal\n",
    "        \n",
    "    if c is None:\n",
    "        c = \"tab:blue\"\n",
    "\n",
    "    ax.errorbar(data[\"r\"], data[\"v\"],\n",
    "                yerr=data[\"dv\"], c=c,\n",
    "                capsize=4, linewidth=2,\n",
    "                alpha=0.5)\n",
    "\n",
    "    ax.errorbar(data[\"r\"], data[\"v\"],\n",
    "                yerr=data[\"err\"], c=c,\n",
    "                capsize=4, linewidth=2,\n",
    "                label=label)\n",
    "    \n",
    "    if text:\n",
    "        annotation = f\"{data['v']:.1f}\\n({data['dv']:.1f}, {data['err']:.1f})\"\n",
    "        ax.text(data[\"r\"], data[\"v\"] - data[\"dv\"], annotation,\n",
    "                ha=\"center\", va=\"top\")\n",
    "        \n",
    "\n",
    "def plotGal(gal, gal_size, xlim=(None, None)):\n",
    "    fig, ax = plt.subplots(figsize=(12, 6))\n",
    "    # ax.set_xscale(\"log\")\n",
    "    plot_GRC(ax, gal, label=\"GRC\")\n",
    "\n",
    "    plot_GRC(ax, gal,\n",
    "             gal_size=gal_size, n=1,\n",
    "             c=\"tab:orange\", label=\"GRC at Gal Radius\", text=True)\n",
    "    plot_GRC(ax, gal,\n",
    "             gal_size=gal_size, n=2,\n",
    "             c=\"tab:green\", label=\"GRC at 2x Gal Radius\", text=True)\n",
    "    plot_GRC(ax, gal,\n",
    "             gal_size=gal_size, n=3,\n",
    "             c=\"tab:red\", label=\"GRC at 3x Gal Radius\", text=True)\n",
    "\n",
    "    plt.xlabel(\"Radius [kpc]\")\n",
    "    plt.ylabel(\"Velocity [km / s]\")\n",
    "    \n",
    "    \n",
    "    plt.xlim(xlim)\n",
    "    plt.legend(fontsize=15)\n",
    "    plt.show()"
   ]
  },
  {
   "cell_type": "code",
   "execution_count": 74,
   "id": "3617da78-aa9a-4691-8901-07717f3a5c7d",
   "metadata": {},
   "outputs": [
    {
     "data": {
      "image/png": "[encoded data removed]",
      "text/plain": [
       "<Figure size 864x432 with 1 Axes>"
      ]
     },
     "metadata": {
      "needs_background": "light"
     },
     "output_type": "display_data"
    }
   ],
   "source": [
    "plotGal(m31, m31_physical_size.value / 2, xlim=(0, 80))"
   ]
  },
  {
   "cell_type": "markdown",
   "id": "62c98094-22aa-4c09-bd63-1da81a0e7ef2",
   "metadata": {},
   "source": [
    "### Figure 1: The galactic rotation curve for M31 (Andromeda) is shown out to a radius of 80 kpc, just over three times the radius of the luminous mass in M31. Long and short error bars are displayed, representing modified standard deviations and modified errors. When all mass is included, we expect the velocity to decreas as 1/r, however this is not what is observed. This result is interpreted as the galaxy having more matter that is not luminous at large radii."
   ]
  },
  {
   "cell_type": "code",
   "execution_count": 62,
   "id": "4865b1b3-7db2-498d-94a3-fb9c928f81a6",
   "metadata": {
    "tags": []
   },
   "outputs": [],
   "source": [
    "def GRC_summary(gal, gal_size, n, err=\"dv\"):\n",
    "    data0 = velocity_at_nr(gal, gal_size, 1)\n",
    "    dataf = velocity_at_nr(gal, gal_size, n)\n",
    "    \n",
    "    ratio, stderr = div_err(dataf[\"v\"], data0[\"v\"],\n",
    "                            dx=dataf[err], dy=data0[err])\n",
    "\n",
    "    print(f\"At N = {n:.2f} radii from the galactic center:\")\n",
    "    print(f\"The expected drop in rotational velocity is {n:.2f}.\")\n",
    "    print(f\"The measured drop in rotational velocity is {ratio:.3f} ± {stderr:.3f}\")\n",
    "    print(f\"The 2-sigma upper and lower limits for the rotational velocity are {ratio - 2 * stderr:.3f} to {ratio + 2 * stderr:.3f}.\")\n",
    "    \n",
    "    agreement = (n > ratio - 2*stderr) & (n < ratio + 2*stderr)\n",
    "    if agreement:\n",
    "        print(\"The measured drop in rotational velocity AGREE with Newton's laws.\")\n",
    "    else:\n",
    "        print(\"The measured drop in rotational velocity DO NOT AGREE with Newton's laws.\")"
   ]
  },
  {
   "cell_type": "code",
   "execution_count": 64,
   "id": "86b91058-dab6-44dc-be5f-228249d2e9c6",
   "metadata": {},
   "outputs": [
    {
     "name": "stdout",
     "output_type": "stream",
     "text": [
      "At N = 1.00 radii from the galactic center:\n",
      "The expected drop in rotational velocity is 1.00.\n",
      "The measured drop in rotational velocity is 1.000 ± 0.322\n",
      "The 2-sigma upper and lower limits for the rotational velocity are 0.356 to 1.644.\n",
      "The measured drop in rotational velocity AGREE with Newton's laws.\n",
      "\n",
      "At N = 1.50 radii from the galactic center:\n",
      "The expected drop in rotational velocity is 1.50.\n",
      "The measured drop in rotational velocity is 1.082 ± 0.634\n",
      "The 2-sigma upper and lower limits for the rotational velocity are -0.185 to 2.350.\n",
      "The measured drop in rotational velocity AGREE with Newton's laws.\n",
      "\n",
      "At N = 2.00 radii from the galactic center:\n",
      "The expected drop in rotational velocity is 2.00.\n",
      "The measured drop in rotational velocity is 0.897 ± 0.620\n",
      "The 2-sigma upper and lower limits for the rotational velocity are -0.344 to 2.137.\n",
      "The measured drop in rotational velocity AGREE with Newton's laws.\n",
      "\n",
      "At N = 2.50 radii from the galactic center:\n",
      "The expected drop in rotational velocity is 2.50.\n",
      "The measured drop in rotational velocity is 0.924 ± 0.612\n",
      "The 2-sigma upper and lower limits for the rotational velocity are -0.300 to 2.148.\n",
      "The measured drop in rotational velocity DO NOT AGREE with Newton's laws.\n",
      "\n",
      "At N = 3.00 radii from the galactic center:\n",
      "The expected drop in rotational velocity is 3.00.\n",
      "The measured drop in rotational velocity is 0.857 ± 0.498\n",
      "The 2-sigma upper and lower limits for the rotational velocity are -0.140 to 1.853.\n",
      "The measured drop in rotational velocity DO NOT AGREE with Newton's laws.\n",
      "\n",
      "At N = 3.50 radii from the galactic center:\n",
      "The expected drop in rotational velocity is 3.50.\n",
      "The measured drop in rotational velocity is 0.770 ± 0.396\n",
      "The 2-sigma upper and lower limits for the rotational velocity are -0.021 to 1.562.\n",
      "The measured drop in rotational velocity DO NOT AGREE with Newton's laws.\n",
      "\n",
      "At N = 4.00 radii from the galactic center:\n",
      "The expected drop in rotational velocity is 4.00.\n",
      "The measured drop in rotational velocity is 0.770 ± 0.396\n",
      "The 2-sigma upper and lower limits for the rotational velocity are -0.021 to 1.562.\n",
      "The measured drop in rotational velocity DO NOT AGREE with Newton's laws.\n",
      "\n",
      "At N = 4.50 radii from the galactic center:\n",
      "The expected drop in rotational velocity is 4.50.\n",
      "The measured drop in rotational velocity is 0.717 ± 0.363\n",
      "The 2-sigma upper and lower limits for the rotational velocity are -0.008 to 1.443.\n",
      "The measured drop in rotational velocity DO NOT AGREE with Newton's laws.\n",
      "\n",
      "At N = 5.00 radii from the galactic center:\n",
      "The expected drop in rotational velocity is 5.00.\n",
      "The measured drop in rotational velocity is 0.717 ± 0.372\n",
      "The 2-sigma upper and lower limits for the rotational velocity are -0.026 to 1.460.\n",
      "The measured drop in rotational velocity DO NOT AGREE with Newton's laws.\n",
      "\n"
     ]
    }
   ],
   "source": [
    "for n in np.linspace(1, 5, num=9):\n",
    "    GRC_summary(m31, m31_physical_size.value, n, err=\"dv\")\n",
    "    print()"
   ]
  },
  {
   "cell_type": "markdown",
   "id": "bdc34869-f852-431b-889d-6004a1369597",
   "metadata": {},
   "source": [
    "### At 2.5 galactic radii away, the expected ratio is no longer within 2 sigma of the measured ratio. This indicates that the data is not consistent with Newton's laws beyond 2.5 galactic radii."
   ]
  },
  {
   "cell_type": "code",
   "execution_count": 67,
   "id": "80d00fc3-3638-4368-bd97-185499fc111d",
   "metadata": {},
   "outputs": [],
   "source": [
    "mw_physical_size = (185 * u.klyr).to(u.kpc)"
   ]
  },
  {
   "cell_type": "code",
   "execution_count": 77,
   "id": "ac46a464-4a32-45ff-b408-eee6aadbad38",
   "metadata": {},
   "outputs": [
    {
     "data": {
      "image/png": "[encoded data removed]",
      "text/plain": [
       "<Figure size 864x432 with 1 Axes>"
      ]
     },
     "metadata": {
      "needs_background": "light"
     },
     "output_type": "display_data"
    }
   ],
   "source": [
    "plotGal(mw, mw_physical_size.value / 2, xlim=(0, 100))"
   ]
  },
  {
   "cell_type": "markdown",
   "id": "614c620c-008c-4c50-94f1-0e2a85366566",
   "metadata": {},
   "source": [
    "### Figure 2: The galactic rotation curve for the Via Lacta (Milky Way) is shown out to a radius of 100 kpc, just over three times the radius of the luminous mass in the Milky Way. Long and short error bars are displayed, representing modified standard deviations and modified errors. When all mass is included, we expect the velocity to decreas as 1/r, however this is not what is observed. This result is interpreted as the galaxy having more matter that is not luminous at large radii."
   ]
  },
  {
   "cell_type": "code",
   "execution_count": 68,
   "id": "e0ddd982-bcd7-437d-b31d-bc1b713886d9",
   "metadata": {},
   "outputs": [
    {
     "name": "stdout",
     "output_type": "stream",
     "text": [
      "At N = 1.00 radii from the galactic center:\n",
      "The expected drop in rotational velocity is 1.00.\n",
      "The measured drop in rotational velocity is 1.000 ± 0.653\n",
      "The 2-sigma upper and lower limits for the rotational velocity are -0.305 to 2.305.\n",
      "The measured drop in rotational velocity AGREE with Newton's laws.\n",
      "\n",
      "At N = 1.50 radii from the galactic center:\n",
      "The expected drop in rotational velocity is 1.50.\n",
      "The measured drop in rotational velocity is 0.871 ± 0.697\n",
      "The 2-sigma upper and lower limits for the rotational velocity are -0.523 to 2.266.\n",
      "The measured drop in rotational velocity AGREE with Newton's laws.\n",
      "\n",
      "At N = 2.00 radii from the galactic center:\n",
      "The expected drop in rotational velocity is 2.00.\n",
      "The measured drop in rotational velocity is 0.898 ± 0.696\n",
      "The 2-sigma upper and lower limits for the rotational velocity are -0.493 to 2.290.\n",
      "The measured drop in rotational velocity AGREE with Newton's laws.\n",
      "\n",
      "At N = 2.50 radii from the galactic center:\n",
      "The expected drop in rotational velocity is 2.50.\n",
      "The measured drop in rotational velocity is 0.833 ± 0.589\n",
      "The 2-sigma upper and lower limits for the rotational velocity are -0.345 to 2.010.\n",
      "The measured drop in rotational velocity DO NOT AGREE with Newton's laws.\n",
      "\n",
      "At N = 3.00 radii from the galactic center:\n",
      "The expected drop in rotational velocity is 3.00.\n",
      "The measured drop in rotational velocity is 0.749 ± 0.488\n",
      "The 2-sigma upper and lower limits for the rotational velocity are -0.228 to 1.725.\n",
      "The measured drop in rotational velocity DO NOT AGREE with Newton's laws.\n",
      "\n",
      "At N = 3.50 radii from the galactic center:\n",
      "The expected drop in rotational velocity is 3.50.\n",
      "The measured drop in rotational velocity is 0.697 ± 0.450\n",
      "The 2-sigma upper and lower limits for the rotational velocity are -0.203 to 1.598.\n",
      "The measured drop in rotational velocity DO NOT AGREE with Newton's laws.\n",
      "\n",
      "At N = 4.00 radii from the galactic center:\n",
      "The expected drop in rotational velocity is 4.00.\n",
      "The measured drop in rotational velocity is 0.697 ± 0.457\n",
      "The 2-sigma upper and lower limits for the rotational velocity are -0.217 to 1.610.\n",
      "The measured drop in rotational velocity DO NOT AGREE with Newton's laws.\n",
      "\n",
      "At N = 4.50 radii from the galactic center:\n",
      "The expected drop in rotational velocity is 4.50.\n",
      "The measured drop in rotational velocity is 0.678 ± 0.452\n",
      "The 2-sigma upper and lower limits for the rotational velocity are -0.226 to 1.583.\n",
      "The measured drop in rotational velocity DO NOT AGREE with Newton's laws.\n",
      "\n",
      "At N = 5.00 radii from the galactic center:\n",
      "The expected drop in rotational velocity is 5.00.\n",
      "The measured drop in rotational velocity is 0.678 ± 0.452\n",
      "The 2-sigma upper and lower limits for the rotational velocity are -0.226 to 1.583.\n",
      "The measured drop in rotational velocity DO NOT AGREE with Newton's laws.\n",
      "\n"
     ]
    }
   ],
   "source": [
    "for n in np.linspace(1, 5, num=9):\n",
    "    GRC_summary(mw, mw_physical_size.value, n, err=\"dv\")\n",
    "    print()"
   ]
  },
  {
   "cell_type": "markdown",
   "id": "c63885b2-28f8-40e8-bd76-127ac952190f",
   "metadata": {},
   "source": [
    "### Again we find that the expected value from Newton's laws and the measured values do not agree after a radius of 2.5 galactic radii."
   ]
  },
  {
   "cell_type": "markdown",
   "id": "e7c76b22-5bc8-480a-bf77-141130bbc66c",
   "metadata": {},
   "source": [
    "# PHYS 661"
   ]
  }
 ],
 "metadata": {
  "kernelspec": {
   "display_name": "Python 3",
   "language": "python",
   "name": "python3"
  },
  "language_info": {
   "codemirror_mode": {
    "name": "ipython",
    "version": 3
   },
   "file_extension": ".py",
   "mimetype": "text/x-python",
   "name": "python",
   "nbconvert_exporter": "python",
   "pygments_lexer": "ipython3",
   "version": "3.9.2"
  }
 },
 "nbformat": 4,
 "nbformat_minor": 5
}
