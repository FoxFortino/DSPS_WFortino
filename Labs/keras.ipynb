{
  "nbformat": 4,
  "nbformat_minor": 0,
  "metadata": {
    "colab": {
      "name": "keras.ipynb",
      "provenance": [],
      "collapsed_sections": [],
      "authorship_tag": "ABX9TyMlNh7aIndndlP3gOV0+O0l",
      "include_colab_link": true
    },
    "kernelspec": {
      "name": "python3",
      "display_name": "Python 3"
    },
    "language_info": {
      "name": "python"
    },
    "accelerator": "GPU"
  },
  "cells": [
    {
      "cell_type": "markdown",
      "metadata": {
        "id": "view-in-github",
        "colab_type": "text"
      },
      "source": [
        "<a href=\"https://colab.research.google.com/github/FoxFortino/DSPS_WFortino/blob/main/Labs/keras.ipynb\" target=\"_parent\"><img src=\"https://colab.research.google.com/assets/colab-badge.svg\" alt=\"Open In Colab\"/></a>"
      ]
    },
    {
      "cell_type": "code",
      "metadata": {
        "id": "vCjcKY_wXo0W"
      },
      "source": [
        "import numpy as np\n",
        "import pandas as pd\n",
        "import matplotlib.pyplot as plt\n",
        "\n",
        "import keras\n",
        "from keras.datasets import mnist"
      ],
      "execution_count": 12,
      "outputs": []
    },
    {
      "cell_type": "code",
      "metadata": {
        "id": "By2mHzH0X26P"
      },
      "source": [
        "data = mnist.load_data()"
      ],
      "execution_count": 22,
      "outputs": []
    },
    {
      "cell_type": "code",
      "metadata": {
        "id": "V-XaKtCnX8pR"
      },
      "source": [
        "(Xtrain, Ytrain), (Xtest, Ytest) = data"
      ],
      "execution_count": 23,
      "outputs": []
    },
    {
      "cell_type": "code",
      "metadata": {
        "colab": {
          "base_uri": "https://localhost:8080/"
        },
        "id": "jO4c1RTCX9H0",
        "outputId": "0cfbc48f-c00e-41f6-e002-6d1399be0ae7"
      },
      "source": [
        "Xtrain.shape"
      ],
      "execution_count": 24,
      "outputs": [
        {
          "output_type": "execute_result",
          "data": {
            "text/plain": [
              "(60000, 28, 28)"
            ]
          },
          "metadata": {},
          "execution_count": 24
        }
      ]
    },
    {
      "cell_type": "code",
      "metadata": {
        "colab": {
          "base_uri": "https://localhost:8080/",
          "height": 282
        },
        "id": "W0oX93XTYWVW",
        "outputId": "da3ff1d6-abd4-43f0-e804-24711f05b701"
      },
      "source": [
        "plt.imshow(Xtrain[0], cmap=plt.cm.Greys)"
      ],
      "execution_count": 25,
      "outputs": [
        {
          "output_type": "execute_result",
          "data": {
            "text/plain": [
              "<matplotlib.image.AxesImage at 0x7f0cd1652bd0>"
            ]
          },
          "metadata": {},
          "execution_count": 25
        },
        {
          "output_type": "display_data",
          "data": {
            "image/png": "[encoded data removed]",
            "text/plain": [
              "<Figure size 432x288 with 1 Axes>"
            ]
          },
          "metadata": {
            "needs_background": "light"
          }
        }
      ]
    },
    {
      "cell_type": "code",
      "metadata": {
        "colab": {
          "base_uri": "https://localhost:8080/"
        },
        "id": "QNuBjKZZYpAU",
        "outputId": "cf310f99-8aea-427b-ffdc-657edfa4cd56"
      },
      "source": [
        "Xtrain[0].dtype, Xtrain[0].max()"
      ],
      "execution_count": 26,
      "outputs": [
        {
          "output_type": "execute_result",
          "data": {
            "text/plain": [
              "(dtype('uint8'), 255)"
            ]
          },
          "metadata": {},
          "execution_count": 26
        }
      ]
    },
    {
      "cell_type": "code",
      "metadata": {
        "id": "kIDtt561ZBoG"
      },
      "source": [
        "# Normalize the training and test set\n",
        "Xtrain = Xtrain.astype(float) / 255\n",
        "Xtest = Xtest.astype(float) / 255"
      ],
      "execution_count": 27,
      "outputs": []
    },
    {
      "cell_type": "code",
      "metadata": {
        "colab": {
          "base_uri": "https://localhost:8080/"
        },
        "id": "bQqKwT4jZT1t",
        "outputId": "44144c0c-4859-4912-e037-f258015c0314"
      },
      "source": [
        "nImg = Xtrain.shape[0]\n",
        "nRow = Xtrain.shape[1]\n",
        "nCol = Xtrain.shape[2]\n",
        "Xtrain = Xtrain.reshape(nImg, nRow * nCol)\n",
        "Xtrain.shape"
      ],
      "execution_count": 32,
      "outputs": [
        {
          "output_type": "execute_result",
          "data": {
            "text/plain": [
              "(60000, 784)"
            ]
          },
          "metadata": {},
          "execution_count": 32
        }
      ]
    },
    {
      "cell_type": "code",
      "metadata": {
        "colab": {
          "base_uri": "https://localhost:8080/"
        },
        "id": "vEiFud6FeDix",
        "outputId": "1075c9a5-4ae5-4027-b9de-62a0b6eacd1a"
      },
      "source": [
        "nImg = Xtest.shape[0]\n",
        "nRow = Xtest.shape[1]\n",
        "nCol = Xtest.shape[2]\n",
        "Xtest = Xtest.reshape(nImg, nRow * nCol)\n",
        "Xtest.shape"
      ],
      "execution_count": 42,
      "outputs": [
        {
          "output_type": "execute_result",
          "data": {
            "text/plain": [
              "(10000, 784)"
            ]
          },
          "metadata": {},
          "execution_count": 42
        }
      ]
    },
    {
      "cell_type": "code",
      "metadata": {
        "id": "-ml61bRYaCUk"
      },
      "source": [
        "from keras.models import Sequential\n",
        "from keras.layers import Dense"
      ],
      "execution_count": 34,
      "outputs": []
    },
    {
      "cell_type": "code",
      "metadata": {
        "id": "Ju1Jr-Lrb8I_"
      },
      "source": [
        "model_digits = Sequential()\n",
        "model_digits.add(Dense(128, activation=\"relu\", input_dim=nCol*nRow))\n",
        "model_digits.add(Dense(64, activation=\"relu\"))\n",
        "model_digits.add(Dense(128, activation=\"relu\"))\n",
        "model_digits.add(Dense(nCol*nRow, activation=\"linear\"))"
      ],
      "execution_count": 37,
      "outputs": []
    },
    {
      "cell_type": "code",
      "metadata": {
        "id": "msIqjWsDdSsy"
      },
      "source": [
        "model_digits.compile(optimizer=\"adadelta\", loss=\"mean_squared_error\")"
      ],
      "execution_count": 40,
      "outputs": []
    },
    {
      "cell_type": "code",
      "metadata": {
        "colab": {
          "base_uri": "https://localhost:8080/"
        },
        "id": "CHzUeUWidWIo",
        "outputId": "49169539-82f9-4b26-880c-d7e46a3b8855"
      },
      "source": [
        "model_digits.summary()"
      ],
      "execution_count": 41,
      "outputs": [
        {
          "output_type": "stream",
          "name": "stdout",
          "text": [
            "Model: \"sequential_1\"\n",
            "_________________________________________________________________\n",
            " Layer (type)                Output Shape              Param #   \n",
            "=================================================================\n",
            " dense_4 (Dense)             (None, 128)               100480    \n",
            "                                                                 \n",
            " dense_5 (Dense)             (None, 64)                8256      \n",
            "                                                                 \n",
            " dense_6 (Dense)             (None, 128)               8320      \n",
            "                                                                 \n",
            " dense_7 (Dense)             (None, 784)               101136    \n",
            "                                                                 \n",
            "=================================================================\n",
            "Total params: 218,192\n",
            "Trainable params: 218,192\n",
            "Non-trainable params: 0\n",
            "_________________________________________________________________\n"
          ]
        }
      ]
    },
    {
      "cell_type": "code",
      "metadata": {
        "colab": {
          "base_uri": "https://localhost:8080/"
        },
        "id": "ZWWPtP9YdpMf",
        "outputId": "133180b0-a2bb-473e-eb48-a0d43d2d3381"
      },
      "source": [
        "# Because this is an autoencoder, we input (Xtrain, Xtrain). But if we were classifying the digits we would input (Xtrain, Ytrain)\n",
        "model_digits.fit(Xtrain, Xtrain, validation_data=(Xtest, Xtest), epochs=20, batch_size=100, verbose=1)"
      ],
      "execution_count": 44,
      "outputs": [
        {
          "output_type": "stream",
          "name": "stdout",
          "text": [
            "Epoch 1/20\n",
            "600/600 [==============================] - 5s 4ms/step - loss: 0.1193 - val_loss: 0.1205\n",
            "Epoch 2/20\n",
            "600/600 [==============================] - 2s 4ms/step - loss: 0.1178 - val_loss: 0.1191\n",
            "Epoch 3/20\n",
            "600/600 [==============================] - 2s 4ms/step - loss: 0.1166 - val_loss: 0.1180\n",
            "Epoch 4/20\n",
            "600/600 [==============================] - 2s 4ms/step - loss: 0.1156 - val_loss: 0.1171\n",
            "Epoch 5/20\n",
            "600/600 [==============================] - 3s 4ms/step - loss: 0.1148 - val_loss: 0.1163\n",
            "Epoch 6/20\n",
            "600/600 [==============================] - 2s 4ms/step - loss: 0.1141 - val_loss: 0.1157\n",
            "Epoch 7/20\n",
            "600/600 [==============================] - 2s 4ms/step - loss: 0.1135 - val_loss: 0.1151\n",
            "Epoch 8/20\n",
            "600/600 [==============================] - 2s 4ms/step - loss: 0.1129 - val_loss: 0.1145\n",
            "Epoch 9/20\n",
            "600/600 [==============================] - 2s 4ms/step - loss: 0.1124 - val_loss: 0.1141\n",
            "Epoch 10/20\n",
            "600/600 [==============================] - 3s 4ms/step - loss: 0.1120 - val_loss: 0.1136\n",
            "Epoch 11/20\n",
            "600/600 [==============================] - 3s 4ms/step - loss: 0.1116 - val_loss: 0.1132\n",
            "Epoch 12/20\n",
            "600/600 [==============================] - 2s 4ms/step - loss: 0.1112 - val_loss: 0.1129\n",
            "Epoch 13/20\n",
            "600/600 [==============================] - 3s 4ms/step - loss: 0.1108 - val_loss: 0.1125\n",
            "Epoch 14/20\n",
            "600/600 [==============================] - 2s 4ms/step - loss: 0.1105 - val_loss: 0.1122\n",
            "Epoch 15/20\n",
            "600/600 [==============================] - 2s 4ms/step - loss: 0.1102 - val_loss: 0.1118\n",
            "Epoch 16/20\n",
            "600/600 [==============================] - 2s 4ms/step - loss: 0.1099 - val_loss: 0.1115\n",
            "Epoch 17/20\n",
            "600/600 [==============================] - 3s 4ms/step - loss: 0.1095 - val_loss: 0.1112\n",
            "Epoch 18/20\n",
            "600/600 [==============================] - 3s 4ms/step - loss: 0.1093 - val_loss: 0.1109\n",
            "Epoch 19/20\n",
            "600/600 [==============================] - 2s 4ms/step - loss: 0.1090 - val_loss: 0.1106\n",
            "Epoch 20/20\n",
            "600/600 [==============================] - 3s 4ms/step - loss: 0.1087 - val_loss: 0.1103\n"
          ]
        },
        {
          "output_type": "execute_result",
          "data": {
            "text/plain": [
              "<keras.callbacks.History at 0x7f0cc0673c50>"
            ]
          },
          "metadata": {},
          "execution_count": 44
        }
      ]
    },
    {
      "cell_type": "code",
      "metadata": {
        "id": "sVVq4WxFek84"
      },
      "source": [
        ""
      ],
      "execution_count": null,
      "outputs": []
    }
  ]
}