{
 "cells": [
  {
   "cell_type": "code",
   "execution_count": 32,
   "id": "f76d0a5e-ca8c-46eb-accb-d4b74a79c106",
   "metadata": {},
   "outputs": [],
   "source": [
    "import numpy as np\n",
    "import scipy as sp\n",
    "import scipy.stats\n",
    "import pandas as pd\n",
    "import matplotlib.pyplot as plt"
   ]
  },
  {
   "cell_type": "markdown",
   "id": "1232320e-6541-4df7-9925-f8bf59b14945",
   "metadata": {},
   "source": [
    "I extracted precipitations records for Willmington from 2000/01/01 through today. \n",
    "The goal is to extract from these data the daily precipitation starting on 2018/01/01 and assess if these data are different from a population with mean $\\mu = 0.14$ standard deviation $\\sigma= 0.38$. \n",
    "\n",
    "Set a p-value at $3\\sigma$:  $p=0.007$"
   ]
  },
  {
   "cell_type": "code",
   "execution_count": 5,
   "id": "e9de14f6-5e23-40c9-8a35-8f4153678e7e",
   "metadata": {},
   "outputs": [],
   "source": [
    "rd = \"https://raw.githubusercontent.com/fedhere/DSPS/master/labs/1865331.csv\"\n",
    "rain = pd.read_csv(rd)"
   ]
  },
  {
   "cell_type": "markdown",
   "id": "6c1709e5-8400-4645-8db7-c80e4b44f8e7",
   "metadata": {},
   "source": [
    "\n",
    "The $Z$ statistics is : $Z = \\frac{\\bar{X} - \\mu }{s}$ and $s = \\sigma / \\sqrt(N)$ (you should know what all those symbols mean)\n",
    "\n",
    "1. Extract from the dataframe above the columns \"DATE\" and \"PRCP\" (precipitation)\n",
    "\n",
    "2. Convert the dataframe DATE from ```string``` to ```datetime``` type\n",
    " using pd.datetime() \n",
    "    \n",
    "3. Select the data rows with date later than 2018/01/01. \n",
    "    If your data type conversion worked well you should be able to set the condition as ```rain[<newcolumnname>]> pd.to_datetime(\"2018/01/01\")```\n",
    "    use the technique called \"broadcasting\" to select the rows: \n",
    "    \n",
    "    ```rain[ rain[<newcolumnname>]> pd.to_datetime(\"2018/01/01\")]``` which you can save as a new dataframe\n",
    "    \n",
    "4. Calculate the mean of the sample you created $\\bar{X}$ and plug it in  the numerator of the $Z$ statistics: $\\bar{X}- \\mu$\n",
    "\n",
    "5. Calculate the size of the sample and plug it in the formula. Now you have $Z$\n",
    "\n",
    "6. Knowing the distribution of $Z\\sim N(\\mu=0, \\sigma=1)$ and with a confidence $p=0.007$, did you find that the time period 2018/01/01---today has a statistically significant different amount of rain?  \n",
    "    "
   ]
  },
  {
   "cell_type": "code",
   "execution_count": 8,
   "id": "8ccb5ccc-8d6e-412d-b921-96bbb2d359fc",
   "metadata": {},
   "outputs": [
    {
     "data": {
      "text/html": [
       "<div>\n",
       "<style scoped>\n",
       "    .dataframe tbody tr th:only-of-type {\n",
       "        vertical-align: middle;\n",
       "    }\n",
       "\n",
       "    .dataframe tbody tr th {\n",
       "        vertical-align: top;\n",
       "    }\n",
       "\n",
       "    .dataframe thead th {\n",
       "        text-align: right;\n",
       "    }\n",
       "</style>\n",
       "<table border=\"1\" class=\"dataframe\">\n",
       "  <thead>\n",
       "    <tr style=\"text-align: right;\">\n",
       "      <th></th>\n",
       "      <th>STATION</th>\n",
       "      <th>NAME</th>\n",
       "      <th>DATE</th>\n",
       "      <th>PRCP</th>\n",
       "      <th>SNOW</th>\n",
       "      <th>SNWD</th>\n",
       "      <th>WESD</th>\n",
       "      <th>WESF</th>\n",
       "    </tr>\n",
       "  </thead>\n",
       "  <tbody>\n",
       "    <tr>\n",
       "      <th>0</th>\n",
       "      <td>US1DENC0010</td>\n",
       "      <td>NEWPORT 2.4 WNW, DE US</td>\n",
       "      <td>2010-01-01</td>\n",
       "      <td>0.28</td>\n",
       "      <td>NaN</td>\n",
       "      <td>0.0</td>\n",
       "      <td>NaN</td>\n",
       "      <td>NaN</td>\n",
       "    </tr>\n",
       "    <tr>\n",
       "      <th>1</th>\n",
       "      <td>US1DENC0010</td>\n",
       "      <td>NEWPORT 2.4 WNW, DE US</td>\n",
       "      <td>2010-01-02</td>\n",
       "      <td>0.00</td>\n",
       "      <td>0.0</td>\n",
       "      <td>NaN</td>\n",
       "      <td>NaN</td>\n",
       "      <td>NaN</td>\n",
       "    </tr>\n",
       "    <tr>\n",
       "      <th>2</th>\n",
       "      <td>US1DENC0010</td>\n",
       "      <td>NEWPORT 2.4 WNW, DE US</td>\n",
       "      <td>2010-01-03</td>\n",
       "      <td>0.00</td>\n",
       "      <td>0.0</td>\n",
       "      <td>NaN</td>\n",
       "      <td>NaN</td>\n",
       "      <td>NaN</td>\n",
       "    </tr>\n",
       "    <tr>\n",
       "      <th>3</th>\n",
       "      <td>US1DENC0010</td>\n",
       "      <td>NEWPORT 2.4 WNW, DE US</td>\n",
       "      <td>2010-01-04</td>\n",
       "      <td>0.00</td>\n",
       "      <td>0.0</td>\n",
       "      <td>NaN</td>\n",
       "      <td>NaN</td>\n",
       "      <td>NaN</td>\n",
       "    </tr>\n",
       "    <tr>\n",
       "      <th>4</th>\n",
       "      <td>US1DENC0010</td>\n",
       "      <td>NEWPORT 2.4 WNW, DE US</td>\n",
       "      <td>2010-01-05</td>\n",
       "      <td>0.00</td>\n",
       "      <td>NaN</td>\n",
       "      <td>NaN</td>\n",
       "      <td>NaN</td>\n",
       "      <td>NaN</td>\n",
       "    </tr>\n",
       "  </tbody>\n",
       "</table>\n",
       "</div>"
      ],
      "text/plain": [
       "       STATION                    NAME        DATE  PRCP  SNOW  SNWD  WESD  \\\n",
       "0  US1DENC0010  NEWPORT 2.4 WNW, DE US  2010-01-01  0.28   NaN   0.0   NaN   \n",
       "1  US1DENC0010  NEWPORT 2.4 WNW, DE US  2010-01-02  0.00   0.0   NaN   NaN   \n",
       "2  US1DENC0010  NEWPORT 2.4 WNW, DE US  2010-01-03  0.00   0.0   NaN   NaN   \n",
       "3  US1DENC0010  NEWPORT 2.4 WNW, DE US  2010-01-04  0.00   0.0   NaN   NaN   \n",
       "4  US1DENC0010  NEWPORT 2.4 WNW, DE US  2010-01-05  0.00   NaN   NaN   NaN   \n",
       "\n",
       "   WESF  \n",
       "0   NaN  \n",
       "1   NaN  \n",
       "2   NaN  \n",
       "3   NaN  \n",
       "4   NaN  "
      ]
     },
     "execution_count": 8,
     "metadata": {},
     "output_type": "execute_result"
    }
   ],
   "source": [
    "rain.head()"
   ]
  },
  {
   "cell_type": "code",
   "execution_count": 12,
   "id": "fef88adf-03d4-43ff-993d-4102f0764d20",
   "metadata": {},
   "outputs": [
    {
     "data": {
      "text/html": [
       "<div>\n",
       "<style scoped>\n",
       "    .dataframe tbody tr th:only-of-type {\n",
       "        vertical-align: middle;\n",
       "    }\n",
       "\n",
       "    .dataframe tbody tr th {\n",
       "        vertical-align: top;\n",
       "    }\n",
       "\n",
       "    .dataframe thead th {\n",
       "        text-align: right;\n",
       "    }\n",
       "</style>\n",
       "<table border=\"1\" class=\"dataframe\">\n",
       "  <thead>\n",
       "    <tr style=\"text-align: right;\">\n",
       "      <th></th>\n",
       "      <th>DATE</th>\n",
       "      <th>PRCP</th>\n",
       "    </tr>\n",
       "  </thead>\n",
       "  <tbody>\n",
       "    <tr>\n",
       "      <th>0</th>\n",
       "      <td>2010-01-01</td>\n",
       "      <td>0.28</td>\n",
       "    </tr>\n",
       "    <tr>\n",
       "      <th>1</th>\n",
       "      <td>2010-01-02</td>\n",
       "      <td>0.00</td>\n",
       "    </tr>\n",
       "    <tr>\n",
       "      <th>2</th>\n",
       "      <td>2010-01-03</td>\n",
       "      <td>0.00</td>\n",
       "    </tr>\n",
       "    <tr>\n",
       "      <th>3</th>\n",
       "      <td>2010-01-04</td>\n",
       "      <td>0.00</td>\n",
       "    </tr>\n",
       "    <tr>\n",
       "      <th>4</th>\n",
       "      <td>2010-01-05</td>\n",
       "      <td>0.00</td>\n",
       "    </tr>\n",
       "  </tbody>\n",
       "</table>\n",
       "</div>"
      ],
      "text/plain": [
       "         DATE  PRCP\n",
       "0  2010-01-01  0.28\n",
       "1  2010-01-02  0.00\n",
       "2  2010-01-03  0.00\n",
       "3  2010-01-04  0.00\n",
       "4  2010-01-05  0.00"
      ]
     },
     "execution_count": 12,
     "metadata": {},
     "output_type": "execute_result"
    }
   ],
   "source": [
    "# Overwrite data since we only care about these columns\n",
    "colnames = [\"DATE\", \"PRCP\"]\n",
    "rain = rain[colnames]\n",
    "rain.head()"
   ]
  },
  {
   "cell_type": "code",
   "execution_count": 19,
   "id": "ad21a823-8578-4ec4-a066-f7ca8ecaecdc",
   "metadata": {},
   "outputs": [
    {
     "data": {
      "text/html": [
       "<div>\n",
       "<style scoped>\n",
       "    .dataframe tbody tr th:only-of-type {\n",
       "        vertical-align: middle;\n",
       "    }\n",
       "\n",
       "    .dataframe tbody tr th {\n",
       "        vertical-align: top;\n",
       "    }\n",
       "\n",
       "    .dataframe thead th {\n",
       "        text-align: right;\n",
       "    }\n",
       "</style>\n",
       "<table border=\"1\" class=\"dataframe\">\n",
       "  <thead>\n",
       "    <tr style=\"text-align: right;\">\n",
       "      <th></th>\n",
       "      <th>DATE</th>\n",
       "      <th>PRCP</th>\n",
       "    </tr>\n",
       "  </thead>\n",
       "  <tbody>\n",
       "    <tr>\n",
       "      <th>0</th>\n",
       "      <td>2010-01-01</td>\n",
       "      <td>0.28</td>\n",
       "    </tr>\n",
       "    <tr>\n",
       "      <th>1</th>\n",
       "      <td>2010-01-02</td>\n",
       "      <td>0.00</td>\n",
       "    </tr>\n",
       "    <tr>\n",
       "      <th>2</th>\n",
       "      <td>2010-01-03</td>\n",
       "      <td>0.00</td>\n",
       "    </tr>\n",
       "    <tr>\n",
       "      <th>3</th>\n",
       "      <td>2010-01-04</td>\n",
       "      <td>0.00</td>\n",
       "    </tr>\n",
       "    <tr>\n",
       "      <th>4</th>\n",
       "      <td>2010-01-05</td>\n",
       "      <td>0.00</td>\n",
       "    </tr>\n",
       "  </tbody>\n",
       "</table>\n",
       "</div>"
      ],
      "text/plain": [
       "        DATE  PRCP\n",
       "0 2010-01-01  0.28\n",
       "1 2010-01-02  0.00\n",
       "2 2010-01-03  0.00\n",
       "3 2010-01-04  0.00\n",
       "4 2010-01-05  0.00"
      ]
     },
     "execution_count": 19,
     "metadata": {},
     "output_type": "execute_result"
    }
   ],
   "source": [
    "rain.DATE = pd.to_datetime(rain.DATE)\n",
    "rain.head()"
   ]
  },
  {
   "cell_type": "code",
   "execution_count": 24,
   "id": "f36b5874-b19f-48a3-8458-7f304086e629",
   "metadata": {},
   "outputs": [
    {
     "data": {
      "text/html": [
       "<div>\n",
       "<style scoped>\n",
       "    .dataframe tbody tr th:only-of-type {\n",
       "        vertical-align: middle;\n",
       "    }\n",
       "\n",
       "    .dataframe tbody tr th {\n",
       "        vertical-align: top;\n",
       "    }\n",
       "\n",
       "    .dataframe thead th {\n",
       "        text-align: right;\n",
       "    }\n",
       "</style>\n",
       "<table border=\"1\" class=\"dataframe\">\n",
       "  <thead>\n",
       "    <tr style=\"text-align: right;\">\n",
       "      <th></th>\n",
       "      <th>DATE</th>\n",
       "      <th>PRCP</th>\n",
       "    </tr>\n",
       "  </thead>\n",
       "  <tbody>\n",
       "    <tr>\n",
       "      <th>2923</th>\n",
       "      <td>2018-01-02</td>\n",
       "      <td>0.00</td>\n",
       "    </tr>\n",
       "    <tr>\n",
       "      <th>2924</th>\n",
       "      <td>2018-01-03</td>\n",
       "      <td>0.00</td>\n",
       "    </tr>\n",
       "    <tr>\n",
       "      <th>2925</th>\n",
       "      <td>2018-01-04</td>\n",
       "      <td>0.07</td>\n",
       "    </tr>\n",
       "    <tr>\n",
       "      <th>2926</th>\n",
       "      <td>2018-01-05</td>\n",
       "      <td>0.20</td>\n",
       "    </tr>\n",
       "    <tr>\n",
       "      <th>2927</th>\n",
       "      <td>2018-01-06</td>\n",
       "      <td>0.00</td>\n",
       "    </tr>\n",
       "  </tbody>\n",
       "</table>\n",
       "</div>"
      ],
      "text/plain": [
       "           DATE  PRCP\n",
       "2923 2018-01-02  0.00\n",
       "2924 2018-01-03  0.00\n",
       "2925 2018-01-04  0.07\n",
       "2926 2018-01-05  0.20\n",
       "2927 2018-01-06  0.00"
      ]
     },
     "execution_count": 24,
     "metadata": {},
     "output_type": "execute_result"
    }
   ],
   "source": [
    "threshold_date = pd.to_datetime(\"2018/01/01\")\n",
    "rain = rain[rain.DATE > threshold_date]\n",
    "rain.head()"
   ]
  },
  {
   "cell_type": "code",
   "execution_count": 31,
   "id": "dfbe0729-3628-4702-acd1-48e6b9502799",
   "metadata": {},
   "outputs": [
    {
     "data": {
      "text/plain": [
       "1.4686385901934047"
      ]
     },
     "execution_count": 31,
     "metadata": {},
     "output_type": "execute_result"
    }
   ],
   "source": [
    "mu = 0.14\n",
    "sigma = 0.38\n",
    "\n",
    "X_bar = rain.PRCP.mean()\n",
    "N = rain.shape[0]\n",
    "\n",
    "def Z_test(X_bar, mu, sigma, N):\n",
    "    Z = (X_bar - mu) / (sigma / np.sqrt(N))\n",
    "    return Z\n",
    "\n",
    "Z = Z_test(X_bar, mu, sigma, N)\n",
    "Z"
   ]
  },
  {
   "cell_type": "code",
   "execution_count": 44,
   "id": "836f63be-e291-4744-a2fc-359a77db48a2",
   "metadata": {},
   "outputs": [
    {
     "data": {
      "image/png": "[encoded data removed]",
      "text/plain": [
       "<Figure size 720x360 with 1 Axes>"
      ]
     },
     "metadata": {
      "needs_background": "light"
     },
     "output_type": "display_data"
    }
   ],
   "source": [
    "x = np.linspace(-10, 10, num=1000)\n",
    "std_norm = sp.stats.norm.pdf(x, loc=0, scale=1)\n",
    "\n",
    "plt.figure(figsize=(10, 5))\n",
    "plt.plot(x, std_norm)\n",
    "plt.axvline(x=Z, c=\"k\", label=f\"Z Score = {Z:.3f}\")\n",
    "\n",
    "plt.axvline(x=2, c=\"k\", ls=\":\", label=\"p = 0.05\")\n",
    "plt.axvline(x=3, c=\"tab:red\", ls=\":\", label=\"p = 0.007\")\n",
    "\n",
    "plt.xlim((0, 4))\n",
    "\n",
    "plt.legend()\n",
    "plt.show()"
   ]
  },
  {
   "cell_type": "markdown",
   "id": "3f598339-39db-4685-a01c-46491e0ec4a2",
   "metadata": {},
   "source": [
    "### Figure 1: We know that the null hypothesis is rejected if this Z-test is more extreme than our p-value. The hypothesis was that the rainfall in this particular period comes from a population of rainfall different from one with mu and sigma given above. Because the Z-test value was 1.4, and our threshold p-value was 0.007 (3 sigma), we can say that we do not reject this hypot"
   ]
  },
  {
   "cell_type": "code",
   "execution_count": null,
   "id": "ce7e9d84-ae32-481a-bf5e-e59f81af5de7",
   "metadata": {},
   "outputs": [],
   "source": []
  }
 ],
 "metadata": {
  "kernelspec": {
   "display_name": "Python 3",
   "language": "python",
   "name": "python3"
  },
  "language_info": {
   "codemirror_mode": {
    "name": "ipython",
    "version": 3
   },
   "file_extension": ".py",
   "mimetype": "text/x-python",
   "name": "python",
   "nbconvert_exporter": "python",
   "pygments_lexer": "ipython3",
   "version": "3.9.2"
  }
 },
 "nbformat": 4,
 "nbformat_minor": 5
}
