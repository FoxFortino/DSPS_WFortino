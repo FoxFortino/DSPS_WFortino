{
 "cells": [
  {
   "cell_type": "markdown",
   "metadata": {
    "colab_type": "text",
    "id": "view-in-github"
   },
   "source": [
    "<a href=\"https://colab.research.google.com/github/fedhere/DSPS_FBianco/blob/master/HW2/MBoltzmannDistribution.ipynb\" target=\"_parent\"><img src=\"https://colab.research.google.com/assets/colab-badge.svg\" alt=\"Open In Colab\"/></a>"
   ]
  },
  {
   "cell_type": "markdown",
   "metadata": {
    "ExecuteTime": {
     "end_time": "2019-09-04T04:50:01.872913Z",
     "start_time": "2019-09-04T04:50:01.869703Z"
    },
    "id": "dk3tkh__KvAc"
   },
   "source": [
    " Written by Federica B. Bianco @fedhere\n",
    "UDel DSPS"
   ]
  },
  {
   "cell_type": "code",
   "execution_count": 1,
   "metadata": {
    "ExecuteTime": {
     "end_time": "2019-09-07T17:36:53.625807Z",
     "start_time": "2019-09-07T17:36:53.393906Z"
    },
    "colab": {
     "base_uri": "https://localhost:8080/"
    },
    "id": "iQaonMUBqtX2",
    "outputId": "e71ac319-e9ea-48e9-96ea-01fd794561c0"
   },
   "outputs": [],
   "source": [
    "from __future__ import print_function, division\n",
    "import numpy as np\n",
    "import scipy as sp\n",
    "from scipy import stats\n",
    "import matplotlib.pyplot as plt\n",
    "\n",
    "# %pylab inline\n",
    "\n",
    "style = \"https://raw.githubusercontent.com/fedhere/DSPS/master/fbb.mplstyle\"\n",
    "plt.style.use(style)"
   ]
  },
  {
   "cell_type": "markdown",
   "metadata": {
    "id": "zu5QKDi5b7vW"
   },
   "source": [
    "# Homework 1: Maxwell Boltzmann distribution"
   ]
  },
  {
   "cell_type": "markdown",
   "metadata": {
    "id": "ueaB0mHCO_iM"
   },
   "source": [
    "In Physics, statistics can help us describe the macroscopic behavior of a system if we know its microscopic properties in a statistical sense. We cannot know the motion of each molecule in a gas, but we can know the distribution of their velocities and positions.   In the mid to late 1800s, James Clerk Maxwell and Ludwig Boltzmann modeled the *distribution of speed of molecules in a gas*. As you probably know, and can intuitive realize, the speed of the molecules depends on the temperature of the gas, which is a macroscopic property, the velocity of the molecules is different for different gas temperatures. **This distribution of velocities is called the Maxwell-Boltzmann distribution.**\n"
   ]
  },
  {
   "cell_type": "markdown",
   "metadata": {
    "id": "7LpR51uQSvN9"
   },
   "source": [
    "It turns out that the Maxwel-Boltzmann distribution is a special case of the [*Chi distribution*](https://en.wikipedia.org/wiki/Chi_distribution) with 3 degrees of freedom, and with a scale parameter corresponding to the temperature in some way. \n"
   ]
  },
  {
   "cell_type": "markdown",
   "metadata": {
    "id": "Pc25lN9SUxQL"
   },
   "source": [
    "Below I have created 3 distributions. Based on the description above\n",
    "\n",
    "\n",
    "# 1) label the axes in the plot"
   ]
  },
  {
   "cell_type": "code",
   "execution_count": 2,
   "metadata": {},
   "outputs": [],
   "source": [
    "rng = np.random.RandomState(seed=193)"
   ]
  },
  {
   "cell_type": "code",
   "execution_count": 3,
   "metadata": {
    "ExecuteTime": {
     "end_time": "2019-09-07T17:36:56.493299Z",
     "start_time": "2019-09-07T17:36:56.021862Z"
    },
    "colab": {
     "base_uri": "https://localhost:8080/",
     "height": 265
    },
    "id": "LZm2afzhUwuG",
    "outputId": "c3ef16dc-acf7-484e-8379-3716cad72281"
   },
   "outputs": [
    {
     "name": "stderr",
     "output_type": "stream",
     "text": [
      "findfont: Font family ['[\"sans-serif\"]'] not found. Falling back to DejaVu Sans.\n",
      "findfont: Font family ['[\"sans-serif\"]'] not found. Falling back to DejaVu Sans.\n"
     ]
    },
    {
     "data": {
      "image/png": "[encoded data removed]",
      "text/plain": [
       "<Figure size 864x432 with 1 Axes>"
      ]
     },
     "metadata": {},
     "output_type": "display_data"
    }
   ],
   "source": [
    "fig, ax = plt.subplots(figsize=(12, 6))\n",
    "\n",
    "a_vals = np.array([0.2, 0.6, 1.0])\n",
    "means = np.zeros_like(a_vals)\n",
    "\n",
    "for i, a in enumerate(a_vals):\n",
    "    chi = sp.stats.chi.rvs(df=3, scale=a, size=1000, random_state=rng)\n",
    "    means[i] = chi.mean()\n",
    "    ax.hist(chi,\n",
    "            bins=np.arange(0,5,0.1),\n",
    "            alpha=0.7,\n",
    "            label=f\"a = {a:.1f}\\nmu = {means[i]:.1f}\")\n",
    "\n",
    "plt.legend()\n",
    "\n",
    "plt.xlabel(\"Velocity\")\n",
    "plt.ylabel(\"Number of Particles\")\n",
    "plt.show()"
   ]
  },
  {
   "cell_type": "markdown",
   "metadata": {
    "id": "MGdILsLAaopl"
   },
   "source": [
    "# 2) knowing that the *scale* parameter $a$  is a function of the temperature  *T*, and that the dependency is to a power 1/2, which is correct:\n",
    "   **$a \\propto \\sqrt{T}$**  or **$a \\propto \\sqrt{1/T}$**? \n",
    "\n",
    "   (in other words, is the dependency on the root of the temperature or on the inverse root of the temperature ?)\n",
    " "
   ]
  },
  {
   "cell_type": "markdown",
   "metadata": {
    "id": "vMGhorbvcrFM"
   },
   "source": [
    "# Answer\n",
    "We observe that as the scale parameter a increases, more particles have a higher velocity. Intuitively this indicates that <b>a is proportional to the root of the temperature</b>, not to its inverse. "
   ]
  },
  {
   "cell_type": "markdown",
   "metadata": {
    "id": "hGeeXYttXLO1"
   },
   "source": [
    "\n",
    "# 3) What is the mean of all three distributions. How does it compare to the most probable molecular speed? \n",
    "From the wikipedia page of the Chi distribution find the formula of the mean of the Chi distribution. The distribution we are using has a scale parameter *a* in addition to the number of degrees of freedom. The mean scales linearly with this parameter:\n",
    "\n",
    "$\\mu_{\\mathrm{MB}, k, a} = a \\cdot \\mu_{\\mathrm{chi}, k}$\n",
    "\n",
    "Using the scipy function ```sp.special.gamma()```  calculate the gamma $\\Gamma$ function,\n",
    "\n",
    "**calculate the mean of all three distributions. Compare it with the mean of the empirical distributions I generated in step 1. How does this mean compare to the most probable molecular speed.**"
   ]
  },
  {
   "cell_type": "code",
   "execution_count": 4,
   "metadata": {
    "ExecuteTime": {
     "end_time": "2019-09-07T17:36:59.245480Z",
     "start_time": "2019-09-07T17:36:59.243338Z"
    },
    "id": "-8htAA4mRAVa"
   },
   "outputs": [
    {
     "name": "stdout",
     "output_type": "stream",
     "text": [
      "a = 0.2. Empirical Mean: 0.321. Analytical Mean: 0.319. Percent Error: -0.643%. Mode: 0.283\n",
      "a = 0.6. Empirical Mean: 0.972. Analytical Mean: 0.957. Percent Error: -1.552%. Mode: 0.849\n",
      "a = 1.0. Empirical Mean: 1.628. Analytical Mean: 1.596. Percent Error: -2.025%. Mode: 1.414\n"
     ]
    }
   ],
   "source": [
    "def chi_mean(k, a):\n",
    "    mu = a * np.sqrt(2) * sp.special.gamma((k+1)/2)\n",
    "    mu /= sp.special.gamma(k/2)\n",
    "    return mu\n",
    "\n",
    "\n",
    "for i, a in enumerate(a_vals):\n",
    "    print(f\"a = {a}. Empirical Mean: {means[i]:.3f}. Analytical Mean: {chi_mean(3, a):.3f}. Percent Error: {(chi_mean(3, a) - means[i])/chi_mean(3, a)*100:.3f}%. Mode: {a * np.sqrt(2):.3f}\")"
   ]
  },
  {
   "cell_type": "markdown",
   "metadata": {},
   "source": [
    "# Answer\n",
    "\n",
    "The empirically calculated means are all within ~2% of the actual mean values, even with only 1000 samples drawn. According to the wikipedia page for the chi distribution, the most probable molecular speed (the mode) is $a\\sqrt{2}$ (assuming that the mode scales with a as the mean does). In all three cases, the mode was smaller than the mean. Visually, this makes sense because the positive tail of the distribution is longer than the negative tail (since there are no negative values in a chi distribution). Therefore, the mean will be larger than the peak."
   ]
  },
  {
   "cell_type": "markdown",
   "metadata": {
    "id": "r7oes80EQER-"
   },
   "source": [
    "This really only holds for perfect gasses, which means under 4 assumptions: \n",
    "- the diameter of the molecules is much smaller than the distance between them\n",
    "- the collisions between molecules conserve energy\n",
    "- the molecules do not interact between collisions and are not subject to any other forces (move at constant speed in a straight line)\n",
    "- the initial position and velocity are random."
   ]
  },
  {
   "cell_type": "markdown",
   "metadata": {
    "id": "3PJ9hjLzQjyA"
   },
   "source": [
    "# Extra Credit:\n",
    "\n",
    "can you create a python (2D) simulation where the molecules behave as describe and calculate their speed evolution from an initial speed that is gaussian distributed? (rather hard!!)\n"
   ]
  },
  {
   "cell_type": "code",
   "execution_count": 5,
   "metadata": {
    "ExecuteTime": {
     "end_time": "2019-09-07T17:37:01.623460Z",
     "start_time": "2019-09-07T17:37:01.621218Z"
    },
    "id": "6LJU9GPVRO7B"
   },
   "outputs": [],
   "source": [
    "# your code here"
   ]
  },
  {
   "cell_type": "code",
   "execution_count": null,
   "metadata": {
    "id": "WN8ljqmZPCBT"
   },
   "outputs": [],
   "source": []
  }
 ],
 "metadata": {
  "colab": {
   "collapsed_sections": [],
   "include_colab_link": true,
   "name": "MBoltzmannDistribution.ipynb",
   "provenance": []
  },
  "kernelspec": {
   "display_name": "Python 3",
   "language": "python",
   "name": "python3"
  },
  "language_info": {
   "codemirror_mode": {
    "name": "ipython",
    "version": 3
   },
   "file_extension": ".py",
   "mimetype": "text/x-python",
   "name": "python",
   "nbconvert_exporter": "python",
   "pygments_lexer": "ipython3",
   "version": "3.9.2"
  },
  "latex_envs": {
   "LaTeX_envs_menu_present": true,
   "autoclose": false,
   "autocomplete": true,
   "bibliofile": "biblio.bib",
   "cite_by": "apalike",
   "current_citInitial": 1,
   "eqLabelWithNumbers": true,
   "eqNumInitial": 1,
   "hotkeys": {
    "equation": "Ctrl-E",
    "itemize": "Ctrl-I"
   },
   "labels_anchors": false,
   "latex_user_defs": false,
   "report_style_numbering": false,
   "user_envs_cfg": false
  },
  "nbTranslate": {
   "displayLangs": [
    "*"
   ],
   "hotkey": "alt-t",
   "langInMainMenu": true,
   "sourceLang": "en",
   "targetLang": "fr",
   "useGoogleTranslate": true
  },
  "toc": {
   "base_numbering": 1,
   "nav_menu": {},
   "number_sections": true,
   "sideBar": true,
   "skip_h1_title": false,
   "title_cell": "Table of Contents",
   "title_sidebar": "Contents",
   "toc_cell": false,
   "toc_position": {},
   "toc_section_display": true,
   "toc_window_display": false
  }
 },
 "nbformat": 4,
 "nbformat_minor": 4
}
