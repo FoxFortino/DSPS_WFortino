{
 "cells": [
  {
   "cell_type": "markdown",
   "id": "d400a4b6-c380-4cf9-bc77-d058a30c96b0",
   "metadata": {},
   "source": [
    "Recap:\n",
    "- <i>Theories</i> should be <b>falsifiable</b>\n",
    "- <i>Analysis</i> should be <b>reproducible</b>"
   ]
  }
 ],
 "metadata": {
  "kernelspec": {
   "display_name": "Python 3",
   "language": "python",
   "name": "python3"
  },
  "language_info": {
   "codemirror_mode": {
    "name": "ipython",
    "version": 3
   },
   "file_extension": ".py",
   "mimetype": "text/x-python",
   "name": "python",
   "nbconvert_exporter": "python",
   "pygments_lexer": "ipython3",
   "version": "3.9.2"
  }
 },
 "nbformat": 4,
 "nbformat_minor": 5
}
