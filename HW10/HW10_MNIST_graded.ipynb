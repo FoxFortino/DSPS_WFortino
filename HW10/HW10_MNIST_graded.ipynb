{
 "cells": [
  {
   "cell_type": "markdown",
   "metadata": {
    "colab_type": "text",
    "id": "view-in-github"
   },
   "source": [
    "<a href=\"https://colab.research.google.com/github/FoxFortino/DSPS_WFortino/blob/main/HW10/HW10_MNIST.ipynb\" target=\"_parent\"><img src=\"https://colab.research.google.com/assets/colab-badge.svg\" alt=\"Open In Colab\"/></a>"
   ]
  },
  {
   "cell_type": "code",
   "execution_count": null,
   "metadata": {
    "id": "oPuP9BI3PmSi"
   },
   "outputs": [],
   "source": [
    "import os\n",
    "import glob\n",
    "import h5py\n",
    "from PIL import Image\n",
    "\n",
    "import numpy as np\n",
    "import pandas as pd\n",
    "import matplotlib.pyplot as plt\n",
    "\n",
    "import keras\n",
    "import keras.optimizers\n",
    "from keras.datasets import mnist\n",
    "from keras.models import Sequential\n",
    "from keras.layers import Dense\n",
    "from keras.callbacks import EarlyStopping\n",
    "\n",
    "# import scipy as sp\n",
    "# import scipy.stats\n",
    "# import scipy.optimize\n",
    "# import scipy.spatial\n",
    "# import scipy.cluster\n",
    "\n",
    "# import astropy as ap\n",
    "# import astropy.time\n",
    "# import astropy.units as u\n",
    "# import astropy.constants as c\n",
    "\n",
    "# import emcee\n",
    "# import corner\n",
    "\n",
    "import sklearn\n",
    "from sklearn.model_selection import train_test_split as tts\n",
    "# import sklearn.preprocessing\n",
    "# import sklearn.manifold\n",
    "# import sklearn.cluster\n",
    "# from sklearn.ensemble import RandomForestClassifier\n",
    "# from sklearn.ensemble import GradientBoostingClassifier\n",
    "# from sklearn.ensemble import RandomForestRegressor\n",
    "# from sklearn.ensemble import GradientBoostingRegressor\n",
    "# from sklearn.datasets import make_classification\n",
    "# from sklearn.metrics import confusion_matrix\n",
    "# from sklearn.model_selection import RandomizedSearchCV\n",
    "\n",
    "# from mpl_toolkits.axes_grid1.axes_divider import make_axes_locatable\n",
    "# from sklearn.metrics import confusion_matrix\n",
    "\n",
    "# For running on Colaboratory\n",
    "# ! pip install corner\n",
    "# ! pip install emcee\n",
    "\n",
    "# custom_mplstyle = (\"https://raw.githubusercontent.com/FoxFortino\"\n",
    "#                    \"/DSPS_WFortino/main/custom.mplstyle\")\n",
    "# plt.style.use(custom_mplstyle)\n",
    "\n",
    "rng = np.random.RandomState(193)"
   ]
  },
  {
   "cell_type": "code",
   "execution_count": null,
   "metadata": {
    "id": "_mOjsoGTZw_6"
   },
   "outputs": [],
   "source": [
    "def plot_mnist(img, default_shape=(28, 28)):\n",
    "\n",
    "    if img.shape != default_shape:\n",
    "        img = img.reshape(default_shape)\n",
    "\n",
    "    plt.imshow(img, cmap=plt.cm.Greys)\n",
    "    plt.axis(\"off\")\n",
    "    plt.show()\n",
    "\n",
    "\n",
    "def plot_model_loss(fit, log=False):\n",
    "    plt.figure(figsize=(12, 6))\n",
    "    plt.plot(np.array(fit.history['loss']), label=\"Training\")\n",
    "    plt.plot(np.array(fit.history['val_loss']), label=\"Validation\")\n",
    "    plt.ylabel('Loss')\n",
    "    plt.xlabel('Epoch')\n",
    "    plt.legend()\n",
    "    if log:\n",
    "        plt.yscale('log')\n",
    "        plt.xscale('log')\n",
    "    plt.show()\n",
    "\n",
    "\n",
    "def compareinout(i, outim, testimg, initialshape=(28,28)):\n",
    "    fig = plt.figure(figsize=(10,5))\n",
    "    ax = fig.add_subplot(121) \n",
    "    ax.imshow(testimg[i].reshape(initialshape), cmap=\"bone\")\n",
    "    ax.get_xaxis().set_visible(False)\n",
    "    ax.get_yaxis().set_visible(False)\n",
    "    ax = fig.add_subplot(122) \n",
    "    ax.imshow(outim[i].reshape(initialshape), cmap=\"bone\")\n",
    "    ax.get_xaxis().set_visible(False)\n",
    "    ax.get_yaxis().set_visible(False)\n",
    "    plt.show()\n",
    "\n",
    "\n",
    "def visualize_prediction(N, tst, prd):\n",
    "    for i in range(N):\n",
    "        compareinout(i, prd, tst)"
   ]
  },
  {
   "cell_type": "markdown",
   "metadata": {
    "id": "8108b0gPbuoK"
   },
   "source": [
    "# Preprocessing Data"
   ]
  },
  {
   "cell_type": "code",
   "execution_count": 3,
   "metadata": {
    "colab": {
     "base_uri": "https://localhost:8080/",
     "height": 531
    },
    "id": "_QAYPgboZEG3",
    "outputId": "47f02b94-96f2-43c2-d33d-88798b2e795f"
   },
   "outputs": [
    {
     "name": "stdout",
     "output_type": "stream",
     "text": [
      "Downloading data from https://storage.googleapis.com/tensorflow/tf-keras-datasets/mnist.npz\n",
      "11493376/11490434 [==============================] - 0s 0us/step\n",
      "11501568/11490434 [==============================] - 0s 0us/step\n"
     ]
    },
    {
     "data": {
      "image/png": "[encoded data removed]",
      "text/plain": [
       "<Figure size 432x288 with 1 Axes>"
      ]
     },
     "metadata": {
      "needs_background": "light"
     },
     "output_type": "display_data"
    },
    {
     "data": {
      "image/png": "[encoded data removed]",
      "text/plain": [
       "<Figure size 432x288 with 1 Axes>"
      ]
     },
     "metadata": {
      "needs_background": "light"
     },
     "output_type": "display_data"
    }
   ],
   "source": [
    "# Load data\n",
    "(Xtrn, Ytrn), (Xtst, Ytst) = mnist.load_data()\n",
    "\n",
    "# Extract metadata\n",
    "imgShape = Xtrn[0].shape\n",
    "nRow, nCol = imgShape\n",
    "nDim = nRow * nCol\n",
    "nTrn = Xtrn.shape[0]\n",
    "nTst = Xtst.shape[0]\n",
    "\n",
    "# Normalize data from a scale of [0, 255] (integers) to a scale of [0, 1]\n",
    "Xtrn = Xtrn.astype(float) / 255\n",
    "Xtst = Xtst.astype(float) / 255\n",
    "\n",
    "# Reshape data from (nRow, nCol) to (nRow * nCol,). We are not making a CNN, we\n",
    "# are just inputting a one dimensional vector represnting the image into the NN.\n",
    "Xtrn = Xtrn.reshape(nTrn, nDim)\n",
    "Xtst = Xtst.reshape(nTst, nDim)\n",
    "\n",
    "# One-hot encode the labels\n",
    "# Ytrn = keras.utils.all_utils.to_categorical(Ytrn, num_classes=10, dtype=int)\n",
    "# Ytst = keras.utils.all_utils.to_categorical(Ytst, num_classes=10, dtype=int)\n",
    "\n",
    "# Ytrn = Ytrn.astype(float)\n",
    "# Ytst = Ytst.astype(float)\n",
    "\n",
    "# Visualize one of the images\n",
    "plot_mnist(Xtrn[0])\n",
    "plot_mnist(Xtst[0])"
   ]
  },
  {
   "cell_type": "markdown",
   "metadata": {
    "id": "Tyol0rpZc_RU"
   },
   "source": [
    "# Digit Recognition"
   ]
  },
  {
   "cell_type": "code",
   "execution_count": 4,
   "metadata": {
    "colab": {
     "base_uri": "https://localhost:8080/"
    },
    "id": "EXY2OtpAcIkw",
    "outputId": "c0cc273e-3d77-44b5-d62b-5a5134daeb86"
   },
   "outputs": [
    {
     "name": "stdout",
     "output_type": "stream",
     "text": [
      "Epoch 1/100\n",
      "600/600 [==============================] - 4s 3ms/step - loss: 2.1034 - val_loss: 1.8224\n",
      "Epoch 2/100\n",
      "600/600 [==============================] - 2s 3ms/step - loss: 1.5410 - val_loss: 1.2416\n",
      "Epoch 3/100\n",
      "600/600 [==============================] - 2s 3ms/step - loss: 1.0652 - val_loss: 0.8695\n",
      "Epoch 4/100\n",
      "600/600 [==============================] - 2s 3ms/step - loss: 0.7874 - val_loss: 0.6728\n",
      "Epoch 5/100\n",
      "600/600 [==============================] - 2s 3ms/step - loss: 0.6348 - val_loss: 0.5594\n",
      "Epoch 6/100\n",
      "600/600 [==============================] - 2s 3ms/step - loss: 0.5417 - val_loss: 0.4873\n",
      "Epoch 7/100\n",
      "600/600 [==============================] - 2s 3ms/step - loss: 0.4799 - val_loss: 0.4380\n",
      "Epoch 8/100\n",
      "600/600 [==============================] - 2s 3ms/step - loss: 0.4361 - val_loss: 0.4021\n",
      "Epoch 9/100\n",
      "600/600 [==============================] - 2s 3ms/step - loss: 0.4034 - val_loss: 0.3749\n",
      "Epoch 10/100\n",
      "600/600 [==============================] - 2s 3ms/step - loss: 0.3782 - val_loss: 0.3537\n",
      "Epoch 11/100\n",
      "600/600 [==============================] - 2s 3ms/step - loss: 0.3580 - val_loss: 0.3364\n",
      "Epoch 12/100\n",
      "600/600 [==============================] - 2s 3ms/step - loss: 0.3415 - val_loss: 0.3226\n",
      "Epoch 13/100\n",
      "600/600 [==============================] - 2s 3ms/step - loss: 0.3276 - val_loss: 0.3104\n",
      "Epoch 14/100\n",
      "600/600 [==============================] - 2s 3ms/step - loss: 0.3157 - val_loss: 0.2999\n",
      "Epoch 15/100\n",
      "600/600 [==============================] - 2s 3ms/step - loss: 0.3051 - val_loss: 0.2914\n",
      "Epoch 16/100\n",
      "600/600 [==============================] - 2s 3ms/step - loss: 0.2959 - val_loss: 0.2828\n",
      "Epoch 17/100\n",
      "600/600 [==============================] - 2s 3ms/step - loss: 0.2875 - val_loss: 0.2756\n",
      "Epoch 18/100\n",
      "600/600 [==============================] - 2s 3ms/step - loss: 0.2798 - val_loss: 0.2692\n",
      "Epoch 19/100\n",
      "600/600 [==============================] - 2s 3ms/step - loss: 0.2727 - val_loss: 0.2624\n",
      "Epoch 20/100\n",
      "600/600 [==============================] - 2s 3ms/step - loss: 0.2662 - val_loss: 0.2571\n",
      "Epoch 21/100\n",
      "600/600 [==============================] - 2s 3ms/step - loss: 0.2601 - val_loss: 0.2515\n",
      "Epoch 22/100\n",
      "600/600 [==============================] - 2s 3ms/step - loss: 0.2543 - val_loss: 0.2465\n",
      "Epoch 23/100\n",
      "600/600 [==============================] - 2s 3ms/step - loss: 0.2490 - val_loss: 0.2417\n",
      "Epoch 24/100\n",
      "600/600 [==============================] - 2s 3ms/step - loss: 0.2439 - val_loss: 0.2375\n",
      "Epoch 25/100\n",
      "600/600 [==============================] - 2s 3ms/step - loss: 0.2391 - val_loss: 0.2328\n",
      "Epoch 26/100\n",
      "600/600 [==============================] - 2s 3ms/step - loss: 0.2346 - val_loss: 0.2294\n",
      "Epoch 27/100\n",
      "600/600 [==============================] - 2s 3ms/step - loss: 0.2303 - val_loss: 0.2256\n",
      "Epoch 28/100\n",
      "600/600 [==============================] - 2s 3ms/step - loss: 0.2261 - val_loss: 0.2219\n",
      "Epoch 29/100\n",
      "600/600 [==============================] - 2s 3ms/step - loss: 0.2223 - val_loss: 0.2182\n",
      "Epoch 30/100\n",
      "600/600 [==============================] - 2s 3ms/step - loss: 0.2185 - val_loss: 0.2149\n",
      "Epoch 31/100\n",
      "600/600 [==============================] - 2s 3ms/step - loss: 0.2149 - val_loss: 0.2123\n",
      "Epoch 32/100\n",
      "600/600 [==============================] - 2s 3ms/step - loss: 0.2115 - val_loss: 0.2085\n",
      "Epoch 33/100\n",
      "600/600 [==============================] - 2s 3ms/step - loss: 0.2081 - val_loss: 0.2061\n",
      "Epoch 34/100\n",
      "600/600 [==============================] - 2s 3ms/step - loss: 0.2050 - val_loss: 0.2031\n",
      "Epoch 35/100\n",
      "600/600 [==============================] - 2s 3ms/step - loss: 0.2018 - val_loss: 0.2005\n",
      "Epoch 36/100\n",
      "600/600 [==============================] - 2s 3ms/step - loss: 0.1990 - val_loss: 0.1978\n",
      "Epoch 37/100\n",
      "600/600 [==============================] - 2s 3ms/step - loss: 0.1961 - val_loss: 0.1951\n",
      "Epoch 38/100\n",
      "600/600 [==============================] - 2s 3ms/step - loss: 0.1933 - val_loss: 0.1928\n",
      "Epoch 39/100\n",
      "600/600 [==============================] - 2s 3ms/step - loss: 0.1906 - val_loss: 0.1902\n",
      "Epoch 40/100\n",
      "600/600 [==============================] - 2s 3ms/step - loss: 0.1880 - val_loss: 0.1883\n",
      "Epoch 41/100\n",
      "600/600 [==============================] - 2s 3ms/step - loss: 0.1854 - val_loss: 0.1858\n",
      "Epoch 42/100\n",
      "600/600 [==============================] - 2s 3ms/step - loss: 0.1831 - val_loss: 0.1839\n",
      "Epoch 43/100\n",
      "600/600 [==============================] - 2s 3ms/step - loss: 0.1807 - val_loss: 0.1824\n",
      "Epoch 44/100\n",
      "600/600 [==============================] - 2s 3ms/step - loss: 0.1784 - val_loss: 0.1795\n",
      "Epoch 45/100\n",
      "600/600 [==============================] - 2s 3ms/step - loss: 0.1762 - val_loss: 0.1778\n",
      "Epoch 46/100\n",
      "600/600 [==============================] - 2s 3ms/step - loss: 0.1740 - val_loss: 0.1761\n",
      "Epoch 47/100\n",
      "600/600 [==============================] - 2s 3ms/step - loss: 0.1719 - val_loss: 0.1741\n",
      "Epoch 48/100\n",
      "600/600 [==============================] - 2s 3ms/step - loss: 0.1698 - val_loss: 0.1721\n",
      "Epoch 49/100\n",
      "600/600 [==============================] - 2s 3ms/step - loss: 0.1678 - val_loss: 0.1708\n",
      "Epoch 50/100\n",
      "600/600 [==============================] - 2s 3ms/step - loss: 0.1659 - val_loss: 0.1690\n",
      "Epoch 51/100\n",
      "600/600 [==============================] - 2s 3ms/step - loss: 0.1639 - val_loss: 0.1672\n",
      "Epoch 52/100\n",
      "600/600 [==============================] - 2s 3ms/step - loss: 0.1621 - val_loss: 0.1655\n",
      "Epoch 53/100\n",
      "600/600 [==============================] - 2s 3ms/step - loss: 0.1603 - val_loss: 0.1640\n",
      "Epoch 54/100\n",
      "600/600 [==============================] - 2s 3ms/step - loss: 0.1586 - val_loss: 0.1626\n",
      "Epoch 55/100\n",
      "600/600 [==============================] - 2s 3ms/step - loss: 0.1568 - val_loss: 0.1610\n",
      "Epoch 56/100\n",
      "600/600 [==============================] - 2s 3ms/step - loss: 0.1551 - val_loss: 0.1598\n",
      "Epoch 57/100\n",
      "600/600 [==============================] - 2s 3ms/step - loss: 0.1535 - val_loss: 0.1583\n",
      "Epoch 58/100\n",
      "600/600 [==============================] - 2s 3ms/step - loss: 0.1519 - val_loss: 0.1568\n",
      "Epoch 59/100\n",
      "600/600 [==============================] - 2s 3ms/step - loss: 0.1503 - val_loss: 0.1557\n",
      "Epoch 60/100\n",
      "600/600 [==============================] - 2s 3ms/step - loss: 0.1488 - val_loss: 0.1542\n",
      "Epoch 61/100\n",
      "600/600 [==============================] - 2s 3ms/step - loss: 0.1473 - val_loss: 0.1529\n",
      "Epoch 62/100\n",
      "600/600 [==============================] - 2s 3ms/step - loss: 0.1458 - val_loss: 0.1516\n",
      "Epoch 63/100\n",
      "600/600 [==============================] - 2s 3ms/step - loss: 0.1444 - val_loss: 0.1508\n",
      "Epoch 64/100\n",
      "600/600 [==============================] - 2s 3ms/step - loss: 0.1429 - val_loss: 0.1492\n",
      "Epoch 65/100\n",
      "600/600 [==============================] - 2s 3ms/step - loss: 0.1416 - val_loss: 0.1483\n",
      "Epoch 66/100\n",
      "600/600 [==============================] - 2s 3ms/step - loss: 0.1402 - val_loss: 0.1469\n",
      "Epoch 67/100\n",
      "600/600 [==============================] - 2s 3ms/step - loss: 0.1388 - val_loss: 0.1457\n",
      "Epoch 68/100\n",
      "600/600 [==============================] - 2s 3ms/step - loss: 0.1375 - val_loss: 0.1445\n",
      "Epoch 69/100\n",
      "600/600 [==============================] - 2s 3ms/step - loss: 0.1362 - val_loss: 0.1436\n",
      "Epoch 70/100\n",
      "600/600 [==============================] - 2s 3ms/step - loss: 0.1349 - val_loss: 0.1423\n",
      "Epoch 71/100\n",
      "600/600 [==============================] - 2s 3ms/step - loss: 0.1336 - val_loss: 0.1415\n",
      "Epoch 72/100\n",
      "600/600 [==============================] - 2s 3ms/step - loss: 0.1324 - val_loss: 0.1407\n",
      "Epoch 73/100\n",
      "600/600 [==============================] - 2s 3ms/step - loss: 0.1312 - val_loss: 0.1395\n",
      "Epoch 74/100\n",
      "600/600 [==============================] - 2s 3ms/step - loss: 0.1300 - val_loss: 0.1382\n",
      "Epoch 75/100\n",
      "600/600 [==============================] - 2s 3ms/step - loss: 0.1288 - val_loss: 0.1380\n",
      "Epoch 76/100\n",
      "600/600 [==============================] - 2s 3ms/step - loss: 0.1277 - val_loss: 0.1367\n",
      "Epoch 77/100\n",
      "600/600 [==============================] - 2s 3ms/step - loss: 0.1265 - val_loss: 0.1356\n",
      "Epoch 78/100\n",
      "600/600 [==============================] - 2s 3ms/step - loss: 0.1255 - val_loss: 0.1347\n",
      "Epoch 79/100\n",
      "600/600 [==============================] - 2s 3ms/step - loss: 0.1243 - val_loss: 0.1341\n",
      "Epoch 80/100\n",
      "600/600 [==============================] - 2s 3ms/step - loss: 0.1233 - val_loss: 0.1328\n",
      "Epoch 81/100\n",
      "600/600 [==============================] - 2s 3ms/step - loss: 0.1222 - val_loss: 0.1322\n",
      "Epoch 82/100\n",
      "600/600 [==============================] - 2s 3ms/step - loss: 0.1212 - val_loss: 0.1311\n",
      "Epoch 83/100\n",
      "600/600 [==============================] - 2s 3ms/step - loss: 0.1201 - val_loss: 0.1302\n",
      "Epoch 84/100\n",
      "600/600 [==============================] - 2s 3ms/step - loss: 0.1190 - val_loss: 0.1295\n",
      "Epoch 85/100\n",
      "600/600 [==============================] - 2s 3ms/step - loss: 0.1181 - val_loss: 0.1289\n",
      "Epoch 86/100\n",
      "600/600 [==============================] - 2s 3ms/step - loss: 0.1171 - val_loss: 0.1277\n",
      "Epoch 87/100\n",
      "600/600 [==============================] - 2s 3ms/step - loss: 0.1161 - val_loss: 0.1276\n",
      "Epoch 88/100\n",
      "600/600 [==============================] - 2s 3ms/step - loss: 0.1150 - val_loss: 0.1273\n",
      "Epoch 89/100\n",
      "600/600 [==============================] - 2s 3ms/step - loss: 0.1142 - val_loss: 0.1259\n",
      "Epoch 90/100\n",
      "600/600 [==============================] - 2s 3ms/step - loss: 0.1132 - val_loss: 0.1249\n",
      "Epoch 91/100\n",
      "600/600 [==============================] - 2s 3ms/step - loss: 0.1123 - val_loss: 0.1240\n",
      "Epoch 92/100\n",
      "600/600 [==============================] - 2s 3ms/step - loss: 0.1114 - val_loss: 0.1232\n",
      "Epoch 93/100\n",
      "600/600 [==============================] - 2s 3ms/step - loss: 0.1105 - val_loss: 0.1227\n",
      "Epoch 94/100\n",
      "600/600 [==============================] - 2s 3ms/step - loss: 0.1095 - val_loss: 0.1221\n",
      "Epoch 95/100\n",
      "600/600 [==============================] - 2s 3ms/step - loss: 0.1087 - val_loss: 0.1214\n",
      "Epoch 96/100\n",
      "600/600 [==============================] - 2s 3ms/step - loss: 0.1078 - val_loss: 0.1208\n",
      "Epoch 97/100\n",
      "600/600 [==============================] - 2s 3ms/step - loss: 0.1070 - val_loss: 0.1205\n",
      "Epoch 98/100\n",
      "600/600 [==============================] - 2s 3ms/step - loss: 0.1062 - val_loss: 0.1196\n",
      "Epoch 99/100\n",
      "600/600 [==============================] - 2s 3ms/step - loss: 0.1053 - val_loss: 0.1189\n",
      "Epoch 100/100\n",
      "600/600 [==============================] - 2s 3ms/step - loss: 0.1045 - val_loss: 0.1179\n"
     ]
    }
   ],
   "source": [
    "model = Sequential()\n",
    "model.add(Dense(128, activation=\"relu\", input_dim=nDim))\n",
    "model.add(Dense(64, activation=\"relu\"))\n",
    "model.add(Dense(10, activation=\"sigmoid\"))\n",
    "\n",
    "callback = EarlyStopping(monitor='val_loss',\n",
    "                         patience=5,\n",
    "                         min_delta=0.001)\n",
    "opt = keras.optimizers.adam_v2.Adam(learning_rate=0.00001)\n",
    "model.compile(loss=\"sparse_categorical_crossentropy\", optimizer=opt)\n",
    "\n",
    "fit = model.fit(Xtrn, Ytrn,\n",
    "                validation_data=(Xtst, Ytst),\n",
    "                batch_size=100, epochs=100,\n",
    "                verbose=1, callbacks=[callback])"
   ]
  },
  {
   "cell_type": "code",
   "execution_count": 5,
   "metadata": {
    "colab": {
     "base_uri": "https://localhost:8080/",
     "height": 388
    },
    "id": "ZNfMNw0goC8r",
    "outputId": "d2b98ea0-650a-455d-e236-e28a7cda36c0"
   },
   "outputs": [
    {
     "data": {
      "image/png": "[encoded data removed]",
      "text/plain": [
       "<Figure size 864x432 with 1 Axes>"
      ]
     },
     "metadata": {
      "needs_background": "light"
     },
     "output_type": "display_data"
    }
   ],
   "source": [
    "plot_model_loss(fit)"
   ]
  },
  {
   "cell_type": "markdown",
   "metadata": {
    "id": "isOUrin1zeIx"
   },
   "source": [
    "### Figure 1: The training and validation set sparse categorical cross entropy losses are plotted for this digit recogniztion model with the MNIST dataset. With a learning rate of 1e-5 and 100 epochs, there are signs of overfitting as the validation loss is improving more slowly than the training loss."
   ]
  },
  {
   "cell_type": "code",
   "execution_count": 6,
   "metadata": {
    "colab": {
     "base_uri": "https://localhost:8080/"
    },
    "id": "8A3ZfERnyQ9Y",
    "outputId": "ff3c215a-6822-4c25-ca4f-32b96b88a55d"
   },
   "outputs": [
    {
     "data": {
      "text/plain": [
       "0.9642"
      ]
     },
     "execution_count": 6,
     "metadata": {},
     "output_type": "execute_result"
    }
   ],
   "source": [
    "pred = model.predict(Xtst)\n",
    "pred = np.argmax(pred, axis=1)\n",
    "accuracy = np.sum(Ytst == pred) / nTst\n",
    "accuracy"
   ]
  },
  {
   "cell_type": "markdown",
   "metadata": {
    "id": "LCtHyL7izvRW"
   },
   "source": [
    "### The accuracy of the model after 100 epochs is 96.42%"
   ]
  },
  {
   "cell_type": "markdown",
   "metadata": {
    "id": "WaepNuq6E3A_"
   },
   "source": [
    "---"
   ]
  },
  {
   "cell_type": "markdown",
   "metadata": {},
   "source": [
    "<h1 style=\"color:red\"> Great !</h1>\n"
   ]
  }
 ],
 "metadata": {
  "accelerator": "GPU",
  "colab": {
   "authorship_tag": "ABX9TyMYemEw3I+MFURPFZ16+mWi",
   "collapsed_sections": [],
   "include_colab_link": true,
   "mount_file_id": "1weKhJNt946njCAGORazfZqe_1Kp2Ghgb",
   "name": "HW10_MNIST.ipynb",
   "provenance": []
  },
  "kernelspec": {
   "display_name": "Python 3",
   "language": "python",
   "name": "python3"
  },
  "language_info": {
   "codemirror_mode": {
    "name": "ipython",
    "version": 3
   },
   "file_extension": ".py",
   "mimetype": "text/x-python",
   "name": "python",
   "nbconvert_exporter": "python",
   "pygments_lexer": "ipython3",
   "version": "3.6.8"
  }
 },
 "nbformat": 4,
 "nbformat_minor": 1
}
