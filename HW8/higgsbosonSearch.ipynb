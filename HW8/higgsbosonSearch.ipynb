{
  "nbformat": 4,
  "nbformat_minor": 0,
  "metadata": {
    "colab": {
      "name": "higgsbosonSearch.ipynb",
      "provenance": [],
      "collapsed_sections": [],
      "include_colab_link": true
    },
    "kernelspec": {
      "name": "python3",
      "display_name": "Python 3"
    }
  },
  "cells": [
    {
      "cell_type": "markdown",
      "metadata": {
        "id": "view-in-github",
        "colab_type": "text"
      },
      "source": [
        "<a href=\"https://colab.research.google.com/github/FoxFortino/DSPS_WFortino/blob/main/HW8/higgsbosonSearch.ipynb\" target=\"_parent\"><img src=\"https://colab.research.google.com/assets/colab-badge.svg\" alt=\"Open In Colab\"/></a>"
      ]
    },
    {
      "cell_type": "code",
      "metadata": {
        "id": "-xpw06PzTsU6",
        "colab": {
          "base_uri": "https://localhost:8080/"
        },
        "outputId": "55d5e2ba-1d43-4a71-c0df-95f6048850d7"
      },
      "source": [
        "from google.colab import drive\n",
        "drive.mount('/content/drive')"
      ],
      "execution_count": 1,
      "outputs": [
        {
          "output_type": "stream",
          "name": "stdout",
          "text": [
            "Drive already mounted at /content/drive; to attempt to forcibly remount, call drive.mount(\"/content/drive\", force_remount=True).\n"
          ]
        }
      ]
    },
    {
      "cell_type": "markdown",
      "metadata": {
        "id": "nS4S7msAPK_R"
      },
      "source": [
        "- Download the Higgs boson data from Kaggle (programmatically within the notebook)\n",
        "see how I did it in the Titanic Trees notebook https://github.com/fedhere/DSPS/blob/master/lab9/titanictree.ipynb\n",
        "\n",
        "find the correct API link here https://www.kaggle.com/c/higgs-boson/data\n"
      ]
    },
    {
      "cell_type": "code",
      "metadata": {
        "id": "hl1Dz7VeNgzk"
      },
      "source": [
        "import json\n",
        "import os\n",
        "\n",
        "import numpy as np\n",
        "import pandas as pd\n",
        "import matplotlib.pyplot as plt\n",
        "\n",
        "from sklearn.model_selection import train_test_split as tts\n",
        "from sklearn.ensemble import RandomForestClassifier\n",
        "from sklearn.ensemble import GradientBoostingClassifier\n",
        "from sklearn.datasets import make_classification\n",
        "from sklearn.metrics import confusion_matrix\n",
        "from sklearn.ensemble import RandomForestRegressor\n",
        "from sklearn.ensemble import GradientBoostingRegressor\n",
        "from sklearn.model_selection import RandomizedSearchCV"
      ],
      "execution_count": 87,
      "outputs": []
    },
    {
      "cell_type": "code",
      "metadata": {
        "id": "Ee4bN6aENaHO"
      },
      "source": [
        "envs = json.load(open(\"/content/drive/MyDrive/.kaggle/kaggle.json\", \"r\"))\n",
        "os.environ[\"KAGGLE_USERNAME\"] = envs['username']\n",
        "os.environ[\"KAGGLE_KEY\"] = envs['key']"
      ],
      "execution_count": 3,
      "outputs": []
    },
    {
      "cell_type": "code",
      "metadata": {
        "id": "hSmeTUCPM8df"
      },
      "source": [
        "# !mkdir -p /content/drive/MyDrive/Higgs"
      ],
      "execution_count": 4,
      "outputs": []
    },
    {
      "cell_type": "code",
      "metadata": {
        "id": "O1LWCZ9_NpY8"
      },
      "source": [
        "# !cd /content/drive/MyDrive/Higgs"
      ],
      "execution_count": 5,
      "outputs": []
    },
    {
      "cell_type": "code",
      "metadata": {
        "id": "jR-0cyC3NTop"
      },
      "source": [
        "# !kaggle competitions download -c higgs-boson"
      ],
      "execution_count": 6,
      "outputs": []
    },
    {
      "cell_type": "code",
      "metadata": {
        "colab": {
          "base_uri": "https://localhost:8080/"
        },
        "id": "Zbfc0A0GPH-h",
        "outputId": "1218c4f3-58d3-47c5-cec5-f6f8a79c2c9e"
      },
      "source": [
        "!ls /content/drive/MyDrive/Higgs"
      ],
      "execution_count": 7,
      "outputs": [
        {
          "output_type": "stream",
          "name": "stdout",
          "text": [
            "HiggsBosonCompetition_AMSMetric_rev1.py  test.zip\n",
            "random_submission.zip\t\t\t training.zip\n"
          ]
        }
      ]
    },
    {
      "cell_type": "markdown",
      "metadata": {
        "id": "KMuvMJgOnlYo"
      },
      "source": [
        "\n",
        "- Read in the trainind data. Split the provided training data into a training and a test set. \n",
        "The last 2 columns are what you want to predict: \"weight\" and \"label\".\n",
        "Remove them from the input data and create a separate variable label and a separate variable weight, which will be your target variables for, respectively, classification and regression.\n",
        "\n"
      ]
    },
    {
      "cell_type": "code",
      "metadata": {
        "colab": {
          "base_uri": "https://localhost:8080/"
        },
        "id": "zHCi2xINNPW-",
        "outputId": "e55caec2-24b9-472e-d246-da121a53e32c"
      },
      "source": [
        "higgsdata = pd.read_csv(\"/content/drive/MyDrive/Higgs/training.zip\")\n",
        "\n",
        "label = higgsdata[\"Label\"]\n",
        "weight = higgsdata[\"Weight\"]\n",
        "higgsdata = higgsdata.drop(columns=[\"Label\", \"Weight\"])\n",
        "higgsdata.shape"
      ],
      "execution_count": 8,
      "outputs": [
        {
          "output_type": "execute_result",
          "data": {
            "text/plain": [
              "(250000, 31)"
            ]
          },
          "metadata": {},
          "execution_count": 8
        }
      ]
    },
    {
      "cell_type": "code",
      "metadata": {
        "id": "muWGBHN90IPN",
        "colab": {
          "base_uri": "https://localhost:8080/",
          "height": 224
        },
        "outputId": "2abb751b-4074-4ebc-8ec6-434176f0f988"
      },
      "source": [
        "higgsdata.head()"
      ],
      "execution_count": 9,
      "outputs": [
        {
          "output_type": "execute_result",
          "data": {
            "text/html": [
              "<div>\n",
              "<style scoped>\n",
              "    .dataframe tbody tr th:only-of-type {\n",
              "        vertical-align: middle;\n",
              "    }\n",
              "\n",
              "    .dataframe tbody tr th {\n",
              "        vertical-align: top;\n",
              "    }\n",
              "\n",
              "    .dataframe thead th {\n",
              "        text-align: right;\n",
              "    }\n",
              "</style>\n",
              "<table border=\"1\" class=\"dataframe\">\n",
              "  <thead>\n",
              "    <tr style=\"text-align: right;\">\n",
              "      <th></th>\n",
              "      <th>EventId</th>\n",
              "      <th>DER_mass_MMC</th>\n",
              "      <th>DER_mass_transverse_met_lep</th>\n",
              "      <th>DER_mass_vis</th>\n",
              "      <th>DER_pt_h</th>\n",
              "      <th>DER_deltaeta_jet_jet</th>\n",
              "      <th>DER_mass_jet_jet</th>\n",
              "      <th>DER_prodeta_jet_jet</th>\n",
              "      <th>DER_deltar_tau_lep</th>\n",
              "      <th>DER_pt_tot</th>\n",
              "      <th>DER_sum_pt</th>\n",
              "      <th>DER_pt_ratio_lep_tau</th>\n",
              "      <th>DER_met_phi_centrality</th>\n",
              "      <th>DER_lep_eta_centrality</th>\n",
              "      <th>PRI_tau_pt</th>\n",
              "      <th>PRI_tau_eta</th>\n",
              "      <th>PRI_tau_phi</th>\n",
              "      <th>PRI_lep_pt</th>\n",
              "      <th>PRI_lep_eta</th>\n",
              "      <th>PRI_lep_phi</th>\n",
              "      <th>PRI_met</th>\n",
              "      <th>PRI_met_phi</th>\n",
              "      <th>PRI_met_sumet</th>\n",
              "      <th>PRI_jet_num</th>\n",
              "      <th>PRI_jet_leading_pt</th>\n",
              "      <th>PRI_jet_leading_eta</th>\n",
              "      <th>PRI_jet_leading_phi</th>\n",
              "      <th>PRI_jet_subleading_pt</th>\n",
              "      <th>PRI_jet_subleading_eta</th>\n",
              "      <th>PRI_jet_subleading_phi</th>\n",
              "      <th>PRI_jet_all_pt</th>\n",
              "    </tr>\n",
              "  </thead>\n",
              "  <tbody>\n",
              "    <tr>\n",
              "      <th>0</th>\n",
              "      <td>100000</td>\n",
              "      <td>138.470</td>\n",
              "      <td>51.655</td>\n",
              "      <td>97.827</td>\n",
              "      <td>27.980</td>\n",
              "      <td>0.91</td>\n",
              "      <td>124.711</td>\n",
              "      <td>2.666</td>\n",
              "      <td>3.064</td>\n",
              "      <td>41.928</td>\n",
              "      <td>197.760</td>\n",
              "      <td>1.582</td>\n",
              "      <td>1.396</td>\n",
              "      <td>0.2</td>\n",
              "      <td>32.638</td>\n",
              "      <td>1.017</td>\n",
              "      <td>0.381</td>\n",
              "      <td>51.626</td>\n",
              "      <td>2.273</td>\n",
              "      <td>-2.414</td>\n",
              "      <td>16.824</td>\n",
              "      <td>-0.277</td>\n",
              "      <td>258.733</td>\n",
              "      <td>2</td>\n",
              "      <td>67.435</td>\n",
              "      <td>2.150</td>\n",
              "      <td>0.444</td>\n",
              "      <td>46.062</td>\n",
              "      <td>1.24</td>\n",
              "      <td>-2.475</td>\n",
              "      <td>113.497</td>\n",
              "    </tr>\n",
              "    <tr>\n",
              "      <th>1</th>\n",
              "      <td>100001</td>\n",
              "      <td>160.937</td>\n",
              "      <td>68.768</td>\n",
              "      <td>103.235</td>\n",
              "      <td>48.146</td>\n",
              "      <td>-999.00</td>\n",
              "      <td>-999.000</td>\n",
              "      <td>-999.000</td>\n",
              "      <td>3.473</td>\n",
              "      <td>2.078</td>\n",
              "      <td>125.157</td>\n",
              "      <td>0.879</td>\n",
              "      <td>1.414</td>\n",
              "      <td>-999.0</td>\n",
              "      <td>42.014</td>\n",
              "      <td>2.039</td>\n",
              "      <td>-3.011</td>\n",
              "      <td>36.918</td>\n",
              "      <td>0.501</td>\n",
              "      <td>0.103</td>\n",
              "      <td>44.704</td>\n",
              "      <td>-1.916</td>\n",
              "      <td>164.546</td>\n",
              "      <td>1</td>\n",
              "      <td>46.226</td>\n",
              "      <td>0.725</td>\n",
              "      <td>1.158</td>\n",
              "      <td>-999.000</td>\n",
              "      <td>-999.00</td>\n",
              "      <td>-999.000</td>\n",
              "      <td>46.226</td>\n",
              "    </tr>\n",
              "    <tr>\n",
              "      <th>2</th>\n",
              "      <td>100002</td>\n",
              "      <td>-999.000</td>\n",
              "      <td>162.172</td>\n",
              "      <td>125.953</td>\n",
              "      <td>35.635</td>\n",
              "      <td>-999.00</td>\n",
              "      <td>-999.000</td>\n",
              "      <td>-999.000</td>\n",
              "      <td>3.148</td>\n",
              "      <td>9.336</td>\n",
              "      <td>197.814</td>\n",
              "      <td>3.776</td>\n",
              "      <td>1.414</td>\n",
              "      <td>-999.0</td>\n",
              "      <td>32.154</td>\n",
              "      <td>-0.705</td>\n",
              "      <td>-2.093</td>\n",
              "      <td>121.409</td>\n",
              "      <td>-0.953</td>\n",
              "      <td>1.052</td>\n",
              "      <td>54.283</td>\n",
              "      <td>-2.186</td>\n",
              "      <td>260.414</td>\n",
              "      <td>1</td>\n",
              "      <td>44.251</td>\n",
              "      <td>2.053</td>\n",
              "      <td>-2.028</td>\n",
              "      <td>-999.000</td>\n",
              "      <td>-999.00</td>\n",
              "      <td>-999.000</td>\n",
              "      <td>44.251</td>\n",
              "    </tr>\n",
              "    <tr>\n",
              "      <th>3</th>\n",
              "      <td>100003</td>\n",
              "      <td>143.905</td>\n",
              "      <td>81.417</td>\n",
              "      <td>80.943</td>\n",
              "      <td>0.414</td>\n",
              "      <td>-999.00</td>\n",
              "      <td>-999.000</td>\n",
              "      <td>-999.000</td>\n",
              "      <td>3.310</td>\n",
              "      <td>0.414</td>\n",
              "      <td>75.968</td>\n",
              "      <td>2.354</td>\n",
              "      <td>-1.285</td>\n",
              "      <td>-999.0</td>\n",
              "      <td>22.647</td>\n",
              "      <td>-1.655</td>\n",
              "      <td>0.010</td>\n",
              "      <td>53.321</td>\n",
              "      <td>-0.522</td>\n",
              "      <td>-3.100</td>\n",
              "      <td>31.082</td>\n",
              "      <td>0.060</td>\n",
              "      <td>86.062</td>\n",
              "      <td>0</td>\n",
              "      <td>-999.000</td>\n",
              "      <td>-999.000</td>\n",
              "      <td>-999.000</td>\n",
              "      <td>-999.000</td>\n",
              "      <td>-999.00</td>\n",
              "      <td>-999.000</td>\n",
              "      <td>-0.000</td>\n",
              "    </tr>\n",
              "    <tr>\n",
              "      <th>4</th>\n",
              "      <td>100004</td>\n",
              "      <td>175.864</td>\n",
              "      <td>16.915</td>\n",
              "      <td>134.805</td>\n",
              "      <td>16.405</td>\n",
              "      <td>-999.00</td>\n",
              "      <td>-999.000</td>\n",
              "      <td>-999.000</td>\n",
              "      <td>3.891</td>\n",
              "      <td>16.405</td>\n",
              "      <td>57.983</td>\n",
              "      <td>1.056</td>\n",
              "      <td>-1.385</td>\n",
              "      <td>-999.0</td>\n",
              "      <td>28.209</td>\n",
              "      <td>-2.197</td>\n",
              "      <td>-2.231</td>\n",
              "      <td>29.774</td>\n",
              "      <td>0.798</td>\n",
              "      <td>1.569</td>\n",
              "      <td>2.723</td>\n",
              "      <td>-0.871</td>\n",
              "      <td>53.131</td>\n",
              "      <td>0</td>\n",
              "      <td>-999.000</td>\n",
              "      <td>-999.000</td>\n",
              "      <td>-999.000</td>\n",
              "      <td>-999.000</td>\n",
              "      <td>-999.00</td>\n",
              "      <td>-999.000</td>\n",
              "      <td>0.000</td>\n",
              "    </tr>\n",
              "  </tbody>\n",
              "</table>\n",
              "</div>"
            ],
            "text/plain": [
              "   EventId  DER_mass_MMC  ...  PRI_jet_subleading_phi  PRI_jet_all_pt\n",
              "0   100000       138.470  ...                  -2.475         113.497\n",
              "1   100001       160.937  ...                -999.000          46.226\n",
              "2   100002      -999.000  ...                -999.000          44.251\n",
              "3   100003       143.905  ...                -999.000          -0.000\n",
              "4   100004       175.864  ...                -999.000           0.000\n",
              "\n",
              "[5 rows x 31 columns]"
            ]
          },
          "metadata": {},
          "execution_count": 9
        }
      ]
    },
    {
      "cell_type": "code",
      "metadata": {
        "id": "HCPS73k0ytqj",
        "colab": {
          "base_uri": "https://localhost:8080/",
          "height": 317
        },
        "outputId": "c6f0e1a0-27c6-492f-f47d-b9496b05b18f"
      },
      "source": [
        "higgsdata.describe()"
      ],
      "execution_count": 10,
      "outputs": [
        {
          "output_type": "execute_result",
          "data": {
            "text/html": [
              "<div>\n",
              "<style scoped>\n",
              "    .dataframe tbody tr th:only-of-type {\n",
              "        vertical-align: middle;\n",
              "    }\n",
              "\n",
              "    .dataframe tbody tr th {\n",
              "        vertical-align: top;\n",
              "    }\n",
              "\n",
              "    .dataframe thead th {\n",
              "        text-align: right;\n",
              "    }\n",
              "</style>\n",
              "<table border=\"1\" class=\"dataframe\">\n",
              "  <thead>\n",
              "    <tr style=\"text-align: right;\">\n",
              "      <th></th>\n",
              "      <th>EventId</th>\n",
              "      <th>DER_mass_MMC</th>\n",
              "      <th>DER_mass_transverse_met_lep</th>\n",
              "      <th>DER_mass_vis</th>\n",
              "      <th>DER_pt_h</th>\n",
              "      <th>DER_deltaeta_jet_jet</th>\n",
              "      <th>DER_mass_jet_jet</th>\n",
              "      <th>DER_prodeta_jet_jet</th>\n",
              "      <th>DER_deltar_tau_lep</th>\n",
              "      <th>DER_pt_tot</th>\n",
              "      <th>DER_sum_pt</th>\n",
              "      <th>DER_pt_ratio_lep_tau</th>\n",
              "      <th>DER_met_phi_centrality</th>\n",
              "      <th>DER_lep_eta_centrality</th>\n",
              "      <th>PRI_tau_pt</th>\n",
              "      <th>PRI_tau_eta</th>\n",
              "      <th>PRI_tau_phi</th>\n",
              "      <th>PRI_lep_pt</th>\n",
              "      <th>PRI_lep_eta</th>\n",
              "      <th>PRI_lep_phi</th>\n",
              "      <th>PRI_met</th>\n",
              "      <th>PRI_met_phi</th>\n",
              "      <th>PRI_met_sumet</th>\n",
              "      <th>PRI_jet_num</th>\n",
              "      <th>PRI_jet_leading_pt</th>\n",
              "      <th>PRI_jet_leading_eta</th>\n",
              "      <th>PRI_jet_leading_phi</th>\n",
              "      <th>PRI_jet_subleading_pt</th>\n",
              "      <th>PRI_jet_subleading_eta</th>\n",
              "      <th>PRI_jet_subleading_phi</th>\n",
              "      <th>PRI_jet_all_pt</th>\n",
              "    </tr>\n",
              "  </thead>\n",
              "  <tbody>\n",
              "    <tr>\n",
              "      <th>count</th>\n",
              "      <td>250000.000000</td>\n",
              "      <td>250000.000000</td>\n",
              "      <td>250000.000000</td>\n",
              "      <td>250000.000000</td>\n",
              "      <td>250000.000000</td>\n",
              "      <td>250000.000000</td>\n",
              "      <td>250000.000000</td>\n",
              "      <td>250000.000000</td>\n",
              "      <td>250000.000000</td>\n",
              "      <td>250000.000000</td>\n",
              "      <td>250000.000000</td>\n",
              "      <td>250000.000000</td>\n",
              "      <td>250000.000000</td>\n",
              "      <td>250000.000000</td>\n",
              "      <td>250000.000000</td>\n",
              "      <td>250000.000000</td>\n",
              "      <td>250000.000000</td>\n",
              "      <td>250000.000000</td>\n",
              "      <td>250000.000000</td>\n",
              "      <td>250000.000000</td>\n",
              "      <td>250000.000000</td>\n",
              "      <td>250000.000000</td>\n",
              "      <td>250000.000000</td>\n",
              "      <td>250000.000000</td>\n",
              "      <td>250000.000000</td>\n",
              "      <td>250000.000000</td>\n",
              "      <td>250000.000000</td>\n",
              "      <td>250000.000000</td>\n",
              "      <td>250000.000000</td>\n",
              "      <td>250000.000000</td>\n",
              "      <td>250000.000000</td>\n",
              "    </tr>\n",
              "    <tr>\n",
              "      <th>mean</th>\n",
              "      <td>224999.500000</td>\n",
              "      <td>-49.023079</td>\n",
              "      <td>49.239819</td>\n",
              "      <td>81.181982</td>\n",
              "      <td>57.895962</td>\n",
              "      <td>-708.420675</td>\n",
              "      <td>-601.237051</td>\n",
              "      <td>-709.356603</td>\n",
              "      <td>2.373100</td>\n",
              "      <td>18.917332</td>\n",
              "      <td>158.432217</td>\n",
              "      <td>1.437609</td>\n",
              "      <td>-0.128305</td>\n",
              "      <td>-708.985189</td>\n",
              "      <td>38.707419</td>\n",
              "      <td>-0.010973</td>\n",
              "      <td>-0.008171</td>\n",
              "      <td>46.660207</td>\n",
              "      <td>-0.019507</td>\n",
              "      <td>0.043543</td>\n",
              "      <td>41.717235</td>\n",
              "      <td>-0.010119</td>\n",
              "      <td>209.797178</td>\n",
              "      <td>0.979176</td>\n",
              "      <td>-348.329567</td>\n",
              "      <td>-399.254314</td>\n",
              "      <td>-399.259788</td>\n",
              "      <td>-692.381204</td>\n",
              "      <td>-709.121609</td>\n",
              "      <td>-709.118631</td>\n",
              "      <td>73.064591</td>\n",
              "    </tr>\n",
              "    <tr>\n",
              "      <th>std</th>\n",
              "      <td>72168.927986</td>\n",
              "      <td>406.345647</td>\n",
              "      <td>35.344886</td>\n",
              "      <td>40.828691</td>\n",
              "      <td>63.655682</td>\n",
              "      <td>454.480565</td>\n",
              "      <td>657.972302</td>\n",
              "      <td>453.019877</td>\n",
              "      <td>0.782911</td>\n",
              "      <td>22.273494</td>\n",
              "      <td>115.706115</td>\n",
              "      <td>0.844743</td>\n",
              "      <td>1.193585</td>\n",
              "      <td>453.596721</td>\n",
              "      <td>22.412081</td>\n",
              "      <td>1.214079</td>\n",
              "      <td>1.816763</td>\n",
              "      <td>22.064922</td>\n",
              "      <td>1.264982</td>\n",
              "      <td>1.816611</td>\n",
              "      <td>32.894693</td>\n",
              "      <td>1.812223</td>\n",
              "      <td>126.499506</td>\n",
              "      <td>0.977426</td>\n",
              "      <td>532.962789</td>\n",
              "      <td>489.338286</td>\n",
              "      <td>489.333883</td>\n",
              "      <td>479.875496</td>\n",
              "      <td>453.384624</td>\n",
              "      <td>453.389017</td>\n",
              "      <td>98.015662</td>\n",
              "    </tr>\n",
              "    <tr>\n",
              "      <th>min</th>\n",
              "      <td>100000.000000</td>\n",
              "      <td>-999.000000</td>\n",
              "      <td>0.000000</td>\n",
              "      <td>6.329000</td>\n",
              "      <td>0.000000</td>\n",
              "      <td>-999.000000</td>\n",
              "      <td>-999.000000</td>\n",
              "      <td>-999.000000</td>\n",
              "      <td>0.208000</td>\n",
              "      <td>0.000000</td>\n",
              "      <td>46.104000</td>\n",
              "      <td>0.047000</td>\n",
              "      <td>-1.414000</td>\n",
              "      <td>-999.000000</td>\n",
              "      <td>20.000000</td>\n",
              "      <td>-2.499000</td>\n",
              "      <td>-3.142000</td>\n",
              "      <td>26.000000</td>\n",
              "      <td>-2.505000</td>\n",
              "      <td>-3.142000</td>\n",
              "      <td>0.109000</td>\n",
              "      <td>-3.142000</td>\n",
              "      <td>13.678000</td>\n",
              "      <td>0.000000</td>\n",
              "      <td>-999.000000</td>\n",
              "      <td>-999.000000</td>\n",
              "      <td>-999.000000</td>\n",
              "      <td>-999.000000</td>\n",
              "      <td>-999.000000</td>\n",
              "      <td>-999.000000</td>\n",
              "      <td>0.000000</td>\n",
              "    </tr>\n",
              "    <tr>\n",
              "      <th>25%</th>\n",
              "      <td>162499.750000</td>\n",
              "      <td>78.100750</td>\n",
              "      <td>19.241000</td>\n",
              "      <td>59.388750</td>\n",
              "      <td>14.068750</td>\n",
              "      <td>-999.000000</td>\n",
              "      <td>-999.000000</td>\n",
              "      <td>-999.000000</td>\n",
              "      <td>1.810000</td>\n",
              "      <td>2.841000</td>\n",
              "      <td>77.550000</td>\n",
              "      <td>0.883000</td>\n",
              "      <td>-1.371000</td>\n",
              "      <td>-999.000000</td>\n",
              "      <td>24.591750</td>\n",
              "      <td>-0.925000</td>\n",
              "      <td>-1.575000</td>\n",
              "      <td>32.375000</td>\n",
              "      <td>-1.014000</td>\n",
              "      <td>-1.522000</td>\n",
              "      <td>21.398000</td>\n",
              "      <td>-1.575000</td>\n",
              "      <td>123.017500</td>\n",
              "      <td>0.000000</td>\n",
              "      <td>-999.000000</td>\n",
              "      <td>-999.000000</td>\n",
              "      <td>-999.000000</td>\n",
              "      <td>-999.000000</td>\n",
              "      <td>-999.000000</td>\n",
              "      <td>-999.000000</td>\n",
              "      <td>0.000000</td>\n",
              "    </tr>\n",
              "    <tr>\n",
              "      <th>50%</th>\n",
              "      <td>224999.500000</td>\n",
              "      <td>105.012000</td>\n",
              "      <td>46.524000</td>\n",
              "      <td>73.752000</td>\n",
              "      <td>38.467500</td>\n",
              "      <td>-999.000000</td>\n",
              "      <td>-999.000000</td>\n",
              "      <td>-999.000000</td>\n",
              "      <td>2.491500</td>\n",
              "      <td>12.315500</td>\n",
              "      <td>120.664500</td>\n",
              "      <td>1.280000</td>\n",
              "      <td>-0.356000</td>\n",
              "      <td>-999.000000</td>\n",
              "      <td>31.804000</td>\n",
              "      <td>-0.023000</td>\n",
              "      <td>-0.033000</td>\n",
              "      <td>40.516000</td>\n",
              "      <td>-0.045000</td>\n",
              "      <td>0.086000</td>\n",
              "      <td>34.802000</td>\n",
              "      <td>-0.024000</td>\n",
              "      <td>179.739000</td>\n",
              "      <td>1.000000</td>\n",
              "      <td>38.960000</td>\n",
              "      <td>-1.872000</td>\n",
              "      <td>-2.093000</td>\n",
              "      <td>-999.000000</td>\n",
              "      <td>-999.000000</td>\n",
              "      <td>-999.000000</td>\n",
              "      <td>40.512500</td>\n",
              "    </tr>\n",
              "    <tr>\n",
              "      <th>75%</th>\n",
              "      <td>287499.250000</td>\n",
              "      <td>130.606250</td>\n",
              "      <td>73.598000</td>\n",
              "      <td>92.259000</td>\n",
              "      <td>79.169000</td>\n",
              "      <td>0.490000</td>\n",
              "      <td>83.446000</td>\n",
              "      <td>-4.593000</td>\n",
              "      <td>2.961000</td>\n",
              "      <td>27.591000</td>\n",
              "      <td>200.478250</td>\n",
              "      <td>1.777000</td>\n",
              "      <td>1.225000</td>\n",
              "      <td>0.000000</td>\n",
              "      <td>45.017000</td>\n",
              "      <td>0.898000</td>\n",
              "      <td>1.565000</td>\n",
              "      <td>53.390000</td>\n",
              "      <td>0.959000</td>\n",
              "      <td>1.618000</td>\n",
              "      <td>51.895000</td>\n",
              "      <td>1.561000</td>\n",
              "      <td>263.379250</td>\n",
              "      <td>2.000000</td>\n",
              "      <td>75.349000</td>\n",
              "      <td>0.433000</td>\n",
              "      <td>0.503000</td>\n",
              "      <td>33.703000</td>\n",
              "      <td>-2.457000</td>\n",
              "      <td>-2.275000</td>\n",
              "      <td>109.933750</td>\n",
              "    </tr>\n",
              "    <tr>\n",
              "      <th>max</th>\n",
              "      <td>349999.000000</td>\n",
              "      <td>1192.026000</td>\n",
              "      <td>690.075000</td>\n",
              "      <td>1349.351000</td>\n",
              "      <td>2834.999000</td>\n",
              "      <td>8.503000</td>\n",
              "      <td>4974.979000</td>\n",
              "      <td>16.690000</td>\n",
              "      <td>5.684000</td>\n",
              "      <td>2834.999000</td>\n",
              "      <td>1852.462000</td>\n",
              "      <td>19.773000</td>\n",
              "      <td>1.414000</td>\n",
              "      <td>1.000000</td>\n",
              "      <td>764.408000</td>\n",
              "      <td>2.497000</td>\n",
              "      <td>3.142000</td>\n",
              "      <td>560.271000</td>\n",
              "      <td>2.503000</td>\n",
              "      <td>3.142000</td>\n",
              "      <td>2842.617000</td>\n",
              "      <td>3.142000</td>\n",
              "      <td>2003.976000</td>\n",
              "      <td>3.000000</td>\n",
              "      <td>1120.573000</td>\n",
              "      <td>4.499000</td>\n",
              "      <td>3.141000</td>\n",
              "      <td>721.456000</td>\n",
              "      <td>4.500000</td>\n",
              "      <td>3.142000</td>\n",
              "      <td>1633.433000</td>\n",
              "    </tr>\n",
              "  </tbody>\n",
              "</table>\n",
              "</div>"
            ],
            "text/plain": [
              "             EventId   DER_mass_MMC  ...  PRI_jet_subleading_phi  PRI_jet_all_pt\n",
              "count  250000.000000  250000.000000  ...           250000.000000   250000.000000\n",
              "mean   224999.500000     -49.023079  ...             -709.118631       73.064591\n",
              "std     72168.927986     406.345647  ...              453.389017       98.015662\n",
              "min    100000.000000    -999.000000  ...             -999.000000        0.000000\n",
              "25%    162499.750000      78.100750  ...             -999.000000        0.000000\n",
              "50%    224999.500000     105.012000  ...             -999.000000       40.512500\n",
              "75%    287499.250000     130.606250  ...               -2.275000      109.933750\n",
              "max    349999.000000    1192.026000  ...                3.142000     1633.433000\n",
              "\n",
              "[8 rows x 31 columns]"
            ]
          },
          "metadata": {},
          "execution_count": 10
        }
      ]
    },
    {
      "cell_type": "code",
      "metadata": {
        "id": "dyYho7fjRUt0"
      },
      "source": [
        "split = tts(higgsdata, label, weight, train_size=0.60)\n",
        "Xtrain, Xtest, Ltrain, Ltest, Wtrain, Wtest = split"
      ],
      "execution_count": 11,
      "outputs": []
    },
    {
      "cell_type": "code",
      "metadata": {
        "id": "O8eUWMdVx983",
        "colab": {
          "base_uri": "https://localhost:8080/"
        },
        "outputId": "5ad191f7-d79a-476a-db51-7754b9586e5f"
      },
      "source": [
        "label.values"
      ],
      "execution_count": 16,
      "outputs": [
        {
          "output_type": "execute_result",
          "data": {
            "text/plain": [
              "array(['s', 'b', 'b', ..., 's', 'b', 'b'], dtype=object)"
            ]
          },
          "metadata": {},
          "execution_count": 16
        }
      ]
    },
    {
      "cell_type": "code",
      "metadata": {
        "id": "Tv1otxd5yB-X",
        "colab": {
          "base_uri": "https://localhost:8080/"
        },
        "outputId": "c1653900-b6f9-43fe-a1d5-f130108f3dd1"
      },
      "source": [
        "weight.values"
      ],
      "execution_count": 17,
      "outputs": [
        {
          "output_type": "execute_result",
          "data": {
            "text/plain": [
              "array([0.00265331, 2.23358449, 2.34738894, ..., 0.01863612, 1.68161144,\n",
              "       1.87747381])"
            ]
          },
          "metadata": {},
          "execution_count": 17
        }
      ]
    },
    {
      "cell_type": "markdown",
      "metadata": {
        "id": "sLK2qoS_oW_j"
      },
      "source": [
        "- Use a Random Forest and a Gradiend Boosted Tree Classifier model to predict the label of the particles. get the score of the model on the training and test set and comment on the result for each model.\n"
      ]
    },
    {
      "cell_type": "code",
      "metadata": {
        "id": "KcbE8dfOubyE"
      },
      "source": [
        "max_depth_test = [1, 2, 3, 4, 5, 6, 7, 8, 9, 10, None]\n",
        "rng = np.random.RandomState(193)"
      ],
      "execution_count": null,
      "outputs": []
    },
    {
      "cell_type": "code",
      "metadata": {
        "colab": {
          "base_uri": "https://localhost:8080/"
        },
        "id": "462TUGMFa0Fq",
        "outputId": "de5dbfa1-3726-4804-f7db-fdd4597d252f"
      },
      "source": [
        "for md in max_depth_test:\n",
        "    rf =  RandomForestClassifier(\n",
        "        n_estimators=10,\n",
        "        criterion=\"gini\",\n",
        "        max_depth=md,\n",
        "        random_state=rng\n",
        "    )\n",
        "    rf_fit = rf.fit(Xtrain, Ltrain)\n",
        "    test_score = rf.score(Xtest, Ltest)\n",
        "    train_score = rf.score(Xtrain, Ltrain)\n",
        "    print(f\"Max Depth: {md}\")\n",
        "    print(f\"    Train Score: {train_score:.3f}\")\n",
        "    print(f\"    Test Score: {test_score:.3f}\")"
      ],
      "execution_count": 36,
      "outputs": [
        {
          "output_type": "stream",
          "name": "stdout",
          "text": [
            "Max Depth: 1\n",
            "    Train Score: 0.656\n",
            "    Test Score: 0.660\n",
            "Max Depth: 2\n",
            "    Train Score: 0.724\n",
            "    Test Score: 0.724\n",
            "Max Depth: 3\n",
            "    Train Score: 0.768\n",
            "    Test Score: 0.768\n",
            "Max Depth: 4\n",
            "    Train Score: 0.803\n",
            "    Test Score: 0.801\n",
            "Max Depth: 5\n",
            "    Train Score: 0.811\n",
            "    Test Score: 0.809\n",
            "Max Depth: 6\n",
            "    Train Score: 0.819\n",
            "    Test Score: 0.815\n",
            "Max Depth: 7\n",
            "    Train Score: 0.821\n",
            "    Test Score: 0.818\n",
            "Max Depth: 8\n",
            "    Train Score: 0.830\n",
            "    Test Score: 0.825\n",
            "Max Depth: 9\n",
            "    Train Score: 0.835\n",
            "    Test Score: 0.825\n",
            "Max Depth: 10\n",
            "    Train Score: 0.842\n",
            "    Test Score: 0.828\n",
            "Max Depth: None\n",
            "    Train Score: 0.988\n",
            "    Test Score: 0.821\n"
          ]
        }
      ]
    },
    {
      "cell_type": "markdown",
      "metadata": {
        "id": "bB_PU5nzm5lC"
      },
      "source": [
        "# Random Forest Classifier Discussion\n",
        "\n",
        "We nootice that for the training and test sets the score of the classifier plateaus at a max depth of 4. We also note that at a max depth of 9 the test score is 1 percent lower than the train score. Setting max depth to none yields a fully overfitted dataset. We choose a max depth of 4 for this work."
      ]
    },
    {
      "cell_type": "code",
      "metadata": {
        "colab": {
          "base_uri": "https://localhost:8080/"
        },
        "id": "-B19BjqKnYq6",
        "outputId": "da22fd47-309e-47e1-e8e8-9624407b76df"
      },
      "source": [
        "rf =  RandomForestClassifier(\n",
        "    n_estimators=100,\n",
        "    criterion=\"gini\",\n",
        "    max_depth=4,\n",
        "    random_state=rng\n",
        ")\n",
        "rf_fit = rf.fit(Xtrain, Ltrain)\n",
        "test_score = rf.score(Xtest, Ltest)\n",
        "train_score = rf.score(Xtrain, Ltrain)\n",
        "print(f\"Max Depth: {4}\")\n",
        "print(f\"    Train Score: {train_score:.3f}\")\n",
        "print(f\"    Test Score: {test_score:.3f}\")"
      ],
      "execution_count": 40,
      "outputs": [
        {
          "output_type": "stream",
          "name": "stdout",
          "text": [
            "Max Depth: None\n",
            "    Train Score: 0.812\n",
            "    Test Score: 0.811\n"
          ]
        }
      ]
    },
    {
      "cell_type": "code",
      "metadata": {
        "colab": {
          "base_uri": "https://localhost:8080/"
        },
        "id": "MiYrAgfkhqia",
        "outputId": "c09c531e-8e44-415d-951e-9cec7e2100b9"
      },
      "source": [
        "for md in max_depth_test:\n",
        "    gbt =  GradientBoostingClassifier(\n",
        "        n_estimators=10,\n",
        "        # criterion=\"gini\",\n",
        "        max_depth=md,\n",
        "        random_state=rng\n",
        "    )\n",
        "    gbt_fit = gbt.fit(Xtrain, Ltrain)\n",
        "    test_score = gbt.score(Xtest, Ltest)\n",
        "    train_score = gbt.score(Xtrain, Ltrain)\n",
        "    print(f\"Max Depth: {md}\")\n",
        "    print(f\"    Train Score: {train_score:.3f}\")\n",
        "    print(f\"    Test Score: {test_score:.3f}\")"
      ],
      "execution_count": 37,
      "outputs": [
        {
          "output_type": "stream",
          "name": "stdout",
          "text": [
            "Max Depth: 1\n",
            "    Train Score: 0.656\n",
            "    Test Score: 0.660\n",
            "Max Depth: 2\n",
            "    Train Score: 0.793\n",
            "    Test Score: 0.793\n",
            "Max Depth: 3\n",
            "    Train Score: 0.804\n",
            "    Test Score: 0.803\n",
            "Max Depth: 4\n",
            "    Train Score: 0.808\n",
            "    Test Score: 0.807\n",
            "Max Depth: 5\n",
            "    Train Score: 0.815\n",
            "    Test Score: 0.814\n",
            "Max Depth: 6\n",
            "    Train Score: 0.825\n",
            "    Test Score: 0.822\n",
            "Max Depth: 7\n",
            "    Train Score: 0.829\n",
            "    Test Score: 0.824\n",
            "Max Depth: 8\n",
            "    Train Score: 0.836\n",
            "    Test Score: 0.827\n",
            "Max Depth: 9\n",
            "    Train Score: 0.844\n",
            "    Test Score: 0.828\n",
            "Max Depth: 10\n",
            "    Train Score: 0.855\n",
            "    Test Score: 0.829\n",
            "Max Depth: None\n",
            "    Train Score: 1.000\n",
            "    Test Score: 0.768\n"
          ]
        }
      ]
    },
    {
      "cell_type": "markdown",
      "metadata": {
        "id": "Ra82JayCndNv"
      },
      "source": [
        "# Gradient Boosting Classifier Discussion\n",
        "\n",
        "We nootice that for the training and test sets the score of the classifier plateaus at a max depth of 2 or 3. We also note that at a max depth of 8 the test score is almost 1 percent lower than the train score. Setting max depth to none yields a fully overfitted dataset. We choose a max depth of 3 for this work."
      ]
    },
    {
      "cell_type": "code",
      "metadata": {
        "colab": {
          "base_uri": "https://localhost:8080/"
        },
        "id": "VH3K3r-Sn6lj",
        "outputId": "48b5545c-7474-4eec-98a0-93da2feccfa2"
      },
      "source": [
        "gbt =  GradientBoostingClassifier(\n",
        "    n_estimators=100,\n",
        "    # criterion=\"gini\",\n",
        "    max_depth=3,\n",
        "    random_state=rng\n",
        ")\n",
        "gbt_fit = gbt.fit(Xtrain, Ltrain)\n",
        "test_score = gbt.score(Xtest, Ltest)\n",
        "train_score = gbt.score(Xtrain, Ltrain)\n",
        "print(f\"Max Depth: {3}\")\n",
        "print(f\"    Train Score: {train_score:.3f}\")\n",
        "print(f\"    Test Score: {test_score:.3f}\")"
      ],
      "execution_count": 43,
      "outputs": [
        {
          "output_type": "stream",
          "name": "stdout",
          "text": [
            "Max Depth: None\n",
            "    Train Score: 0.835\n",
            "    Test Score: 0.831\n"
          ]
        }
      ]
    },
    {
      "cell_type": "markdown",
      "metadata": {
        "id": "6aiULt4TP8kn"
      },
      "source": [
        "- Produce a confusion matrix for each model and compare them\n",
        "\n",
        "\n",
        " \n",
        "\n"
      ]
    },
    {
      "cell_type": "code",
      "metadata": {
        "id": "ak3gnF6duviH"
      },
      "source": [
        "\n",
        "pl = plt\n",
        "# I creaded this function (mostly copied from sklearn examples). \n",
        "# You can use it to create the confusion matrix\n",
        "from mpl_toolkits.axes_grid1.axes_divider import make_axes_locatable\n",
        "from sklearn.metrics import confusion_matrix\n",
        "def plot_confusion_matrix(y_true, y_pred,\n",
        "                          normalize=False,\n",
        "                          title='',\n",
        "                          cmap=pl.cm.bone):\n",
        "    \"\"\"\n",
        "    This function prints and plots the confusion matrix.\n",
        "    Normalization can be applied by setting `normalize=True`.\n",
        "    \"\"\"         \n",
        "    if normalize:\n",
        "          title = title + ' Normalized confusion matrix'\n",
        "    else:\n",
        "          title = title + ' Confusion matrix, without normalization'\n",
        "\n",
        "    # Compute confusion matrix\n",
        "    cm = confusion_matrix(y_true, y_pred)\n",
        "    # plot it\n",
        "    fig, ax = plt.subplots(1, 1)\n",
        "    fig.subplots_adjust()\n",
        "    im = ax.imshow(cm, cmap=cmap)\n",
        "    ax_divider = make_axes_locatable(ax)\n",
        "    # add an axes to the right of the main axes.\n",
        "    pl.xticks([0, 1], labels=[\"N\", \"P\"])\n",
        "    pl.ylim(-0.5,1.5)\n",
        "    pl.yticks([0,1], labels=[\"N\", \"P\"])    \n",
        "    pl.title(title)\n",
        "    cax = ax_divider.append_axes(\"right\", size=\"10%\", pad=\"2%\")\n",
        "    cb = pl.colorbar(im, cax=cax)\n",
        "    "
      ],
      "execution_count": 46,
      "outputs": []
    },
    {
      "cell_type": "code",
      "metadata": {
        "id": "isbiIC8qxEA6",
        "colab": {
          "base_uri": "https://localhost:8080/",
          "height": 281
        },
        "outputId": "49aeabb6-d4ad-4ba3-d011-65333259246b"
      },
      "source": [
        "plot_confusion_matrix(rf.predict(Xtest.values), Ltest.values, title=\"RF\")"
      ],
      "execution_count": 51,
      "outputs": [
        {
          "output_type": "display_data",
          "data": {
            "image/png": "[encoded data removed]",
            "text/plain": [
              "<Figure size 432x288 with 2 Axes>"
            ]
          },
          "metadata": {
            "needs_background": "light"
          }
        }
      ]
    },
    {
      "cell_type": "markdown",
      "metadata": {
        "id": "T19ni5Vgq2FC"
      },
      "source": [
        "### Figure 1: Confusion matrix for the Random Forest classifier with a max depth of 4 and 100 estimators. We see that the model performs well at predicting true negatives, whereas prediciting true positives was more difficult for this model. Without domain knowledge, it is impossible to know whether this confusion matrix would be acceptable for the problem it is trying to solve."
      ]
    },
    {
      "cell_type": "code",
      "metadata": {
        "colab": {
          "base_uri": "https://localhost:8080/"
        },
        "id": "DRPWoZ0sr9VJ",
        "outputId": "525e3915-41ee-48a2-dee3-84d1fdde3287"
      },
      "source": [
        "Ltest.shape"
      ],
      "execution_count": 56,
      "outputs": [
        {
          "output_type": "execute_result",
          "data": {
            "text/plain": [
              "(100000,)"
            ]
          },
          "metadata": {},
          "execution_count": 56
        }
      ]
    },
    {
      "cell_type": "code",
      "metadata": {
        "id": "CgQcTMFuxZV4",
        "colab": {
          "base_uri": "https://localhost:8080/",
          "height": 281
        },
        "outputId": "766934b7-17c2-4a24-aaae-fe1a16c05986"
      },
      "source": [
        "plot_confusion_matrix(gbt.predict(Xtest.values), Ltest.values, title=\"GBT\")"
      ],
      "execution_count": 53,
      "outputs": [
        {
          "output_type": "display_data",
          "data": {
            "image/png": "[encoded data removed]",
            "text/plain": [
              "<Figure size 432x288 with 2 Axes>"
            ]
          },
          "metadata": {
            "needs_background": "light"
          }
        }
      ]
    },
    {
      "cell_type": "markdown",
      "metadata": {
        "id": "Uhdd_swQr12R"
      },
      "source": [
        "### Figure 2: Confusion matrix for the Gradient Boosting classifier with a max depth of 3 and 100 estimators. We see that the model performs well at predicting true negatives, whereas prediciting true positives was more difficult for this model. Without domain knowledge, it is impossible to know whether this confusion matrix would be acceptable for the problem it is trying to solve. This model performs similarly to the Random Forest Classifier shown in Figure 1."
      ]
    },
    {
      "cell_type": "markdown",
      "metadata": {
        "id": "TbZQ3kMSQFK6"
      },
      "source": [
        "\n",
        "- Use a Random Forest and a Gradiend Boosted Tree Regressor model to predict the weight of the particles. Compare the model performance on training and test setsm\n"
      ]
    },
    {
      "cell_type": "code",
      "metadata": {
        "colab": {
          "base_uri": "https://localhost:8080/"
        },
        "id": "y3Kw9Ihjsl5x",
        "outputId": "c43d9261-6b26-4455-fe87-3ca66ec05609"
      },
      "source": [
        "for md in max_depth_test:\n",
        "    rfr =  RandomForestRegressor(\n",
        "        n_estimators=10,\n",
        "        criterion=\"squared_error\",\n",
        "        max_depth=md,\n",
        "        random_state=rng\n",
        "    )\n",
        "    rfr_fit = rfr.fit(Xtrain, Wtrain)\n",
        "    test_score = rfr.score(Xtest, Wtest)\n",
        "    train_score = rfr.score(Xtrain, Wtrain)\n",
        "    print(f\"Max Depth: {md}\")\n",
        "    print(f\"    Train Score: {train_score:.3f}\")\n",
        "    print(f\"    Test Score: {test_score:.3f}\")"
      ],
      "execution_count": 62,
      "outputs": [
        {
          "output_type": "stream",
          "name": "stdout",
          "text": [
            "Max Depth: 1\n",
            "    Train Score: 0.253\n",
            "    Test Score: 0.253\n",
            "Max Depth: 2\n",
            "    Train Score: 0.417\n",
            "    Test Score: 0.417\n",
            "Max Depth: 3\n",
            "    Train Score: 0.480\n",
            "    Test Score: 0.478\n",
            "Max Depth: 4\n",
            "    Train Score: 0.523\n",
            "    Test Score: 0.520\n",
            "Max Depth: 5\n",
            "    Train Score: 0.554\n",
            "    Test Score: 0.550\n",
            "Max Depth: 6\n",
            "    Train Score: 0.583\n",
            "    Test Score: 0.575\n",
            "Max Depth: 7\n",
            "    Train Score: 0.602\n",
            "    Test Score: 0.588\n",
            "Max Depth: 8\n",
            "    Train Score: 0.621\n",
            "    Test Score: 0.600\n",
            "Max Depth: 9\n",
            "    Train Score: 0.639\n",
            "    Test Score: 0.605\n",
            "Max Depth: 10\n",
            "    Train Score: 0.661\n",
            "    Test Score: 0.611\n",
            "Max Depth: None\n",
            "    Train Score: 0.926\n",
            "    Test Score: 0.583\n"
          ]
        }
      ]
    },
    {
      "cell_type": "markdown",
      "metadata": {
        "id": "94xMma4gttuD"
      },
      "source": [
        "We see that this random forest regressor starts to become overfitted at a max depth of about 7 when the test score lags behind the train score by more than 1 percent. We choose max depth of 6 for this work."
      ]
    },
    {
      "cell_type": "code",
      "metadata": {
        "colab": {
          "base_uri": "https://localhost:8080/"
        },
        "id": "wF-vF9BmuPqs",
        "outputId": "eb9b1c65-8971-43c0-8e72-fcccaeae9a06"
      },
      "source": [
        "rfr =  RandomForestRegressor(\n",
        "    n_estimators=100,\n",
        "    criterion=\"squared_error\",\n",
        "    max_depth=6,\n",
        "    random_state=rng\n",
        ")\n",
        "rfr_fit = rfr.fit(Xtrain, Wtrain)\n",
        "test_score = rfr.score(Xtest, Wtest)\n",
        "train_score = rfr.score(Xtrain, Wtrain)\n",
        "print(f\"Max Depth: {6}\")\n",
        "print(f\"    Train Score: {train_score:.3f}\")\n",
        "print(f\"    Test Score: {test_score:.3f}\")"
      ],
      "execution_count": 77,
      "outputs": [
        {
          "output_type": "stream",
          "name": "stdout",
          "text": [
            "Max Depth: 6\n",
            "    Train Score: 0.584\n",
            "    Test Score: 0.576\n"
          ]
        }
      ]
    },
    {
      "cell_type": "code",
      "metadata": {
        "colab": {
          "base_uri": "https://localhost:8080/"
        },
        "id": "r0KiFqNguOSi",
        "outputId": "7769bc20-0420-42a2-a27e-6779cadd9bac"
      },
      "source": [
        "for md in max_depth_test:\n",
        "    gbtr =  GradientBoostingRegressor(\n",
        "        n_estimators=10,\n",
        "        criterion=\"squared_error\",\n",
        "        max_depth=md,\n",
        "        random_state=rng\n",
        "    )\n",
        "    gbtr_fit = gbtr.fit(Xtrain, Wtrain)\n",
        "    test_score = gbtr.score(Xtest, Wtest)\n",
        "    train_score = gbtr.score(Xtrain, Wtrain)\n",
        "    print(f\"Max Depth: {md}\")\n",
        "    print(f\"    Train Score: {train_score:.3f}\")\n",
        "    print(f\"    Test Score: {test_score:.3f}\")"
      ],
      "execution_count": 65,
      "outputs": [
        {
          "output_type": "stream",
          "name": "stdout",
          "text": [
            "Max Depth: 1\n",
            "    Train Score: 0.289\n",
            "    Test Score: 0.289\n",
            "Max Depth: 2\n",
            "    Train Score: 0.406\n",
            "    Test Score: 0.404\n",
            "Max Depth: 3\n",
            "    Train Score: 0.452\n",
            "    Test Score: 0.449\n",
            "Max Depth: 4\n",
            "    Train Score: 0.484\n",
            "    Test Score: 0.480\n",
            "Max Depth: 5\n",
            "    Train Score: 0.505\n",
            "    Test Score: 0.498\n",
            "Max Depth: 6\n",
            "    Train Score: 0.522\n",
            "    Test Score: 0.512\n",
            "Max Depth: 7\n",
            "    Train Score: 0.538\n",
            "    Test Score: 0.524\n",
            "Max Depth: 8\n",
            "    Train Score: 0.553\n",
            "    Test Score: 0.531\n",
            "Max Depth: 9\n",
            "    Train Score: 0.570\n",
            "    Test Score: 0.536\n",
            "Max Depth: 10\n",
            "    Train Score: 0.591\n",
            "    Test Score: 0.539\n",
            "Max Depth: None\n",
            "    Train Score: 0.878\n",
            "    Test Score: 0.409\n"
          ]
        }
      ]
    },
    {
      "cell_type": "markdown",
      "metadata": {
        "id": "Dp_rLGJswYna"
      },
      "source": [
        "We see that this gradient boosting regressor starts to become overfitted at a max depth of about 6 when the test score lags behind the train score by almost 1 percent. We choose max depth of 5 for this work."
      ]
    },
    {
      "cell_type": "code",
      "metadata": {
        "colab": {
          "base_uri": "https://localhost:8080/"
        },
        "id": "WH8zB9Q8upu7",
        "outputId": "061b1eb8-bd84-44ff-b4b5-5c4b03d1b3c6"
      },
      "source": [
        "gbtr =  GradientBoostingRegressor(\n",
        "    n_estimators=100,\n",
        "    criterion=\"squared_error\",\n",
        "    max_depth=5,\n",
        "    random_state=rng\n",
        ")\n",
        "gbtr_fit = gbtr.fit(Xtrain, Wtrain)\n",
        "test_score = gbtr.score(Xtest, Wtest)\n",
        "train_score = gbtr.score(Xtrain, Wtrain)\n",
        "print(f\"Max Depth: {5}\")\n",
        "print(f\"    Train Score: {train_score:.3f}\")\n",
        "print(f\"    Test Score: {test_score:.3f}\")"
      ],
      "execution_count": 76,
      "outputs": [
        {
          "output_type": "stream",
          "name": "stdout",
          "text": [
            "Max Depth: 5\n",
            "    Train Score: 0.646\n",
            "    Test Score: 0.622\n"
          ]
        }
      ]
    },
    {
      "cell_type": "markdown",
      "metadata": {
        "id": "CKvyqcFr3Z3d"
      },
      "source": [
        " Calculate the L2 and L1 loss functions for the fitted regression models (see slides for the definition) and discuss the results"
      ]
    },
    {
      "cell_type": "code",
      "metadata": {
        "id": "cUngfLrr0Mnl"
      },
      "source": [
        "def L(X, Y, model, p):\n",
        "    return np.sum(np.power(np.abs(Y - model.predict(X)), p), axis=0)"
      ],
      "execution_count": 78,
      "outputs": []
    },
    {
      "cell_type": "code",
      "metadata": {
        "id": "UkanVFfO3HBe",
        "colab": {
          "base_uri": "https://localhost:8080/"
        },
        "outputId": "73a42f09-0e5c-46f8-89a8-5024b0818932"
      },
      "source": [
        "print(f\"L1 RF: {L(Xtest, Wtest, rfr, 1)}\")\n",
        "print(f\"L2 RF: {L(Xtest, Wtest, rfr, 2)}\")\n",
        "print()\n",
        "print(f\"L1 GBT: {L(Xtest, Wtest, gbtr, 1)}\")\n",
        "print(f\"L2 GBT: {L(Xtest, Wtest, gbtr, 2)}\")"
      ],
      "execution_count": 79,
      "outputs": [
        {
          "output_type": "stream",
          "name": "stdout",
          "text": [
            "L1 RF: 88422.41038259173\n",
            "L2 RF: 149212.61167265577\n",
            "\n",
            "L1 GBT: 81314.48220373476\n",
            "L2 GBT: 132932.8809652285\n"
          ]
        }
      ]
    },
    {
      "cell_type": "markdown",
      "metadata": {
        "id": "VKE-eTSA56dO"
      },
      "source": [
        "L1 and L2 loss functions calculated for the random forest and gradient boosting regressors. The criteria for quality of each split for both models was \"squared error\" which likely corresponds to the L2 loss function. In both cases, the gradient boosting model performs better."
      ]
    },
    {
      "cell_type": "markdown",
      "metadata": {
        "id": "X9QZDqBM6Qiw"
      },
      "source": [
        "# For the Random Forest Classifier, select the 4 most important features (see how in the Titanic notebook)"
      ]
    },
    {
      "cell_type": "code",
      "metadata": {
        "colab": {
          "base_uri": "https://localhost:8080/"
        },
        "id": "ABhDz-2T6Tcr",
        "outputId": "46ea7b09-9571-4936-f2dd-a246b733e545"
      },
      "source": [
        "print(\"Random Forest feature importance\")\n",
        "for f, fi in zip(higgsdata.columns, rf.feature_importances_):\n",
        "  print(f, fi.round(2))"
      ],
      "execution_count": 82,
      "outputs": [
        {
          "output_type": "stream",
          "name": "stdout",
          "text": [
            "Random Forest feature importance\n",
            "EventId 0.0\n",
            "DER_mass_MMC 0.27\n",
            "DER_mass_transverse_met_lep 0.19\n",
            "DER_mass_vis 0.08\n",
            "DER_pt_h 0.01\n",
            "DER_deltaeta_jet_jet 0.03\n",
            "DER_mass_jet_jet 0.03\n",
            "DER_prodeta_jet_jet 0.01\n",
            "DER_deltar_tau_lep 0.02\n",
            "DER_pt_tot 0.0\n",
            "DER_sum_pt 0.02\n",
            "DER_pt_ratio_lep_tau 0.06\n",
            "DER_met_phi_centrality 0.09\n",
            "DER_lep_eta_centrality 0.03\n",
            "PRI_tau_pt 0.1\n",
            "PRI_tau_eta 0.0\n",
            "PRI_tau_phi 0.0\n",
            "PRI_lep_pt 0.0\n",
            "PRI_lep_eta 0.0\n",
            "PRI_lep_phi 0.0\n",
            "PRI_met 0.02\n",
            "PRI_met_phi 0.0\n",
            "PRI_met_sumet 0.0\n",
            "PRI_jet_num 0.0\n",
            "PRI_jet_leading_pt 0.01\n",
            "PRI_jet_leading_eta 0.0\n",
            "PRI_jet_leading_phi 0.0\n",
            "PRI_jet_subleading_pt 0.0\n",
            "PRI_jet_subleading_eta 0.0\n",
            "PRI_jet_subleading_phi 0.0\n",
            "PRI_jet_all_pt 0.01\n"
          ]
        }
      ]
    },
    {
      "cell_type": "markdown",
      "metadata": {
        "id": "WkTu7XKn69hy"
      },
      "source": [
        "The four most important features are:\n",
        "*   DER_mass_MMC\n",
        "*   DER_mass_transverse_met_lep\n",
        "*   DER_met_phi_centrality\n",
        "*   DER_mass_vis\n",
        "\n",
        "These features represent:\n",
        "*   The estimated mass of the Higgs candidate.\n",
        "*   The transverse mass between the missing transverse energy and the leptop.\n",
        "*   The centrality of the azimuthal angle of the missing transverse energy vector w.r.t. the hadronic tau and the lepton.\n",
        "*   The invariant mass of the hadronic tau and the lepton.\n",
        "\n"
      ]
    },
    {
      "cell_type": "markdown",
      "metadata": {
        "id": "c38At7ayYd_5"
      },
      "source": [
        "- For the Random Forest classifier, find the 4 most important features based on the simple unoptimized model you created earlier on. Use the documentation to find out what they are. We have not talked abotu the physics of this problem at all but the Kaggle challenge description should provide enogh information for you to comment on this result is somewhat superficially.\n",
        "\n",
        "    You can use ```rf.feature_importance_``` on the trained model to extract the relative importance of each feature (a number from 0 to 1) and then choose the features that have the 4 highest numbers (the numpy function ```argsort()``` is helpful here!)\n",
        "\n",
        "- Explore the parameter space with the sklearn module ```sklearn.model_selection.RandomizedSearchCV``` *fitting only those 4 features*\n",
        "\n",
        "    Follow this example to set up the parameter search. Set the estimators to 10 and 100, (the number of trees) and the max depth to 3, and 10, and None (let it be unconstrained). Set bootstrap to both True and False. Set the number of features to consider at every split to both \"autp\" and \"sqrt\". Use ```pprint``` like I did earlier in this notebook to print the parameters set\n",
        "\n",
        "**this takes some computational time! so do not start this at the last minute!!**\n",
        "\n",
        " \n",
        "\n"
      ]
    },
    {
      "cell_type": "code",
      "metadata": {
        "id": "xOO0ktrX7vdM"
      },
      "source": [
        "feats = [\"DER_mass_MMC\",\n",
        "         \"DER_mass_transverse_met_lep\",\n",
        "         \"DER_met_phi_centrality\",\n",
        "         \"DER_mass_vis\"]\n",
        "random_grid = {'max_depth': [3, 10, None],\n",
        "               'max_features': ['auto', 'sqrt'],\n",
        "               'n_estimators': [10, 100, 1000]}"
      ],
      "execution_count": 88,
      "outputs": []
    },
    {
      "cell_type": "code",
      "metadata": {
        "id": "Sm0OqNdJ8etb"
      },
      "source": [
        "RandomizedSearchCV?"
      ],
      "execution_count": 91,
      "outputs": []
    },
    {
      "cell_type": "code",
      "metadata": {
        "id": "1AJ70oqZPvL_"
      },
      "source": [
        "# Use the random grid to search for best hyperparameters\n",
        "# First create the base model to tune\n",
        "# Random search of parameters, using 3 fold cross validation, \n",
        "# search across 18 different combinations\n",
        "random_search = RandomizedSearchCV(estimator = rf, param_distributions=random_grid,\n",
        "                                   n_iter=1, cv=3)\n"
      ],
      "execution_count": 92,
      "outputs": []
    },
    {
      "cell_type": "markdown",
      "metadata": {
        "id": "T3W60KM1Jb5r"
      },
      "source": [
        "Note that this may take a long time! It took 1 hour for me to run this. Dont start at the last minute!!"
      ]
    },
    {
      "cell_type": "code",
      "metadata": {
        "id": "nCzypqyrtsEg",
        "colab": {
          "base_uri": "https://localhost:8080/"
        },
        "outputId": "cbb933bb-dcc7-4c4d-cbd9-be1d83bc1594"
      },
      "source": [
        "random_search.fit(Xtrain, y=Ltrain)\n",
        "                  "
      ],
      "execution_count": 95,
      "outputs": [
        {
          "output_type": "execute_result",
          "data": {
            "text/plain": [
              "RandomizedSearchCV(cv=3,\n",
              "                   estimator=RandomForestClassifier(max_depth=4,\n",
              "                                                    random_state=RandomState(MT19937) at 0x7FA20AF9F160),\n",
              "                   n_iter=1,\n",
              "                   param_distributions={'max_depth': [3, 10, None],\n",
              "                                        'max_features': ['auto', 'sqrt'],\n",
              "                                        'n_estimators': [10, 100, 1000]})"
            ]
          },
          "metadata": {},
          "execution_count": 95
        }
      ]
    },
    {
      "cell_type": "code",
      "metadata": {
        "colab": {
          "base_uri": "https://localhost:8080/"
        },
        "id": "GpfPW1HVDnDY",
        "outputId": "24cbabb3-bdbb-4892-a1f5-196d6c4c3bfe"
      },
      "source": [
        "random_search.best_estimator_"
      ],
      "execution_count": 96,
      "outputs": [
        {
          "output_type": "execute_result",
          "data": {
            "text/plain": [
              "RandomForestClassifier(max_depth=10, n_estimators=1000,\n",
              "                       random_state=RandomState(MT19937) at 0x7FA20F6DAE20)"
            ]
          },
          "metadata": {},
          "execution_count": 96
        }
      ]
    },
    {
      "cell_type": "code",
      "metadata": {
        "colab": {
          "base_uri": "https://localhost:8080/"
        },
        "id": "weDZfbHJDsRm",
        "outputId": "d7c98f55-f740-4613-9e55-141a6913c346"
      },
      "source": [
        "random_search.best_params_"
      ],
      "execution_count": 97,
      "outputs": [
        {
          "output_type": "execute_result",
          "data": {
            "text/plain": [
              "{'n_estimators': 1000, 'max_features': 'auto', 'max_depth': 10}"
            ]
          },
          "metadata": {},
          "execution_count": 97
        }
      ]
    },
    {
      "cell_type": "code",
      "metadata": {
        "id": "0-b40t1pDv0B"
      },
      "source": [
        "rf_random = RandomForestClassifier(**random_search.best_params_)"
      ],
      "execution_count": 98,
      "outputs": []
    },
    {
      "cell_type": "code",
      "metadata": {
        "id": "Y6hcHZ_TD5HE"
      },
      "source": [
        "rf_random_fit = rf_random.fit(Xtrain, Ltrain)"
      ],
      "execution_count": 99,
      "outputs": []
    },
    {
      "cell_type": "code",
      "metadata": {
        "colab": {
          "base_uri": "https://localhost:8080/"
        },
        "id": "d_p-7lqtD-wv",
        "outputId": "d4faa086-10a1-409c-fe17-3235d46a9d03"
      },
      "source": [
        "rf_random_fit.score(Xtrain, Ltrain), rf_random_fit.score(Xtest, Ltest)"
      ],
      "execution_count": 100,
      "outputs": [
        {
          "output_type": "execute_result",
          "data": {
            "text/plain": [
              "(0.8439466666666666, 0.83072)"
            ]
          },
          "metadata": {},
          "execution_count": 100
        }
      ]
    },
    {
      "cell_type": "code",
      "metadata": {
        "id": "WaHvlFa27EV4"
      },
      "source": [
        "df = pd.DataFrame(random_search.cv_results_)\n"
      ],
      "execution_count": 101,
      "outputs": []
    },
    {
      "cell_type": "code",
      "metadata": {
        "id": "6pcXfIzb7eEw",
        "colab": {
          "base_uri": "https://localhost:8080/",
          "height": 151
        },
        "outputId": "93843273-cf0d-4b9a-a814-4a3cf275e186"
      },
      "source": [
        "df"
      ],
      "execution_count": 102,
      "outputs": [
        {
          "output_type": "execute_result",
          "data": {
            "text/html": [
              "<div>\n",
              "<style scoped>\n",
              "    .dataframe tbody tr th:only-of-type {\n",
              "        vertical-align: middle;\n",
              "    }\n",
              "\n",
              "    .dataframe tbody tr th {\n",
              "        vertical-align: top;\n",
              "    }\n",
              "\n",
              "    .dataframe thead th {\n",
              "        text-align: right;\n",
              "    }\n",
              "</style>\n",
              "<table border=\"1\" class=\"dataframe\">\n",
              "  <thead>\n",
              "    <tr style=\"text-align: right;\">\n",
              "      <th></th>\n",
              "      <th>mean_fit_time</th>\n",
              "      <th>std_fit_time</th>\n",
              "      <th>mean_score_time</th>\n",
              "      <th>std_score_time</th>\n",
              "      <th>param_n_estimators</th>\n",
              "      <th>param_max_features</th>\n",
              "      <th>param_max_depth</th>\n",
              "      <th>params</th>\n",
              "      <th>split0_test_score</th>\n",
              "      <th>split1_test_score</th>\n",
              "      <th>split2_test_score</th>\n",
              "      <th>mean_test_score</th>\n",
              "      <th>std_test_score</th>\n",
              "      <th>rank_test_score</th>\n",
              "    </tr>\n",
              "  </thead>\n",
              "  <tbody>\n",
              "    <tr>\n",
              "      <th>0</th>\n",
              "      <td>359.601106</td>\n",
              "      <td>1.413564</td>\n",
              "      <td>7.814248</td>\n",
              "      <td>0.250386</td>\n",
              "      <td>1000</td>\n",
              "      <td>auto</td>\n",
              "      <td>10</td>\n",
              "      <td>{'n_estimators': 1000, 'max_features': 'auto',...</td>\n",
              "      <td>0.83088</td>\n",
              "      <td>0.832</td>\n",
              "      <td>0.8315</td>\n",
              "      <td>0.83146</td>\n",
              "      <td>0.000458</td>\n",
              "      <td>1</td>\n",
              "    </tr>\n",
              "  </tbody>\n",
              "</table>\n",
              "</div>"
            ],
            "text/plain": [
              "   mean_fit_time  std_fit_time  ...  std_test_score  rank_test_score\n",
              "0     359.601106      1.413564  ...        0.000458                1\n",
              "\n",
              "[1 rows x 14 columns]"
            ]
          },
          "metadata": {},
          "execution_count": 102
        }
      ]
    },
    {
      "cell_type": "code",
      "metadata": {
        "id": "0jiROnM7-E0n"
      },
      "source": [
        ""
      ],
      "execution_count": null,
      "outputs": []
    }
  ]
}