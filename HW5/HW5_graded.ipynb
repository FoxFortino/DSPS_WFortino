{
 "cells": [
  {
   "cell_type": "code",
   "execution_count": 1,
   "metadata": {},
   "outputs": [],
   "source": [
    "import numpy as np\n",
    "import pandas as pd\n",
    "import scipy as sp\n",
    "import astropy as ap\n",
    "import matplotlib.pyplot as plt\n",
    "import scipy.stats\n",
    "import scipy.optimize\n",
    "import astropy.time\n",
    "import astropy.units as u\n",
    "import astropy.constants as c\n",
    "\n",
    "# custom_mplstyle = (\"https://raw.githubusercontent.com/FoxFortino\"\n",
    "#                    \"/DSPS_WFortino/main/custom.mplstyle\")\n",
    "# plt.style.use(custom_mplstyle)"
   ]
  },
  {
   "cell_type": "code",
   "execution_count": 2,
   "metadata": {},
   "outputs": [
    {
     "data": {
      "text/html": [
       "<div>\n",
       "<style scoped>\n",
       "    .dataframe tbody tr th:only-of-type {\n",
       "        vertical-align: middle;\n",
       "    }\n",
       "\n",
       "    .dataframe tbody tr th {\n",
       "        vertical-align: top;\n",
       "    }\n",
       "\n",
       "    .dataframe thead th {\n",
       "        text-align: right;\n",
       "    }\n",
       "</style>\n",
       "<table border=\"1\" class=\"dataframe\">\n",
       "  <thead>\n",
       "    <tr style=\"text-align: right;\">\n",
       "      <th></th>\n",
       "      <th>#ID</th>\n",
       "      <th>x</th>\n",
       "      <th>y</th>\n",
       "      <th>σy</th>\n",
       "      <th>σx</th>\n",
       "      <th>ρxy</th>\n",
       "    </tr>\n",
       "  </thead>\n",
       "  <tbody>\n",
       "    <tr>\n",
       "      <th>0</th>\n",
       "      <td>1</td>\n",
       "      <td>201</td>\n",
       "      <td>592</td>\n",
       "      <td>61</td>\n",
       "      <td>9</td>\n",
       "      <td>-0.84</td>\n",
       "    </tr>\n",
       "    <tr>\n",
       "      <th>1</th>\n",
       "      <td>2</td>\n",
       "      <td>244</td>\n",
       "      <td>401</td>\n",
       "      <td>25</td>\n",
       "      <td>4</td>\n",
       "      <td>0.31</td>\n",
       "    </tr>\n",
       "    <tr>\n",
       "      <th>2</th>\n",
       "      <td>3</td>\n",
       "      <td>47</td>\n",
       "      <td>583</td>\n",
       "      <td>38</td>\n",
       "      <td>11</td>\n",
       "      <td>0.64</td>\n",
       "    </tr>\n",
       "    <tr>\n",
       "      <th>3</th>\n",
       "      <td>4</td>\n",
       "      <td>287</td>\n",
       "      <td>402</td>\n",
       "      <td>15</td>\n",
       "      <td>7</td>\n",
       "      <td>-0.27</td>\n",
       "    </tr>\n",
       "    <tr>\n",
       "      <th>4</th>\n",
       "      <td>5</td>\n",
       "      <td>203</td>\n",
       "      <td>495</td>\n",
       "      <td>21</td>\n",
       "      <td>5</td>\n",
       "      <td>-0.33</td>\n",
       "    </tr>\n",
       "  </tbody>\n",
       "</table>\n",
       "</div>"
      ],
      "text/plain": [
       "   #ID    x    y  σy  σx   ρxy\n",
       "0    1  201  592  61   9 -0.84\n",
       "1    2  244  401  25   4  0.31\n",
       "2    3   47  583  38  11  0.64\n",
       "3    4  287  402  15   7 -0.27\n",
       "4    5  203  495  21   5 -0.33"
      ]
     },
     "execution_count": 2,
     "metadata": {},
     "output_type": "execute_result"
    }
   ],
   "source": [
    "hbl2017_csv = (\"https://raw.githubusercontent.com/fedhere/DSPS_FBianco\"\n",
    "               \"/master/HW5/hbl2017.csv\")\n",
    "df = pd.read_csv(hbl2017_csv)\n",
    "df.head()"
   ]
  },
  {
   "cell_type": "markdown",
   "metadata": {},
   "source": [
    "# Exercise 1"
   ]
  },
  {
   "cell_type": "code",
   "execution_count": 3,
   "metadata": {},
   "outputs": [],
   "source": [
    "def linear_fit(X, Y, sigma_y):\n",
    "    A = np.vstack((np.ones_like(X), X)).T\n",
    "    C = np.diag(sigma_y**2)\n",
    "\n",
    "    C_inv = np.linalg.inv(C)\n",
    "    A_T = A.T\n",
    "    \n",
    "    cov = np.linalg.inv(A_T @ C_inv @ A)\n",
    "    b, m = cov @ (A_T @ C_inv @ Y)\n",
    "    \n",
    "    return b, m, cov\n",
    "\n",
    "\n",
    "def linear_model(x, b, m):\n",
    "    return b + m * x\n",
    "\n",
    "\n",
    "def plot_data(X, Y, sigma_y, model, params, label):\n",
    "    plt.errorbar(X, Y,\n",
    "                 yerr=sigma_y,\n",
    "                 ls=\"None\", marker=\"o\",\n",
    "                 elinewidth=1, capsize=4)\n",
    "\n",
    "    t = np.linspace(0, 300)\n",
    "    plt.plot(t, model(t, *params), label=label)\n",
    "\n",
    "    plt.xlabel(\"X\")\n",
    "    plt.ylabel(\"Y\")\n",
    "\n",
    "    plt.xlim((0, 300))\n",
    "    plt.ylim((0, None))\n",
    "\n",
    "    plt.legend(loc=\"upper left\")\n",
    "\n",
    "    plt.show()"
   ]
  },
  {
   "cell_type": "code",
   "execution_count": 4,
   "metadata": {},
   "outputs": [
    {
     "data": {
      "text/plain": [
       "(34.047727757542816,\n",
       " 2.239920831631096,\n",
       " array([[ 3.32922601e+02, -1.88954491e+00],\n",
       "        [-1.88954491e+00,  1.16166311e-02]]))"
      ]
     },
     "execution_count": 4,
     "metadata": {},
     "output_type": "execute_result"
    }
   ],
   "source": [
    "Y = df.y.values[4:]\n",
    "X = df.x.values[4:]\n",
    "sigma_y = df.σy.values[4:]\n",
    "\n",
    "b, m, cov = linear_fit(X, Y, sigma_y)\n",
    "b, m, cov"
   ]
  },
  {
   "cell_type": "code",
   "execution_count": 5,
   "metadata": {},
   "outputs": [
    {
     "data": {
      "image/png": "[encoded data removed]",
      "text/plain": [
       "<Figure size 432x288 with 1 Axes>"
      ]
     },
     "metadata": {
      "needs_background": "light"
     },
     "output_type": "display_data"
    }
   ],
   "source": [
    "label = (f\"$Y = ({m:.2f} \\pm {np.sqrt(cov[1, 1]):.2f}) x\"\n",
    "            f\" + ({b:.0f} \\pm {np.sqrt(cov[0, 0]):.0f})$\")\n",
    "plot_data(X, Y, sigma_y, linear_model, (b, m), label)"
   ]
  },
  {
   "cell_type": "markdown",
   "metadata": {},
   "source": [
    "### Figure 1: The least squares line of best fit (red) for the abridged data (blue) is shown. The slope of the line is 2.24 ± 0.11 and the y-intercept is 34 ± 18. The standard uncertainty variance, $\\sigma_m^2$, is 332."
   ]
  },
  {
   "cell_type": "markdown",
   "metadata": {},
   "source": [
    "# Exercise 2"
   ]
  },
  {
   "cell_type": "code",
   "execution_count": 6,
   "metadata": {},
   "outputs": [
    {
     "data": {
      "text/plain": [
       "(213.2734919759614,\n",
       " 1.0767475241683258,\n",
       " array([[ 2.07188189e+02, -1.05427206e+00],\n",
       "        [-1.05427206e+00,  5.99181008e-03]]))"
      ]
     },
     "execution_count": 6,
     "metadata": {},
     "output_type": "execute_result"
    }
   ],
   "source": [
    "Y = df.y.values\n",
    "X = df.x.values\n",
    "sigma_y = df.σy.values\n",
    "\n",
    "b, m, cov = linear_fit(X, Y, sigma_y)\n",
    "b, m, cov"
   ]
  },
  {
   "cell_type": "code",
   "execution_count": 7,
   "metadata": {},
   "outputs": [
    {
     "data": {
      "image/png": "[encoded data removed]",
      "text/plain": [
       "<Figure size 432x288 with 1 Axes>"
      ]
     },
     "metadata": {
      "needs_background": "light"
     },
     "output_type": "display_data"
    }
   ],
   "source": [
    "label = (f\"$Y = ({m:.2f} \\pm {np.sqrt(cov[1, 1]):.2f}) x\"\n",
    "            f\" + ({b:.0f} \\pm {np.sqrt(cov[0, 0]):.0f})$\")\n",
    "plot_data(X, Y, sigma_y, linear_model, (b, m), label)"
   ]
  },
  {
   "cell_type": "markdown",
   "metadata": {},
   "source": [
    "### Figure 2: The least squares line of best fit (red) for the entire dataset (blue) is shown. The slope of the line is 1.08 ± 0.08 and the y-intercept is 213 ± 14. The standard uncertainty variance, $\\sigma_m^2$, is 207. It is troubling now that the line of best fit intersects the uncertainty bars of only 5/20 data points. The additional data points seem to be outliers if we are assuming that this data should actually be a line with Gaussian noise."
   ]
  },
  {
   "cell_type": "markdown",
   "metadata": {},
   "source": [
    "# Exercise 3"
   ]
  },
  {
   "cell_type": "code",
   "execution_count": 8,
   "metadata": {},
   "outputs": [],
   "source": [
    "def quad_fit(X, Y, sigma_y):\n",
    "    A = np.vstack((np.ones_like(X), X, X**2)).T\n",
    "    C = np.diag(sigma_y**2)\n",
    "\n",
    "    C_inv = np.linalg.inv(C)\n",
    "    A_T = A.T\n",
    "    \n",
    "    cov = np.linalg.inv(A_T @ C_inv @ A)\n",
    "    b, m, q = cov @ (A_T @ C_inv @ Y)\n",
    "    \n",
    "    return b, m, q, cov\n",
    "\n",
    "\n",
    "def quad_model(x, b, m, q):\n",
    "    return b + m * x + q * x**2"
   ]
  },
  {
   "cell_type": "code",
   "execution_count": 9,
   "metadata": {},
   "outputs": [
    {
     "data": {
      "text/plain": [
       "(72.89462647168693,\n",
       " 1.5960504522746533,\n",
       " 0.0022988884081209804,\n",
       " array([[ 1.51410913e+03, -2.14671957e+01,  6.99004580e-02],\n",
       "        [-2.14671957e+01,  3.36107642e-01, -1.15856956e-03],\n",
       "        [ 6.99004580e-02, -1.15856956e-03,  4.13658125e-06]]))"
      ]
     },
     "execution_count": 9,
     "metadata": {},
     "output_type": "execute_result"
    }
   ],
   "source": [
    "Y = df.y.values[4:]\n",
    "X = df.x.values[4:]\n",
    "sigma_y = df.σy.values[4:]\n",
    "\n",
    "b, m, q, cov = quad_fit(X, Y, sigma_y)\n",
    "b, m, q, cov"
   ]
  },
  {
   "cell_type": "code",
   "execution_count": 10,
   "metadata": {},
   "outputs": [
    {
     "data": {
      "image/png": "[encoded data removed]",
      "text/plain": [
       "<Figure size 432x288 with 1 Axes>"
      ]
     },
     "metadata": {
      "needs_background": "light"
     },
     "output_type": "display_data"
    }
   ],
   "source": [
    "label = (f\"$Y = \"\n",
    "         f\"({q:.4f} \\pm {np.sqrt(cov[2, 2]):.4f}) x^2 + \"\n",
    "         f\"({m:.2f} \\pm {np.sqrt(cov[1, 1]):.2f}) x + \"\n",
    "         f\"({b:.0f} \\pm {np.sqrt(cov[0, 0]):.0f})$\")\n",
    "plot_data(X, Y, sigma_y, quad_model, (b, m, q), label)"
   ]
  },
  {
   "cell_type": "markdown",
   "metadata": {},
   "source": [
    "### Figure 3: A least squares fit of a quadratic model $q x^2 + m x + b$ (red) of the abridged data (blue) is shown. The parameters and their uncertainties are $q = 0.0023 \\pm 0.0020$, $m = 1.60 \\pm 0.58$, and $b = 73 \\pm 39$. The standard uncertainty variance on parameter m is $\\sigma_m = 0.36$."
   ]
  },
  {
   "cell_type": "markdown",
   "metadata": {},
   "source": [
    "# Exercise 4"
   ]
  },
  {
   "cell_type": "markdown",
   "metadata": {},
   "source": [
    "\\begin{align}\n",
    "    p(t_i | \\sigma_{t_i}, T) &= \\frac{1}{\\sqrt{2 \\pi \\sigma_{t_i}^2}} \\exp{ \\left( -\\frac{1}{2} \\frac{(t_i - T)^2}{\\sigma_{t_i}^2} \\right) } \\\\\n",
    "    \\mathcal{L} &= \\prod_{i=1}^{N} p(t_i | \\sigma_{t_i}, T) \\\\\n",
    "    \\mathcal{L} &= \\prod_{i=1}^{N} \\frac{1}{\\sqrt{2 \\pi \\sigma_{t_i}^2}} \\exp{\\left( -\\frac{1}{2} \\frac{(t_i - T)^2}{\\sigma_{t_i}^2} \\right)} \\\\\n",
    "    \\ln \\mathcal{L} &= \\ln \\prod_{i=1}^N \\frac{1}{\\sqrt{2 \\pi}} + \\ln \\prod_{i=1}^N \\frac{1}{\\sigma_{t_i}^2} + \\ln \\prod_{i=1}^N \\exp{\\left( -\\frac{1}{2} \\frac{(t_i - T)^2}{\\sigma_{t_i}^2} \\right)} \\\\\n",
    "    \\ln \\mathcal{L} &= \\ln \\prod_{i=1}^N \\frac{1}{\\sqrt{2 \\pi}} + \\ln \\prod_{i=1}^N \\frac{1}{\\sigma_{t_i}^2} + \\sum_{i=1}^N -\\frac{1}{2} \\frac{(t_i - T)^2}{\\sigma_{t_i}^2} \\\\\n",
    "    \\frac{\\partial \\mathcal{L}}{\\partial T} &= 0 \\\\\n",
    "    0 &= \\frac{\\partial}{\\partial T} \\sum_{i=1}^N -\\frac{1}{2} \\frac{(t_i - T)^2}{\\sigma_{t_i}^2} \\\\\n",
    "    0 &= \\sum_{i=1}^N -\\frac{1}{2 \\sigma_{t_i}^2} \\frac{\\partial}{\\partial T} (t_i - T)^2 \\\\\n",
    "    0 &= \\sum_{i=1}^N -\\frac{1}{2 \\sigma_{t_i}^2} (-2) (t_i - T) \\\\\n",
    "    0 &= \\sum_{i=1}^N \\frac{1}{\\sigma_{t_i}^2}(t_i - T) \\\\\n",
    "    \\sum_{i=1}^N \\frac{T}{\\sigma_{t_i}^2} &= \\sum_{i=1}^N \\frac{t_i}{\\sigma_{t_i}^2} \\\\\n",
    "    T \\sum_{i=1}^N \\frac{1}{\\sigma_{t_i}^2} &= \\sum_{i=1}^N \\frac{t_i}{\\sigma_{t_i}^2} \\\\\n",
    "    T &= \\frac{\\sum_{i=1}^N \\frac{t_i}{\\sigma_{t_i}^2}}{\\sum_{i=1}^N \\frac{1}{\\sigma_{t_i}^2}} \\qquad \\square\n",
    "\\end{align}"
   ]
  },
  {
   "cell_type": "markdown",
   "metadata": {},
   "source": [
    "---"
   ]
  },
  {
   "cell_type": "markdown",
   "metadata": {},
   "source": [
    "<h1 style=\"color:red\"> Awesome !</h1>\n"
   ]
  }
 ],
 "metadata": {
  "kernelspec": {
   "display_name": "Python 3",
   "language": "python",
   "name": "python3"
  },
  "language_info": {
   "codemirror_mode": {
    "name": "ipython",
    "version": 3
   },
   "file_extension": ".py",
   "mimetype": "text/x-python",
   "name": "python",
   "nbconvert_exporter": "python",
   "pygments_lexer": "ipython3",
   "version": "3.6.8"
  }
 },
 "nbformat": 4,
 "nbformat_minor": 5
}
